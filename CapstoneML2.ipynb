{
 "cells": [
  {
   "cell_type": "markdown",
   "metadata": {},
   "source": [
    "# Predicting Arrhythmia through EKG and Patient Data\n",
    "\n",
    "The EKG remains the gold standard for diagnostic of heart arrhythmia and ischemic attacks for patients experiencing cardiac symptoms. These could include chest pain, difficulty breathing, palpitations, and cardiac arrests. The protocol is to have an EKG measured and read within ten minutes of a patient's arrival to the emergency department, and in some cases, is repeated to monitor cardiac changes over time. \n",
    "\n",
    "Door to balloon time (DTBT) is an important performance measure for hospitals, and the target is to have the patient in the cathlab with balloon deployed within 90 minutes of arrival of the patient to the emergency room. The ability of prehospital care to transmit 12-lead EKGs has been instrumental in helping hospitals achieve this metric.\n",
    "\n",
    "Despite the improvement in DTBT to less than 90 minutes, there was no significant decrease in in-hospital mortality rates from 83 to 67 minutes. However, recent studies show that DTBT of less than 30 minutes reduced in-hospital mortality rates to 0.7% from 12.5% of a DTBT of > 90 minutes, 11.7% from 61-90 minutes, and 5.0% from 31-60 minutes (p=0.041).\n",
    "\n",
    "Thus, accurate classification of arrhythmia is crucial in triaging patients, providing appropriate and efficent treatment, and ultimately decreasing mortality rate of patients with MI. \n",
    "\n",
    "This dataset contains 452 patients with basic information such as patient height, weight, age, sex, and heart rate. It also contains data on their EKG including waveform characteristics such as peak intervals and intervals.\n",
    "\n",
    "\n"
   ]
  },
  {
   "cell_type": "code",
   "execution_count": 25,
   "metadata": {},
   "outputs": [],
   "source": [
    "import numpy as np\n",
    "import pandas as pd\n",
    "import matplotlib.pyplot as plt\n",
    "import scipy\n",
    "import seaborn as sns\n",
    "%matplotlib inline"
   ]
  },
  {
   "cell_type": "code",
   "execution_count": 177,
   "metadata": {},
   "outputs": [],
   "source": [
    "#Creating a plot to show differences in mortality rates based on time\n",
    "mortalityx = ['<30', '31-60', '61-90', '>90']\n",
    "mortalityx = ['>90', '61-90', '31-60', '<30']\n",
    "mortalityy = [0.7, 5.0, 11.7, 12.5]\n",
    "mortalityy = [12.5, 11.7, 5.0, 0.7]"
   ]
  },
  {
   "cell_type": "code",
   "execution_count": 178,
   "metadata": {},
   "outputs": [
    {
     "data": {
      "image/png": "[encoded data removed]",
      "text/plain": [
       "<Figure size 720x360 with 1 Axes>"
      ]
     },
     "metadata": {
      "needs_background": "light"
     },
     "output_type": "display_data"
    }
   ],
   "source": [
    "plt.figure(figsize=(10,5))\n",
    "sns.barplot(x=mortalityx, y=mortalityy, palette='Set2')\n",
    "plt.title('In-House Mortality Rates over DTBT')\n",
    "plt.ylabel('Mortality (%)')\n",
    "plt.xlabel('Time (hrs)')\n",
    "\n",
    "plt.show()"
   ]
  },
  {
   "cell_type": "code",
   "execution_count": 28,
   "metadata": {},
   "outputs": [],
   "source": [
    "df = pd.read_csv('arrhythmia2.csv', header=None)"
   ]
  },
  {
   "cell_type": "code",
   "execution_count": 29,
   "metadata": {},
   "outputs": [
    {
     "data": {
      "text/html": [
       "<div>\n",
       "<style scoped>\n",
       "    .dataframe tbody tr th:only-of-type {\n",
       "        vertical-align: middle;\n",
       "    }\n",
       "\n",
       "    .dataframe tbody tr th {\n",
       "        vertical-align: top;\n",
       "    }\n",
       "\n",
       "    .dataframe thead th {\n",
       "        text-align: right;\n",
       "    }\n",
       "</style>\n",
       "<table border=\"1\" class=\"dataframe\">\n",
       "  <thead>\n",
       "    <tr style=\"text-align: right;\">\n",
       "      <th></th>\n",
       "      <th>0</th>\n",
       "      <th>1</th>\n",
       "      <th>2</th>\n",
       "      <th>3</th>\n",
       "      <th>4</th>\n",
       "      <th>5</th>\n",
       "      <th>6</th>\n",
       "      <th>7</th>\n",
       "      <th>8</th>\n",
       "      <th>9</th>\n",
       "      <th>...</th>\n",
       "      <th>270</th>\n",
       "      <th>271</th>\n",
       "      <th>272</th>\n",
       "      <th>273</th>\n",
       "      <th>274</th>\n",
       "      <th>275</th>\n",
       "      <th>276</th>\n",
       "      <th>277</th>\n",
       "      <th>278</th>\n",
       "      <th>279</th>\n",
       "    </tr>\n",
       "  </thead>\n",
       "  <tbody>\n",
       "    <tr>\n",
       "      <th>0</th>\n",
       "      <td>75</td>\n",
       "      <td>0</td>\n",
       "      <td>190</td>\n",
       "      <td>80</td>\n",
       "      <td>91</td>\n",
       "      <td>193</td>\n",
       "      <td>371</td>\n",
       "      <td>174</td>\n",
       "      <td>121</td>\n",
       "      <td>-16</td>\n",
       "      <td>...</td>\n",
       "      <td>0.0</td>\n",
       "      <td>9.0</td>\n",
       "      <td>-0.9</td>\n",
       "      <td>0.0</td>\n",
       "      <td>0</td>\n",
       "      <td>0.9</td>\n",
       "      <td>2.9</td>\n",
       "      <td>23.3</td>\n",
       "      <td>49.4</td>\n",
       "      <td>8</td>\n",
       "    </tr>\n",
       "    <tr>\n",
       "      <th>1</th>\n",
       "      <td>56</td>\n",
       "      <td>1</td>\n",
       "      <td>165</td>\n",
       "      <td>64</td>\n",
       "      <td>81</td>\n",
       "      <td>174</td>\n",
       "      <td>401</td>\n",
       "      <td>149</td>\n",
       "      <td>39</td>\n",
       "      <td>25</td>\n",
       "      <td>...</td>\n",
       "      <td>0.0</td>\n",
       "      <td>8.5</td>\n",
       "      <td>0.0</td>\n",
       "      <td>0.0</td>\n",
       "      <td>0</td>\n",
       "      <td>0.2</td>\n",
       "      <td>2.1</td>\n",
       "      <td>20.4</td>\n",
       "      <td>38.8</td>\n",
       "      <td>6</td>\n",
       "    </tr>\n",
       "    <tr>\n",
       "      <th>2</th>\n",
       "      <td>54</td>\n",
       "      <td>0</td>\n",
       "      <td>172</td>\n",
       "      <td>95</td>\n",
       "      <td>138</td>\n",
       "      <td>163</td>\n",
       "      <td>386</td>\n",
       "      <td>185</td>\n",
       "      <td>102</td>\n",
       "      <td>96</td>\n",
       "      <td>...</td>\n",
       "      <td>0.0</td>\n",
       "      <td>9.5</td>\n",
       "      <td>-2.4</td>\n",
       "      <td>0.0</td>\n",
       "      <td>0</td>\n",
       "      <td>0.3</td>\n",
       "      <td>3.4</td>\n",
       "      <td>12.3</td>\n",
       "      <td>49.0</td>\n",
       "      <td>10</td>\n",
       "    </tr>\n",
       "    <tr>\n",
       "      <th>3</th>\n",
       "      <td>55</td>\n",
       "      <td>0</td>\n",
       "      <td>175</td>\n",
       "      <td>94</td>\n",
       "      <td>100</td>\n",
       "      <td>202</td>\n",
       "      <td>380</td>\n",
       "      <td>179</td>\n",
       "      <td>143</td>\n",
       "      <td>28</td>\n",
       "      <td>...</td>\n",
       "      <td>0.0</td>\n",
       "      <td>12.2</td>\n",
       "      <td>-2.2</td>\n",
       "      <td>0.0</td>\n",
       "      <td>0</td>\n",
       "      <td>0.4</td>\n",
       "      <td>2.6</td>\n",
       "      <td>34.6</td>\n",
       "      <td>61.6</td>\n",
       "      <td>1</td>\n",
       "    </tr>\n",
       "    <tr>\n",
       "      <th>4</th>\n",
       "      <td>75</td>\n",
       "      <td>0</td>\n",
       "      <td>190</td>\n",
       "      <td>80</td>\n",
       "      <td>88</td>\n",
       "      <td>181</td>\n",
       "      <td>360</td>\n",
       "      <td>177</td>\n",
       "      <td>103</td>\n",
       "      <td>-16</td>\n",
       "      <td>...</td>\n",
       "      <td>0.0</td>\n",
       "      <td>13.1</td>\n",
       "      <td>-3.6</td>\n",
       "      <td>0.0</td>\n",
       "      <td>0</td>\n",
       "      <td>-0.1</td>\n",
       "      <td>3.9</td>\n",
       "      <td>25.4</td>\n",
       "      <td>62.8</td>\n",
       "      <td>7</td>\n",
       "    </tr>\n",
       "  </tbody>\n",
       "</table>\n",
       "<p>5 rows × 280 columns</p>\n",
       "</div>"
      ],
      "text/plain": [
       "   0    1    2    3    4    5    6    7    8    9    ...  270   271  272  273  \\\n",
       "0   75    0  190   80   91  193  371  174  121  -16  ...  0.0   9.0 -0.9  0.0   \n",
       "1   56    1  165   64   81  174  401  149   39   25  ...  0.0   8.5  0.0  0.0   \n",
       "2   54    0  172   95  138  163  386  185  102   96  ...  0.0   9.5 -2.4  0.0   \n",
       "3   55    0  175   94  100  202  380  179  143   28  ...  0.0  12.2 -2.2  0.0   \n",
       "4   75    0  190   80   88  181  360  177  103  -16  ...  0.0  13.1 -3.6  0.0   \n",
       "\n",
       "  274  275  276   277   278  279  \n",
       "0   0  0.9  2.9  23.3  49.4    8  \n",
       "1   0  0.2  2.1  20.4  38.8    6  \n",
       "2   0  0.3  3.4  12.3  49.0   10  \n",
       "3   0  0.4  2.6  34.6  61.6    1  \n",
       "4   0 -0.1  3.9  25.4  62.8    7  \n",
       "\n",
       "[5 rows x 280 columns]"
      ]
     },
     "execution_count": 29,
     "metadata": {},
     "output_type": "execute_result"
    }
   ],
   "source": [
    "df.head()"
   ]
  },
  {
   "cell_type": "code",
   "execution_count": 30,
   "metadata": {},
   "outputs": [
    {
     "data": {
      "text/html": [
       "<div>\n",
       "<style scoped>\n",
       "    .dataframe tbody tr th:only-of-type {\n",
       "        vertical-align: middle;\n",
       "    }\n",
       "\n",
       "    .dataframe tbody tr th {\n",
       "        vertical-align: top;\n",
       "    }\n",
       "\n",
       "    .dataframe thead th {\n",
       "        text-align: right;\n",
       "    }\n",
       "</style>\n",
       "<table border=\"1\" class=\"dataframe\">\n",
       "  <thead>\n",
       "    <tr style=\"text-align: right;\">\n",
       "      <th></th>\n",
       "      <th>0</th>\n",
       "      <th>1</th>\n",
       "      <th>2</th>\n",
       "      <th>3</th>\n",
       "      <th>4</th>\n",
       "      <th>5</th>\n",
       "      <th>6</th>\n",
       "      <th>7</th>\n",
       "      <th>8</th>\n",
       "      <th>9</th>\n",
       "      <th>...</th>\n",
       "      <th>270</th>\n",
       "      <th>271</th>\n",
       "      <th>272</th>\n",
       "      <th>273</th>\n",
       "      <th>274</th>\n",
       "      <th>275</th>\n",
       "      <th>276</th>\n",
       "      <th>277</th>\n",
       "      <th>278</th>\n",
       "      <th>279</th>\n",
       "    </tr>\n",
       "  </thead>\n",
       "  <tbody>\n",
       "    <tr>\n",
       "      <th>447</th>\n",
       "      <td>53</td>\n",
       "      <td>1</td>\n",
       "      <td>160</td>\n",
       "      <td>70</td>\n",
       "      <td>80</td>\n",
       "      <td>199</td>\n",
       "      <td>382</td>\n",
       "      <td>154</td>\n",
       "      <td>117</td>\n",
       "      <td>-37</td>\n",
       "      <td>...</td>\n",
       "      <td>0.0</td>\n",
       "      <td>4.3</td>\n",
       "      <td>-5.0</td>\n",
       "      <td>0.0</td>\n",
       "      <td>0</td>\n",
       "      <td>0.7</td>\n",
       "      <td>0.6</td>\n",
       "      <td>-4.4</td>\n",
       "      <td>-0.5</td>\n",
       "      <td>1</td>\n",
       "    </tr>\n",
       "    <tr>\n",
       "      <th>448</th>\n",
       "      <td>37</td>\n",
       "      <td>0</td>\n",
       "      <td>190</td>\n",
       "      <td>85</td>\n",
       "      <td>100</td>\n",
       "      <td>137</td>\n",
       "      <td>361</td>\n",
       "      <td>201</td>\n",
       "      <td>73</td>\n",
       "      <td>86</td>\n",
       "      <td>...</td>\n",
       "      <td>0.0</td>\n",
       "      <td>15.6</td>\n",
       "      <td>-1.6</td>\n",
       "      <td>0.0</td>\n",
       "      <td>0</td>\n",
       "      <td>0.4</td>\n",
       "      <td>2.4</td>\n",
       "      <td>38.0</td>\n",
       "      <td>62.4</td>\n",
       "      <td>10</td>\n",
       "    </tr>\n",
       "    <tr>\n",
       "      <th>449</th>\n",
       "      <td>36</td>\n",
       "      <td>0</td>\n",
       "      <td>166</td>\n",
       "      <td>68</td>\n",
       "      <td>108</td>\n",
       "      <td>176</td>\n",
       "      <td>365</td>\n",
       "      <td>194</td>\n",
       "      <td>116</td>\n",
       "      <td>-85</td>\n",
       "      <td>...</td>\n",
       "      <td>0.0</td>\n",
       "      <td>16.3</td>\n",
       "      <td>-28.6</td>\n",
       "      <td>0.0</td>\n",
       "      <td>0</td>\n",
       "      <td>1.5</td>\n",
       "      <td>1.0</td>\n",
       "      <td>-44.2</td>\n",
       "      <td>-33.2</td>\n",
       "      <td>2</td>\n",
       "    </tr>\n",
       "    <tr>\n",
       "      <th>450</th>\n",
       "      <td>32</td>\n",
       "      <td>1</td>\n",
       "      <td>155</td>\n",
       "      <td>55</td>\n",
       "      <td>93</td>\n",
       "      <td>106</td>\n",
       "      <td>386</td>\n",
       "      <td>218</td>\n",
       "      <td>63</td>\n",
       "      <td>54</td>\n",
       "      <td>...</td>\n",
       "      <td>-0.4</td>\n",
       "      <td>12.0</td>\n",
       "      <td>-0.7</td>\n",
       "      <td>0.0</td>\n",
       "      <td>0</td>\n",
       "      <td>0.5</td>\n",
       "      <td>2.4</td>\n",
       "      <td>25.0</td>\n",
       "      <td>46.6</td>\n",
       "      <td>1</td>\n",
       "    </tr>\n",
       "    <tr>\n",
       "      <th>451</th>\n",
       "      <td>78</td>\n",
       "      <td>1</td>\n",
       "      <td>160</td>\n",
       "      <td>70</td>\n",
       "      <td>79</td>\n",
       "      <td>127</td>\n",
       "      <td>364</td>\n",
       "      <td>138</td>\n",
       "      <td>78</td>\n",
       "      <td>28</td>\n",
       "      <td>...</td>\n",
       "      <td>0.0</td>\n",
       "      <td>10.4</td>\n",
       "      <td>-1.8</td>\n",
       "      <td>0.0</td>\n",
       "      <td>0</td>\n",
       "      <td>0.5</td>\n",
       "      <td>1.6</td>\n",
       "      <td>21.3</td>\n",
       "      <td>32.8</td>\n",
       "      <td>1</td>\n",
       "    </tr>\n",
       "  </tbody>\n",
       "</table>\n",
       "<p>5 rows × 280 columns</p>\n",
       "</div>"
      ],
      "text/plain": [
       "     0    1    2    3    4    5    6    7    8    9    ...  270   271   272  \\\n",
       "447   53    1  160   70   80  199  382  154  117  -37  ...  0.0   4.3  -5.0   \n",
       "448   37    0  190   85  100  137  361  201   73   86  ...  0.0  15.6  -1.6   \n",
       "449   36    0  166   68  108  176  365  194  116  -85  ...  0.0  16.3 -28.6   \n",
       "450   32    1  155   55   93  106  386  218   63   54  ... -0.4  12.0  -0.7   \n",
       "451   78    1  160   70   79  127  364  138   78   28  ...  0.0  10.4  -1.8   \n",
       "\n",
       "     273 274  275  276   277   278  279  \n",
       "447  0.0   0  0.7  0.6  -4.4  -0.5    1  \n",
       "448  0.0   0  0.4  2.4  38.0  62.4   10  \n",
       "449  0.0   0  1.5  1.0 -44.2 -33.2    2  \n",
       "450  0.0   0  0.5  2.4  25.0  46.6    1  \n",
       "451  0.0   0  0.5  1.6  21.3  32.8    1  \n",
       "\n",
       "[5 rows x 280 columns]"
      ]
     },
     "execution_count": 30,
     "metadata": {},
     "output_type": "execute_result"
    }
   ],
   "source": [
    "df.tail()"
   ]
  },
  {
   "cell_type": "code",
   "execution_count": 31,
   "metadata": {},
   "outputs": [],
   "source": [
    "# creating new dataframe with only measurable waveform features and the classification of arrhythmias\n",
    "dft = df.iloc[:, :15]"
   ]
  },
  {
   "cell_type": "code",
   "execution_count": 32,
   "metadata": {},
   "outputs": [],
   "source": [
    "dfvalues = df.iloc[:, 279]"
   ]
  },
  {
   "cell_type": "code",
   "execution_count": 33,
   "metadata": {},
   "outputs": [],
   "source": [
    "dft2 = pd.concat([dft, dfvalues], axis=1)"
   ]
  },
  {
   "cell_type": "code",
   "execution_count": 34,
   "metadata": {},
   "outputs": [
    {
     "data": {
      "text/html": [
       "<div>\n",
       "<style scoped>\n",
       "    .dataframe tbody tr th:only-of-type {\n",
       "        vertical-align: middle;\n",
       "    }\n",
       "\n",
       "    .dataframe tbody tr th {\n",
       "        vertical-align: top;\n",
       "    }\n",
       "\n",
       "    .dataframe thead th {\n",
       "        text-align: right;\n",
       "    }\n",
       "</style>\n",
       "<table border=\"1\" class=\"dataframe\">\n",
       "  <thead>\n",
       "    <tr style=\"text-align: right;\">\n",
       "      <th></th>\n",
       "      <th>0</th>\n",
       "      <th>1</th>\n",
       "      <th>2</th>\n",
       "      <th>3</th>\n",
       "      <th>4</th>\n",
       "      <th>5</th>\n",
       "      <th>6</th>\n",
       "      <th>7</th>\n",
       "      <th>8</th>\n",
       "      <th>9</th>\n",
       "      <th>10</th>\n",
       "      <th>11</th>\n",
       "      <th>12</th>\n",
       "      <th>13</th>\n",
       "      <th>14</th>\n",
       "      <th>279</th>\n",
       "    </tr>\n",
       "  </thead>\n",
       "  <tbody>\n",
       "    <tr>\n",
       "      <th>0</th>\n",
       "      <td>75</td>\n",
       "      <td>0</td>\n",
       "      <td>190</td>\n",
       "      <td>80</td>\n",
       "      <td>91</td>\n",
       "      <td>193</td>\n",
       "      <td>371</td>\n",
       "      <td>174</td>\n",
       "      <td>121</td>\n",
       "      <td>-16</td>\n",
       "      <td>13</td>\n",
       "      <td>64</td>\n",
       "      <td>-2</td>\n",
       "      <td>?</td>\n",
       "      <td>63</td>\n",
       "      <td>8</td>\n",
       "    </tr>\n",
       "    <tr>\n",
       "      <th>1</th>\n",
       "      <td>56</td>\n",
       "      <td>1</td>\n",
       "      <td>165</td>\n",
       "      <td>64</td>\n",
       "      <td>81</td>\n",
       "      <td>174</td>\n",
       "      <td>401</td>\n",
       "      <td>149</td>\n",
       "      <td>39</td>\n",
       "      <td>25</td>\n",
       "      <td>37</td>\n",
       "      <td>-17</td>\n",
       "      <td>31</td>\n",
       "      <td>?</td>\n",
       "      <td>53</td>\n",
       "      <td>6</td>\n",
       "    </tr>\n",
       "    <tr>\n",
       "      <th>2</th>\n",
       "      <td>54</td>\n",
       "      <td>0</td>\n",
       "      <td>172</td>\n",
       "      <td>95</td>\n",
       "      <td>138</td>\n",
       "      <td>163</td>\n",
       "      <td>386</td>\n",
       "      <td>185</td>\n",
       "      <td>102</td>\n",
       "      <td>96</td>\n",
       "      <td>34</td>\n",
       "      <td>70</td>\n",
       "      <td>66</td>\n",
       "      <td>23</td>\n",
       "      <td>75</td>\n",
       "      <td>10</td>\n",
       "    </tr>\n",
       "    <tr>\n",
       "      <th>3</th>\n",
       "      <td>55</td>\n",
       "      <td>0</td>\n",
       "      <td>175</td>\n",
       "      <td>94</td>\n",
       "      <td>100</td>\n",
       "      <td>202</td>\n",
       "      <td>380</td>\n",
       "      <td>179</td>\n",
       "      <td>143</td>\n",
       "      <td>28</td>\n",
       "      <td>11</td>\n",
       "      <td>-5</td>\n",
       "      <td>20</td>\n",
       "      <td>?</td>\n",
       "      <td>71</td>\n",
       "      <td>1</td>\n",
       "    </tr>\n",
       "    <tr>\n",
       "      <th>4</th>\n",
       "      <td>75</td>\n",
       "      <td>0</td>\n",
       "      <td>190</td>\n",
       "      <td>80</td>\n",
       "      <td>88</td>\n",
       "      <td>181</td>\n",
       "      <td>360</td>\n",
       "      <td>177</td>\n",
       "      <td>103</td>\n",
       "      <td>-16</td>\n",
       "      <td>13</td>\n",
       "      <td>61</td>\n",
       "      <td>3</td>\n",
       "      <td>?</td>\n",
       "      <td>?</td>\n",
       "      <td>7</td>\n",
       "    </tr>\n",
       "  </tbody>\n",
       "</table>\n",
       "</div>"
      ],
      "text/plain": [
       "   0    1    2    3    4    5    6    7    8    9   10   11  12  13  14   279\n",
       "0   75    0  190   80   91  193  371  174  121  -16  13   64  -2   ?  63    8\n",
       "1   56    1  165   64   81  174  401  149   39   25  37  -17  31   ?  53    6\n",
       "2   54    0  172   95  138  163  386  185  102   96  34   70  66  23  75   10\n",
       "3   55    0  175   94  100  202  380  179  143   28  11   -5  20   ?  71    1\n",
       "4   75    0  190   80   88  181  360  177  103  -16  13   61   3   ?   ?    7"
      ]
     },
     "execution_count": 34,
     "metadata": {},
     "output_type": "execute_result"
    }
   ],
   "source": [
    "dft2.head()"
   ]
  },
  {
   "cell_type": "code",
   "execution_count": 35,
   "metadata": {},
   "outputs": [],
   "source": [
    "# Adding feature labels to the columns\n",
    "columns = ['age', 'sex', 'height', 'weight', 'qrs_int', 'pr_int', 'qt_int', 't_int', 'p_int', 'qrs', 'twave', 'pwave', 'qrst', 'jwave', 'hr', 'arrhythmia']"
   ]
  },
  {
   "cell_type": "code",
   "execution_count": 36,
   "metadata": {},
   "outputs": [],
   "source": [
    "dft2.columns = columns"
   ]
  },
  {
   "cell_type": "code",
   "execution_count": 37,
   "metadata": {},
   "outputs": [
    {
     "data": {
      "text/html": [
       "<div>\n",
       "<style scoped>\n",
       "    .dataframe tbody tr th:only-of-type {\n",
       "        vertical-align: middle;\n",
       "    }\n",
       "\n",
       "    .dataframe tbody tr th {\n",
       "        vertical-align: top;\n",
       "    }\n",
       "\n",
       "    .dataframe thead th {\n",
       "        text-align: right;\n",
       "    }\n",
       "</style>\n",
       "<table border=\"1\" class=\"dataframe\">\n",
       "  <thead>\n",
       "    <tr style=\"text-align: right;\">\n",
       "      <th></th>\n",
       "      <th>age</th>\n",
       "      <th>sex</th>\n",
       "      <th>height</th>\n",
       "      <th>weight</th>\n",
       "      <th>qrs_int</th>\n",
       "      <th>pr_int</th>\n",
       "      <th>qt_int</th>\n",
       "      <th>t_int</th>\n",
       "      <th>p_int</th>\n",
       "      <th>qrs</th>\n",
       "      <th>twave</th>\n",
       "      <th>pwave</th>\n",
       "      <th>qrst</th>\n",
       "      <th>jwave</th>\n",
       "      <th>hr</th>\n",
       "      <th>arrhythmia</th>\n",
       "    </tr>\n",
       "  </thead>\n",
       "  <tbody>\n",
       "    <tr>\n",
       "      <th>0</th>\n",
       "      <td>75</td>\n",
       "      <td>0</td>\n",
       "      <td>190</td>\n",
       "      <td>80</td>\n",
       "      <td>91</td>\n",
       "      <td>193</td>\n",
       "      <td>371</td>\n",
       "      <td>174</td>\n",
       "      <td>121</td>\n",
       "      <td>-16</td>\n",
       "      <td>13</td>\n",
       "      <td>64</td>\n",
       "      <td>-2</td>\n",
       "      <td>?</td>\n",
       "      <td>63</td>\n",
       "      <td>8</td>\n",
       "    </tr>\n",
       "    <tr>\n",
       "      <th>1</th>\n",
       "      <td>56</td>\n",
       "      <td>1</td>\n",
       "      <td>165</td>\n",
       "      <td>64</td>\n",
       "      <td>81</td>\n",
       "      <td>174</td>\n",
       "      <td>401</td>\n",
       "      <td>149</td>\n",
       "      <td>39</td>\n",
       "      <td>25</td>\n",
       "      <td>37</td>\n",
       "      <td>-17</td>\n",
       "      <td>31</td>\n",
       "      <td>?</td>\n",
       "      <td>53</td>\n",
       "      <td>6</td>\n",
       "    </tr>\n",
       "    <tr>\n",
       "      <th>2</th>\n",
       "      <td>54</td>\n",
       "      <td>0</td>\n",
       "      <td>172</td>\n",
       "      <td>95</td>\n",
       "      <td>138</td>\n",
       "      <td>163</td>\n",
       "      <td>386</td>\n",
       "      <td>185</td>\n",
       "      <td>102</td>\n",
       "      <td>96</td>\n",
       "      <td>34</td>\n",
       "      <td>70</td>\n",
       "      <td>66</td>\n",
       "      <td>23</td>\n",
       "      <td>75</td>\n",
       "      <td>10</td>\n",
       "    </tr>\n",
       "    <tr>\n",
       "      <th>3</th>\n",
       "      <td>55</td>\n",
       "      <td>0</td>\n",
       "      <td>175</td>\n",
       "      <td>94</td>\n",
       "      <td>100</td>\n",
       "      <td>202</td>\n",
       "      <td>380</td>\n",
       "      <td>179</td>\n",
       "      <td>143</td>\n",
       "      <td>28</td>\n",
       "      <td>11</td>\n",
       "      <td>-5</td>\n",
       "      <td>20</td>\n",
       "      <td>?</td>\n",
       "      <td>71</td>\n",
       "      <td>1</td>\n",
       "    </tr>\n",
       "    <tr>\n",
       "      <th>4</th>\n",
       "      <td>75</td>\n",
       "      <td>0</td>\n",
       "      <td>190</td>\n",
       "      <td>80</td>\n",
       "      <td>88</td>\n",
       "      <td>181</td>\n",
       "      <td>360</td>\n",
       "      <td>177</td>\n",
       "      <td>103</td>\n",
       "      <td>-16</td>\n",
       "      <td>13</td>\n",
       "      <td>61</td>\n",
       "      <td>3</td>\n",
       "      <td>?</td>\n",
       "      <td>?</td>\n",
       "      <td>7</td>\n",
       "    </tr>\n",
       "  </tbody>\n",
       "</table>\n",
       "</div>"
      ],
      "text/plain": [
       "   age  sex  height  weight  qrs_int  pr_int  qt_int  t_int  p_int  qrs twave  \\\n",
       "0   75    0     190      80       91     193     371    174    121  -16    13   \n",
       "1   56    1     165      64       81     174     401    149     39   25    37   \n",
       "2   54    0     172      95      138     163     386    185    102   96    34   \n",
       "3   55    0     175      94      100     202     380    179    143   28    11   \n",
       "4   75    0     190      80       88     181     360    177    103  -16    13   \n",
       "\n",
       "  pwave qrst jwave  hr  arrhythmia  \n",
       "0    64   -2     ?  63           8  \n",
       "1   -17   31     ?  53           6  \n",
       "2    70   66    23  75          10  \n",
       "3    -5   20     ?  71           1  \n",
       "4    61    3     ?   ?           7  "
      ]
     },
     "execution_count": 37,
     "metadata": {},
     "output_type": "execute_result"
    }
   ],
   "source": [
    "dft2.head()"
   ]
  },
  {
   "cell_type": "code",
   "execution_count": 38,
   "metadata": {},
   "outputs": [
    {
     "data": {
      "text/html": [
       "<div>\n",
       "<style scoped>\n",
       "    .dataframe tbody tr th:only-of-type {\n",
       "        vertical-align: middle;\n",
       "    }\n",
       "\n",
       "    .dataframe tbody tr th {\n",
       "        vertical-align: top;\n",
       "    }\n",
       "\n",
       "    .dataframe thead th {\n",
       "        text-align: right;\n",
       "    }\n",
       "</style>\n",
       "<table border=\"1\" class=\"dataframe\">\n",
       "  <thead>\n",
       "    <tr style=\"text-align: right;\">\n",
       "      <th></th>\n",
       "      <th>age</th>\n",
       "      <th>sex</th>\n",
       "      <th>height</th>\n",
       "      <th>weight</th>\n",
       "      <th>qrs_int</th>\n",
       "      <th>pr_int</th>\n",
       "      <th>qt_int</th>\n",
       "      <th>t_int</th>\n",
       "      <th>p_int</th>\n",
       "      <th>qrs</th>\n",
       "      <th>twave</th>\n",
       "      <th>pwave</th>\n",
       "      <th>qrst</th>\n",
       "      <th>jwave</th>\n",
       "      <th>hr</th>\n",
       "      <th>arrhythmia</th>\n",
       "    </tr>\n",
       "  </thead>\n",
       "  <tbody>\n",
       "    <tr>\n",
       "      <th>447</th>\n",
       "      <td>53</td>\n",
       "      <td>1</td>\n",
       "      <td>160</td>\n",
       "      <td>70</td>\n",
       "      <td>80</td>\n",
       "      <td>199</td>\n",
       "      <td>382</td>\n",
       "      <td>154</td>\n",
       "      <td>117</td>\n",
       "      <td>-37</td>\n",
       "      <td>4</td>\n",
       "      <td>40</td>\n",
       "      <td>-27</td>\n",
       "      <td>?</td>\n",
       "      <td>63</td>\n",
       "      <td>1</td>\n",
       "    </tr>\n",
       "    <tr>\n",
       "      <th>448</th>\n",
       "      <td>37</td>\n",
       "      <td>0</td>\n",
       "      <td>190</td>\n",
       "      <td>85</td>\n",
       "      <td>100</td>\n",
       "      <td>137</td>\n",
       "      <td>361</td>\n",
       "      <td>201</td>\n",
       "      <td>73</td>\n",
       "      <td>86</td>\n",
       "      <td>66</td>\n",
       "      <td>52</td>\n",
       "      <td>79</td>\n",
       "      <td>?</td>\n",
       "      <td>73</td>\n",
       "      <td>10</td>\n",
       "    </tr>\n",
       "    <tr>\n",
       "      <th>449</th>\n",
       "      <td>36</td>\n",
       "      <td>0</td>\n",
       "      <td>166</td>\n",
       "      <td>68</td>\n",
       "      <td>108</td>\n",
       "      <td>176</td>\n",
       "      <td>365</td>\n",
       "      <td>194</td>\n",
       "      <td>116</td>\n",
       "      <td>-85</td>\n",
       "      <td>-19</td>\n",
       "      <td>-61</td>\n",
       "      <td>-70</td>\n",
       "      <td>84</td>\n",
       "      <td>84</td>\n",
       "      <td>2</td>\n",
       "    </tr>\n",
       "    <tr>\n",
       "      <th>450</th>\n",
       "      <td>32</td>\n",
       "      <td>1</td>\n",
       "      <td>155</td>\n",
       "      <td>55</td>\n",
       "      <td>93</td>\n",
       "      <td>106</td>\n",
       "      <td>386</td>\n",
       "      <td>218</td>\n",
       "      <td>63</td>\n",
       "      <td>54</td>\n",
       "      <td>29</td>\n",
       "      <td>-22</td>\n",
       "      <td>43</td>\n",
       "      <td>103</td>\n",
       "      <td>80</td>\n",
       "      <td>1</td>\n",
       "    </tr>\n",
       "    <tr>\n",
       "      <th>451</th>\n",
       "      <td>78</td>\n",
       "      <td>1</td>\n",
       "      <td>160</td>\n",
       "      <td>70</td>\n",
       "      <td>79</td>\n",
       "      <td>127</td>\n",
       "      <td>364</td>\n",
       "      <td>138</td>\n",
       "      <td>78</td>\n",
       "      <td>28</td>\n",
       "      <td>79</td>\n",
       "      <td>52</td>\n",
       "      <td>47</td>\n",
       "      <td>?</td>\n",
       "      <td>75</td>\n",
       "      <td>1</td>\n",
       "    </tr>\n",
       "  </tbody>\n",
       "</table>\n",
       "</div>"
      ],
      "text/plain": [
       "     age  sex  height  weight  qrs_int  pr_int  qt_int  t_int  p_int  qrs  \\\n",
       "447   53    1     160      70       80     199     382    154    117  -37   \n",
       "448   37    0     190      85      100     137     361    201     73   86   \n",
       "449   36    0     166      68      108     176     365    194    116  -85   \n",
       "450   32    1     155      55       93     106     386    218     63   54   \n",
       "451   78    1     160      70       79     127     364    138     78   28   \n",
       "\n",
       "    twave pwave qrst jwave  hr  arrhythmia  \n",
       "447     4    40  -27     ?  63           1  \n",
       "448    66    52   79     ?  73          10  \n",
       "449   -19   -61  -70    84  84           2  \n",
       "450    29   -22   43   103  80           1  \n",
       "451    79    52   47     ?  75           1  "
      ]
     },
     "execution_count": 38,
     "metadata": {},
     "output_type": "execute_result"
    }
   ],
   "source": [
    "dft2.tail()"
   ]
  },
  {
   "cell_type": "code",
   "execution_count": 39,
   "metadata": {},
   "outputs": [
    {
     "name": "stdout",
     "output_type": "stream",
     "text": [
      "<class 'pandas.core.frame.DataFrame'>\n",
      "RangeIndex: 452 entries, 0 to 451\n",
      "Data columns (total 16 columns):\n",
      "age           452 non-null int64\n",
      "sex           452 non-null int64\n",
      "height        452 non-null int64\n",
      "weight        452 non-null int64\n",
      "qrs_int       452 non-null int64\n",
      "pr_int        452 non-null int64\n",
      "qt_int        452 non-null int64\n",
      "t_int         452 non-null int64\n",
      "p_int         452 non-null int64\n",
      "qrs           452 non-null int64\n",
      "twave         452 non-null object\n",
      "pwave         452 non-null object\n",
      "qrst          452 non-null object\n",
      "jwave         452 non-null object\n",
      "hr            452 non-null object\n",
      "arrhythmia    452 non-null int64\n",
      "dtypes: int64(11), object(5)\n",
      "memory usage: 56.6+ KB\n"
     ]
    }
   ],
   "source": [
    "dft2.info()"
   ]
  },
  {
   "cell_type": "code",
   "execution_count": 40,
   "metadata": {},
   "outputs": [],
   "source": [
    "# changing '?' strings to 0 numerical values\n",
    "dft2.twave = dft2.twave.str.replace('?', '0')\n",
    "dft2.pwave = dft2.pwave.str.replace('?', '0')\n",
    "dft2.qrst = dft2.qrst.str.replace('?', '0')\n",
    "dft2.jwave = dft2.jwave.str.replace('?', '0')\n",
    "dft2.hr = dft2.hr.str.replace('?', '0')"
   ]
  },
  {
   "cell_type": "code",
   "execution_count": 41,
   "metadata": {},
   "outputs": [],
   "source": [
    "# changing non numeric columns to numeric\n",
    "dft2.twave = pd.to_numeric(dft2.twave, errors='coerce')\n",
    "dft2.pwave = pd.to_numeric(dft2.pwave, errors='coerce')\n",
    "dft2.qrst = pd.to_numeric(dft2.qrst, errors='coerce')\n",
    "dft2.jwave = pd.to_numeric(dft2.jwave, errors='coerce')\n",
    "dft2.hr = pd.to_numeric(dft2.hr, errors='coerce')"
   ]
  },
  {
   "cell_type": "code",
   "execution_count": 42,
   "metadata": {},
   "outputs": [
    {
     "data": {
      "text/html": [
       "<div>\n",
       "<style scoped>\n",
       "    .dataframe tbody tr th:only-of-type {\n",
       "        vertical-align: middle;\n",
       "    }\n",
       "\n",
       "    .dataframe tbody tr th {\n",
       "        vertical-align: top;\n",
       "    }\n",
       "\n",
       "    .dataframe thead th {\n",
       "        text-align: right;\n",
       "    }\n",
       "</style>\n",
       "<table border=\"1\" class=\"dataframe\">\n",
       "  <thead>\n",
       "    <tr style=\"text-align: right;\">\n",
       "      <th></th>\n",
       "      <th>age</th>\n",
       "      <th>sex</th>\n",
       "      <th>height</th>\n",
       "      <th>weight</th>\n",
       "      <th>qrs_int</th>\n",
       "      <th>pr_int</th>\n",
       "      <th>qt_int</th>\n",
       "      <th>t_int</th>\n",
       "      <th>p_int</th>\n",
       "      <th>qrs</th>\n",
       "      <th>twave</th>\n",
       "      <th>pwave</th>\n",
       "      <th>qrst</th>\n",
       "      <th>jwave</th>\n",
       "      <th>hr</th>\n",
       "      <th>arrhythmia</th>\n",
       "    </tr>\n",
       "  </thead>\n",
       "  <tbody>\n",
       "    <tr>\n",
       "      <th>count</th>\n",
       "      <td>452.000000</td>\n",
       "      <td>452.000000</td>\n",
       "      <td>452.000000</td>\n",
       "      <td>452.000000</td>\n",
       "      <td>452.000000</td>\n",
       "      <td>452.000000</td>\n",
       "      <td>452.000000</td>\n",
       "      <td>452.000000</td>\n",
       "      <td>452.000000</td>\n",
       "      <td>452.000000</td>\n",
       "      <td>452.000000</td>\n",
       "      <td>452.000000</td>\n",
       "      <td>452.000000</td>\n",
       "      <td>452.000000</td>\n",
       "      <td>452.000000</td>\n",
       "      <td>452.000000</td>\n",
       "    </tr>\n",
       "    <tr>\n",
       "      <th>mean</th>\n",
       "      <td>46.471239</td>\n",
       "      <td>0.550885</td>\n",
       "      <td>166.188053</td>\n",
       "      <td>68.170354</td>\n",
       "      <td>88.920354</td>\n",
       "      <td>155.152655</td>\n",
       "      <td>367.207965</td>\n",
       "      <td>169.949115</td>\n",
       "      <td>90.004425</td>\n",
       "      <td>33.676991</td>\n",
       "      <td>35.511062</td>\n",
       "      <td>46.533186</td>\n",
       "      <td>36.634956</td>\n",
       "      <td>-2.285398</td>\n",
       "      <td>74.298673</td>\n",
       "      <td>3.880531</td>\n",
       "    </tr>\n",
       "    <tr>\n",
       "      <th>std</th>\n",
       "      <td>16.466631</td>\n",
       "      <td>0.497955</td>\n",
       "      <td>37.170340</td>\n",
       "      <td>16.590803</td>\n",
       "      <td>15.364394</td>\n",
       "      <td>44.842283</td>\n",
       "      <td>33.385421</td>\n",
       "      <td>35.633072</td>\n",
       "      <td>25.826643</td>\n",
       "      <td>45.431434</td>\n",
       "      <td>57.541019</td>\n",
       "      <td>30.499700</td>\n",
       "      <td>36.022190</td>\n",
       "      <td>52.128831</td>\n",
       "      <td>14.291135</td>\n",
       "      <td>4.407097</td>\n",
       "    </tr>\n",
       "    <tr>\n",
       "      <th>min</th>\n",
       "      <td>0.000000</td>\n",
       "      <td>0.000000</td>\n",
       "      <td>105.000000</td>\n",
       "      <td>6.000000</td>\n",
       "      <td>55.000000</td>\n",
       "      <td>0.000000</td>\n",
       "      <td>232.000000</td>\n",
       "      <td>108.000000</td>\n",
       "      <td>0.000000</td>\n",
       "      <td>-172.000000</td>\n",
       "      <td>-177.000000</td>\n",
       "      <td>-170.000000</td>\n",
       "      <td>-135.000000</td>\n",
       "      <td>-179.000000</td>\n",
       "      <td>0.000000</td>\n",
       "      <td>1.000000</td>\n",
       "    </tr>\n",
       "    <tr>\n",
       "      <th>25%</th>\n",
       "      <td>36.000000</td>\n",
       "      <td>0.000000</td>\n",
       "      <td>160.000000</td>\n",
       "      <td>59.000000</td>\n",
       "      <td>80.000000</td>\n",
       "      <td>142.000000</td>\n",
       "      <td>350.000000</td>\n",
       "      <td>148.000000</td>\n",
       "      <td>79.000000</td>\n",
       "      <td>3.750000</td>\n",
       "      <td>13.000000</td>\n",
       "      <td>36.000000</td>\n",
       "      <td>12.000000</td>\n",
       "      <td>0.000000</td>\n",
       "      <td>65.000000</td>\n",
       "      <td>1.000000</td>\n",
       "    </tr>\n",
       "    <tr>\n",
       "      <th>50%</th>\n",
       "      <td>47.000000</td>\n",
       "      <td>1.000000</td>\n",
       "      <td>164.000000</td>\n",
       "      <td>68.000000</td>\n",
       "      <td>86.000000</td>\n",
       "      <td>157.000000</td>\n",
       "      <td>367.000000</td>\n",
       "      <td>162.000000</td>\n",
       "      <td>91.000000</td>\n",
       "      <td>40.000000</td>\n",
       "      <td>41.000000</td>\n",
       "      <td>54.500000</td>\n",
       "      <td>40.000000</td>\n",
       "      <td>0.000000</td>\n",
       "      <td>72.000000</td>\n",
       "      <td>1.000000</td>\n",
       "    </tr>\n",
       "    <tr>\n",
       "      <th>75%</th>\n",
       "      <td>58.000000</td>\n",
       "      <td>1.000000</td>\n",
       "      <td>170.000000</td>\n",
       "      <td>79.000000</td>\n",
       "      <td>94.000000</td>\n",
       "      <td>175.000000</td>\n",
       "      <td>384.000000</td>\n",
       "      <td>179.000000</td>\n",
       "      <td>102.000000</td>\n",
       "      <td>66.000000</td>\n",
       "      <td>63.000000</td>\n",
       "      <td>64.000000</td>\n",
       "      <td>62.000000</td>\n",
       "      <td>0.000000</td>\n",
       "      <td>81.000000</td>\n",
       "      <td>6.000000</td>\n",
       "    </tr>\n",
       "    <tr>\n",
       "      <th>max</th>\n",
       "      <td>83.000000</td>\n",
       "      <td>1.000000</td>\n",
       "      <td>780.000000</td>\n",
       "      <td>176.000000</td>\n",
       "      <td>188.000000</td>\n",
       "      <td>524.000000</td>\n",
       "      <td>509.000000</td>\n",
       "      <td>381.000000</td>\n",
       "      <td>205.000000</td>\n",
       "      <td>169.000000</td>\n",
       "      <td>179.000000</td>\n",
       "      <td>176.000000</td>\n",
       "      <td>166.000000</td>\n",
       "      <td>178.000000</td>\n",
       "      <td>163.000000</td>\n",
       "      <td>16.000000</td>\n",
       "    </tr>\n",
       "  </tbody>\n",
       "</table>\n",
       "</div>"
      ],
      "text/plain": [
       "              age         sex      height      weight     qrs_int      pr_int  \\\n",
       "count  452.000000  452.000000  452.000000  452.000000  452.000000  452.000000   \n",
       "mean    46.471239    0.550885  166.188053   68.170354   88.920354  155.152655   \n",
       "std     16.466631    0.497955   37.170340   16.590803   15.364394   44.842283   \n",
       "min      0.000000    0.000000  105.000000    6.000000   55.000000    0.000000   \n",
       "25%     36.000000    0.000000  160.000000   59.000000   80.000000  142.000000   \n",
       "50%     47.000000    1.000000  164.000000   68.000000   86.000000  157.000000   \n",
       "75%     58.000000    1.000000  170.000000   79.000000   94.000000  175.000000   \n",
       "max     83.000000    1.000000  780.000000  176.000000  188.000000  524.000000   \n",
       "\n",
       "           qt_int       t_int       p_int         qrs       twave       pwave  \\\n",
       "count  452.000000  452.000000  452.000000  452.000000  452.000000  452.000000   \n",
       "mean   367.207965  169.949115   90.004425   33.676991   35.511062   46.533186   \n",
       "std     33.385421   35.633072   25.826643   45.431434   57.541019   30.499700   \n",
       "min    232.000000  108.000000    0.000000 -172.000000 -177.000000 -170.000000   \n",
       "25%    350.000000  148.000000   79.000000    3.750000   13.000000   36.000000   \n",
       "50%    367.000000  162.000000   91.000000   40.000000   41.000000   54.500000   \n",
       "75%    384.000000  179.000000  102.000000   66.000000   63.000000   64.000000   \n",
       "max    509.000000  381.000000  205.000000  169.000000  179.000000  176.000000   \n",
       "\n",
       "             qrst       jwave          hr  arrhythmia  \n",
       "count  452.000000  452.000000  452.000000  452.000000  \n",
       "mean    36.634956   -2.285398   74.298673    3.880531  \n",
       "std     36.022190   52.128831   14.291135    4.407097  \n",
       "min   -135.000000 -179.000000    0.000000    1.000000  \n",
       "25%     12.000000    0.000000   65.000000    1.000000  \n",
       "50%     40.000000    0.000000   72.000000    1.000000  \n",
       "75%     62.000000    0.000000   81.000000    6.000000  \n",
       "max    166.000000  178.000000  163.000000   16.000000  "
      ]
     },
     "execution_count": 42,
     "metadata": {},
     "output_type": "execute_result"
    }
   ],
   "source": [
    "dft2.describe()"
   ]
  },
  {
   "cell_type": "code",
   "execution_count": 197,
   "metadata": {},
   "outputs": [
    {
     "data": {
      "text/html": [
       "<div>\n",
       "<style scoped>\n",
       "    .dataframe tbody tr th:only-of-type {\n",
       "        vertical-align: middle;\n",
       "    }\n",
       "\n",
       "    .dataframe tbody tr th {\n",
       "        vertical-align: top;\n",
       "    }\n",
       "\n",
       "    .dataframe thead th {\n",
       "        text-align: right;\n",
       "    }\n",
       "</style>\n",
       "<table border=\"1\" class=\"dataframe\">\n",
       "  <thead>\n",
       "    <tr style=\"text-align: right;\">\n",
       "      <th></th>\n",
       "      <th>count</th>\n",
       "      <th>mean</th>\n",
       "      <th>std</th>\n",
       "      <th>min</th>\n",
       "      <th>25%</th>\n",
       "      <th>50%</th>\n",
       "      <th>75%</th>\n",
       "      <th>max</th>\n",
       "    </tr>\n",
       "  </thead>\n",
       "  <tbody>\n",
       "    <tr>\n",
       "      <th>age</th>\n",
       "      <td>451.0</td>\n",
       "      <td>46.407982</td>\n",
       "      <td>16.429846</td>\n",
       "      <td>0.000000</td>\n",
       "      <td>36.000000</td>\n",
       "      <td>47.000000</td>\n",
       "      <td>58.000000</td>\n",
       "      <td>83.000000</td>\n",
       "    </tr>\n",
       "    <tr>\n",
       "      <th>sex</th>\n",
       "      <td>451.0</td>\n",
       "      <td>0.552106</td>\n",
       "      <td>0.497830</td>\n",
       "      <td>0.000000</td>\n",
       "      <td>0.000000</td>\n",
       "      <td>1.000000</td>\n",
       "      <td>1.000000</td>\n",
       "      <td>1.000000</td>\n",
       "    </tr>\n",
       "    <tr>\n",
       "      <th>height</th>\n",
       "      <td>451.0</td>\n",
       "      <td>163.363636</td>\n",
       "      <td>12.114488</td>\n",
       "      <td>60.000000</td>\n",
       "      <td>160.000000</td>\n",
       "      <td>164.000000</td>\n",
       "      <td>170.000000</td>\n",
       "      <td>190.000000</td>\n",
       "    </tr>\n",
       "    <tr>\n",
       "      <th>weight</th>\n",
       "      <td>451.0</td>\n",
       "      <td>68.144124</td>\n",
       "      <td>16.599841</td>\n",
       "      <td>6.000000</td>\n",
       "      <td>59.000000</td>\n",
       "      <td>68.000000</td>\n",
       "      <td>78.500000</td>\n",
       "      <td>176.000000</td>\n",
       "    </tr>\n",
       "    <tr>\n",
       "      <th>qrs_int</th>\n",
       "      <td>451.0</td>\n",
       "      <td>88.922395</td>\n",
       "      <td>15.381395</td>\n",
       "      <td>55.000000</td>\n",
       "      <td>80.000000</td>\n",
       "      <td>86.000000</td>\n",
       "      <td>94.000000</td>\n",
       "      <td>188.000000</td>\n",
       "    </tr>\n",
       "    <tr>\n",
       "      <th>pr_int</th>\n",
       "      <td>451.0</td>\n",
       "      <td>155.095344</td>\n",
       "      <td>44.875504</td>\n",
       "      <td>0.000000</td>\n",
       "      <td>142.000000</td>\n",
       "      <td>157.000000</td>\n",
       "      <td>174.500000</td>\n",
       "      <td>524.000000</td>\n",
       "    </tr>\n",
       "    <tr>\n",
       "      <th>qt_int</th>\n",
       "      <td>451.0</td>\n",
       "      <td>367.223947</td>\n",
       "      <td>33.420765</td>\n",
       "      <td>232.000000</td>\n",
       "      <td>350.000000</td>\n",
       "      <td>367.000000</td>\n",
       "      <td>384.000000</td>\n",
       "      <td>509.000000</td>\n",
       "    </tr>\n",
       "    <tr>\n",
       "      <th>t_int</th>\n",
       "      <td>451.0</td>\n",
       "      <td>169.933481</td>\n",
       "      <td>35.671090</td>\n",
       "      <td>108.000000</td>\n",
       "      <td>148.000000</td>\n",
       "      <td>162.000000</td>\n",
       "      <td>179.000000</td>\n",
       "      <td>381.000000</td>\n",
       "    </tr>\n",
       "    <tr>\n",
       "      <th>p_int</th>\n",
       "      <td>451.0</td>\n",
       "      <td>89.975610</td>\n",
       "      <td>25.848049</td>\n",
       "      <td>0.000000</td>\n",
       "      <td>79.000000</td>\n",
       "      <td>91.000000</td>\n",
       "      <td>102.000000</td>\n",
       "      <td>205.000000</td>\n",
       "    </tr>\n",
       "    <tr>\n",
       "      <th>qrs</th>\n",
       "      <td>451.0</td>\n",
       "      <td>33.787140</td>\n",
       "      <td>45.421423</td>\n",
       "      <td>-172.000000</td>\n",
       "      <td>4.000000</td>\n",
       "      <td>40.000000</td>\n",
       "      <td>66.000000</td>\n",
       "      <td>169.000000</td>\n",
       "    </tr>\n",
       "    <tr>\n",
       "      <th>twave</th>\n",
       "      <td>451.0</td>\n",
       "      <td>35.560976</td>\n",
       "      <td>57.595121</td>\n",
       "      <td>-177.000000</td>\n",
       "      <td>13.000000</td>\n",
       "      <td>41.000000</td>\n",
       "      <td>63.000000</td>\n",
       "      <td>179.000000</td>\n",
       "    </tr>\n",
       "    <tr>\n",
       "      <th>pwave</th>\n",
       "      <td>451.0</td>\n",
       "      <td>46.501109</td>\n",
       "      <td>30.525936</td>\n",
       "      <td>-170.000000</td>\n",
       "      <td>36.000000</td>\n",
       "      <td>54.000000</td>\n",
       "      <td>64.000000</td>\n",
       "      <td>176.000000</td>\n",
       "    </tr>\n",
       "    <tr>\n",
       "      <th>qrst</th>\n",
       "      <td>451.0</td>\n",
       "      <td>36.709534</td>\n",
       "      <td>36.027241</td>\n",
       "      <td>-135.000000</td>\n",
       "      <td>12.000000</td>\n",
       "      <td>40.000000</td>\n",
       "      <td>62.000000</td>\n",
       "      <td>166.000000</td>\n",
       "    </tr>\n",
       "    <tr>\n",
       "      <th>jwave</th>\n",
       "      <td>451.0</td>\n",
       "      <td>0.168514</td>\n",
       "      <td>0.374738</td>\n",
       "      <td>0.000000</td>\n",
       "      <td>0.000000</td>\n",
       "      <td>0.000000</td>\n",
       "      <td>0.000000</td>\n",
       "      <td>1.000000</td>\n",
       "    </tr>\n",
       "    <tr>\n",
       "      <th>hr</th>\n",
       "      <td>451.0</td>\n",
       "      <td>74.463415</td>\n",
       "      <td>13.870684</td>\n",
       "      <td>44.000000</td>\n",
       "      <td>65.000000</td>\n",
       "      <td>72.000000</td>\n",
       "      <td>81.000000</td>\n",
       "      <td>163.000000</td>\n",
       "    </tr>\n",
       "    <tr>\n",
       "      <th>arrhythmia</th>\n",
       "      <td>451.0</td>\n",
       "      <td>0.456763</td>\n",
       "      <td>0.498680</td>\n",
       "      <td>0.000000</td>\n",
       "      <td>0.000000</td>\n",
       "      <td>0.000000</td>\n",
       "      <td>1.000000</td>\n",
       "      <td>1.000000</td>\n",
       "    </tr>\n",
       "    <tr>\n",
       "      <th>qtc</th>\n",
       "      <td>451.0</td>\n",
       "      <td>405.292149</td>\n",
       "      <td>30.962712</td>\n",
       "      <td>264.002273</td>\n",
       "      <td>387.989690</td>\n",
       "      <td>403.622100</td>\n",
       "      <td>421.355986</td>\n",
       "      <td>566.333603</td>\n",
       "    </tr>\n",
       "    <tr>\n",
       "      <th>bmi</th>\n",
       "      <td>451.0</td>\n",
       "      <td>25.277753</td>\n",
       "      <td>5.158686</td>\n",
       "      <td>5.202914</td>\n",
       "      <td>22.483968</td>\n",
       "      <td>25.059307</td>\n",
       "      <td>27.900353</td>\n",
       "      <td>61.622492</td>\n",
       "    </tr>\n",
       "  </tbody>\n",
       "</table>\n",
       "</div>"
      ],
      "text/plain": [
       "            count        mean        std         min         25%         50%  \\\n",
       "age         451.0   46.407982  16.429846    0.000000   36.000000   47.000000   \n",
       "sex         451.0    0.552106   0.497830    0.000000    0.000000    1.000000   \n",
       "height      451.0  163.363636  12.114488   60.000000  160.000000  164.000000   \n",
       "weight      451.0   68.144124  16.599841    6.000000   59.000000   68.000000   \n",
       "qrs_int     451.0   88.922395  15.381395   55.000000   80.000000   86.000000   \n",
       "pr_int      451.0  155.095344  44.875504    0.000000  142.000000  157.000000   \n",
       "qt_int      451.0  367.223947  33.420765  232.000000  350.000000  367.000000   \n",
       "t_int       451.0  169.933481  35.671090  108.000000  148.000000  162.000000   \n",
       "p_int       451.0   89.975610  25.848049    0.000000   79.000000   91.000000   \n",
       "qrs         451.0   33.787140  45.421423 -172.000000    4.000000   40.000000   \n",
       "twave       451.0   35.560976  57.595121 -177.000000   13.000000   41.000000   \n",
       "pwave       451.0   46.501109  30.525936 -170.000000   36.000000   54.000000   \n",
       "qrst        451.0   36.709534  36.027241 -135.000000   12.000000   40.000000   \n",
       "jwave       451.0    0.168514   0.374738    0.000000    0.000000    0.000000   \n",
       "hr          451.0   74.463415  13.870684   44.000000   65.000000   72.000000   \n",
       "arrhythmia  451.0    0.456763   0.498680    0.000000    0.000000    0.000000   \n",
       "qtc         451.0  405.292149  30.962712  264.002273  387.989690  403.622100   \n",
       "bmi         451.0   25.277753   5.158686    5.202914   22.483968   25.059307   \n",
       "\n",
       "                   75%         max  \n",
       "age          58.000000   83.000000  \n",
       "sex           1.000000    1.000000  \n",
       "height      170.000000  190.000000  \n",
       "weight       78.500000  176.000000  \n",
       "qrs_int      94.000000  188.000000  \n",
       "pr_int      174.500000  524.000000  \n",
       "qt_int      384.000000  509.000000  \n",
       "t_int       179.000000  381.000000  \n",
       "p_int       102.000000  205.000000  \n",
       "qrs          66.000000  169.000000  \n",
       "twave        63.000000  179.000000  \n",
       "pwave        64.000000  176.000000  \n",
       "qrst         62.000000  166.000000  \n",
       "jwave         0.000000    1.000000  \n",
       "hr           81.000000  163.000000  \n",
       "arrhythmia    1.000000    1.000000  \n",
       "qtc         421.355986  566.333603  \n",
       "bmi          27.900353   61.622492  "
      ]
     },
     "execution_count": 197,
     "metadata": {},
     "output_type": "execute_result"
    }
   ],
   "source": [
    "dft2.describe().T"
   ]
  },
  {
   "cell_type": "code",
   "execution_count": 43,
   "metadata": {},
   "outputs": [
    {
     "name": "stdout",
     "output_type": "stream",
     "text": [
      "<class 'pandas.core.frame.DataFrame'>\n",
      "RangeIndex: 452 entries, 0 to 451\n",
      "Data columns (total 16 columns):\n",
      "age           452 non-null int64\n",
      "sex           452 non-null int64\n",
      "height        452 non-null int64\n",
      "weight        452 non-null int64\n",
      "qrs_int       452 non-null int64\n",
      "pr_int        452 non-null int64\n",
      "qt_int        452 non-null int64\n",
      "t_int         452 non-null int64\n",
      "p_int         452 non-null int64\n",
      "qrs           452 non-null int64\n",
      "twave         452 non-null int64\n",
      "pwave         452 non-null int64\n",
      "qrst          452 non-null int64\n",
      "jwave         452 non-null int64\n",
      "hr            452 non-null int64\n",
      "arrhythmia    452 non-null int64\n",
      "dtypes: int64(16)\n",
      "memory usage: 56.6 KB\n"
     ]
    }
   ],
   "source": [
    "dft2.info()"
   ]
  },
  {
   "cell_type": "code",
   "execution_count": 44,
   "metadata": {},
   "outputs": [
    {
     "name": "stdout",
     "output_type": "stream",
     "text": [
      " 0      376\n",
      " 84       3\n",
      "-157      2\n",
      "-93       2\n",
      " 169      2\n",
      "-164      2\n",
      " 103      2\n",
      "-105      1\n",
      "-90       1\n",
      " 91       1\n",
      "-95       1\n",
      "-108      1\n",
      " 86       1\n",
      "-109      1\n",
      "-112      1\n",
      "-113      1\n",
      " 114      1\n",
      "-117      1\n",
      "-118      1\n",
      "-89       1\n",
      " 13       1\n",
      "-18       1\n",
      "-121      1\n",
      "-84       1\n",
      "-124      1\n",
      " 74       1\n",
      " 62       1\n",
      "-57       1\n",
      "-44       1\n",
      "-39       1\n",
      "       ... \n",
      "-179      1\n",
      " 178      1\n",
      " 177      1\n",
      " 176      1\n",
      " 175      1\n",
      "-169      1\n",
      "-168      1\n",
      "-167      1\n",
      "-166      1\n",
      " 164      1\n",
      "-163      1\n",
      " 161      1\n",
      " 160      1\n",
      " 154      1\n",
      "-162      1\n",
      " 153      1\n",
      "-153      1\n",
      " 151      1\n",
      "-150      1\n",
      "-148      1\n",
      " 144      1\n",
      "-144      1\n",
      " 141      1\n",
      " 139      1\n",
      "-137      1\n",
      " 132      1\n",
      "-132      1\n",
      " 128      1\n",
      "-126      1\n",
      " 123      1\n",
      "Name: jwave, Length: 70, dtype: int64\n"
     ]
    }
   ],
   "source": [
    "print(dft2.jwave.value_counts())"
   ]
  },
  {
   "cell_type": "code",
   "execution_count": 45,
   "metadata": {},
   "outputs": [
    {
     "data": {
      "image/png": "[encoded data removed]",
      "text/plain": [
       "<Figure size 1080x720 with 12 Axes>"
      ]
     },
     "metadata": {
      "needs_background": "light"
     },
     "output_type": "display_data"
    }
   ],
   "source": [
    "dft.hist(bins=10, figsize=(15, 10))\n",
    "plt.show()"
   ]
  },
  {
   "cell_type": "markdown",
   "metadata": {},
   "source": [
    "Some of the height data looks like it has unrealistic outliers. The p_int and pr_int having values close to or equal to zero may not be realistic either, but may also be possible. There is also an outlier in weight. Also a heart rate close to zero should be removed, that person is dead.\n",
    "\n",
    "Negative values for the non-interval data is possible as it represents an opposite direction of motion of the heart, so it may not be irrelevant data.\n",
    "\n",
    "Sex appears to be evenly distributed.\n",
    "\n",
    "qrs_int, t_int, t_wave, pr_int may benefit from transformations."
   ]
  },
  {
   "cell_type": "code",
   "execution_count": 46,
   "metadata": {},
   "outputs": [
    {
     "data": {
      "text/html": [
       "<div>\n",
       "<style scoped>\n",
       "    .dataframe tbody tr th:only-of-type {\n",
       "        vertical-align: middle;\n",
       "    }\n",
       "\n",
       "    .dataframe tbody tr th {\n",
       "        vertical-align: top;\n",
       "    }\n",
       "\n",
       "    .dataframe thead th {\n",
       "        text-align: right;\n",
       "    }\n",
       "</style>\n",
       "<table border=\"1\" class=\"dataframe\">\n",
       "  <thead>\n",
       "    <tr style=\"text-align: right;\">\n",
       "      <th></th>\n",
       "      <th>age</th>\n",
       "      <th>sex</th>\n",
       "      <th>height</th>\n",
       "      <th>weight</th>\n",
       "      <th>qrs_int</th>\n",
       "      <th>pr_int</th>\n",
       "      <th>qt_int</th>\n",
       "      <th>t_int</th>\n",
       "      <th>p_int</th>\n",
       "      <th>qrs</th>\n",
       "      <th>twave</th>\n",
       "      <th>pwave</th>\n",
       "      <th>qrst</th>\n",
       "      <th>jwave</th>\n",
       "      <th>hr</th>\n",
       "      <th>arrhythmia</th>\n",
       "    </tr>\n",
       "  </thead>\n",
       "  <tbody>\n",
       "    <tr>\n",
       "      <th>141</th>\n",
       "      <td>1</td>\n",
       "      <td>1</td>\n",
       "      <td>780</td>\n",
       "      <td>6</td>\n",
       "      <td>85</td>\n",
       "      <td>165</td>\n",
       "      <td>237</td>\n",
       "      <td>150</td>\n",
       "      <td>106</td>\n",
       "      <td>88</td>\n",
       "      <td>30</td>\n",
       "      <td>30</td>\n",
       "      <td>52</td>\n",
       "      <td>0</td>\n",
       "      <td>138</td>\n",
       "      <td>5</td>\n",
       "    </tr>\n",
       "    <tr>\n",
       "      <th>316</th>\n",
       "      <td>0</td>\n",
       "      <td>0</td>\n",
       "      <td>608</td>\n",
       "      <td>10</td>\n",
       "      <td>83</td>\n",
       "      <td>126</td>\n",
       "      <td>232</td>\n",
       "      <td>128</td>\n",
       "      <td>60</td>\n",
       "      <td>125</td>\n",
       "      <td>21</td>\n",
       "      <td>-50</td>\n",
       "      <td>102</td>\n",
       "      <td>0</td>\n",
       "      <td>163</td>\n",
       "      <td>5</td>\n",
       "    </tr>\n",
       "  </tbody>\n",
       "</table>\n",
       "</div>"
      ],
      "text/plain": [
       "     age  sex  height  weight  qrs_int  pr_int  qt_int  t_int  p_int  qrs  \\\n",
       "141    1    1     780       6       85     165     237    150    106   88   \n",
       "316    0    0     608      10       83     126     232    128     60  125   \n",
       "\n",
       "     twave  pwave  qrst  jwave   hr  arrhythmia  \n",
       "141     30     30    52      0  138           5  \n",
       "316     21    -50   102      0  163           5  "
      ]
     },
     "execution_count": 46,
     "metadata": {},
     "output_type": "execute_result"
    }
   ],
   "source": [
    "# observing outliers\n",
    "# appears to be height in mm, not cm.\n",
    "dft2[dft2.height > 200]"
   ]
  },
  {
   "cell_type": "code",
   "execution_count": 47,
   "metadata": {},
   "outputs": [
    {
     "data": {
      "text/html": [
       "<div>\n",
       "<style scoped>\n",
       "    .dataframe tbody tr th:only-of-type {\n",
       "        vertical-align: middle;\n",
       "    }\n",
       "\n",
       "    .dataframe tbody tr th {\n",
       "        vertical-align: top;\n",
       "    }\n",
       "\n",
       "    .dataframe thead th {\n",
       "        text-align: right;\n",
       "    }\n",
       "</style>\n",
       "<table border=\"1\" class=\"dataframe\">\n",
       "  <thead>\n",
       "    <tr style=\"text-align: right;\">\n",
       "      <th></th>\n",
       "      <th>age</th>\n",
       "      <th>sex</th>\n",
       "      <th>height</th>\n",
       "      <th>weight</th>\n",
       "      <th>qrs_int</th>\n",
       "      <th>pr_int</th>\n",
       "      <th>qt_int</th>\n",
       "      <th>t_int</th>\n",
       "      <th>p_int</th>\n",
       "      <th>qrs</th>\n",
       "      <th>twave</th>\n",
       "      <th>pwave</th>\n",
       "      <th>qrst</th>\n",
       "      <th>jwave</th>\n",
       "      <th>hr</th>\n",
       "      <th>arrhythmia</th>\n",
       "    </tr>\n",
       "  </thead>\n",
       "  <tbody>\n",
       "    <tr>\n",
       "      <th>60</th>\n",
       "      <td>1</td>\n",
       "      <td>0</td>\n",
       "      <td>110</td>\n",
       "      <td>10</td>\n",
       "      <td>80</td>\n",
       "      <td>121</td>\n",
       "      <td>287</td>\n",
       "      <td>156</td>\n",
       "      <td>67</td>\n",
       "      <td>126</td>\n",
       "      <td>25</td>\n",
       "      <td>60</td>\n",
       "      <td>104</td>\n",
       "      <td>0</td>\n",
       "      <td>104</td>\n",
       "      <td>5</td>\n",
       "    </tr>\n",
       "    <tr>\n",
       "      <th>113</th>\n",
       "      <td>9</td>\n",
       "      <td>0</td>\n",
       "      <td>132</td>\n",
       "      <td>33</td>\n",
       "      <td>87</td>\n",
       "      <td>159</td>\n",
       "      <td>335</td>\n",
       "      <td>167</td>\n",
       "      <td>65</td>\n",
       "      <td>78</td>\n",
       "      <td>48</td>\n",
       "      <td>-6</td>\n",
       "      <td>62</td>\n",
       "      <td>0</td>\n",
       "      <td>78</td>\n",
       "      <td>1</td>\n",
       "    </tr>\n",
       "    <tr>\n",
       "      <th>198</th>\n",
       "      <td>13</td>\n",
       "      <td>1</td>\n",
       "      <td>133</td>\n",
       "      <td>30</td>\n",
       "      <td>96</td>\n",
       "      <td>176</td>\n",
       "      <td>356</td>\n",
       "      <td>171</td>\n",
       "      <td>137</td>\n",
       "      <td>102</td>\n",
       "      <td>-63</td>\n",
       "      <td>68</td>\n",
       "      <td>-10</td>\n",
       "      <td>-39</td>\n",
       "      <td>96</td>\n",
       "      <td>16</td>\n",
       "    </tr>\n",
       "    <tr>\n",
       "      <th>210</th>\n",
       "      <td>11</td>\n",
       "      <td>1</td>\n",
       "      <td>124</td>\n",
       "      <td>25</td>\n",
       "      <td>90</td>\n",
       "      <td>161</td>\n",
       "      <td>349</td>\n",
       "      <td>209</td>\n",
       "      <td>98</td>\n",
       "      <td>80</td>\n",
       "      <td>87</td>\n",
       "      <td>56</td>\n",
       "      <td>87</td>\n",
       "      <td>0</td>\n",
       "      <td>91</td>\n",
       "      <td>10</td>\n",
       "    </tr>\n",
       "    <tr>\n",
       "      <th>297</th>\n",
       "      <td>7</td>\n",
       "      <td>1</td>\n",
       "      <td>130</td>\n",
       "      <td>30</td>\n",
       "      <td>131</td>\n",
       "      <td>161</td>\n",
       "      <td>377</td>\n",
       "      <td>216</td>\n",
       "      <td>100</td>\n",
       "      <td>155</td>\n",
       "      <td>36</td>\n",
       "      <td>55</td>\n",
       "      <td>60</td>\n",
       "      <td>33</td>\n",
       "      <td>87</td>\n",
       "      <td>10</td>\n",
       "    </tr>\n",
       "    <tr>\n",
       "      <th>320</th>\n",
       "      <td>3</td>\n",
       "      <td>0</td>\n",
       "      <td>105</td>\n",
       "      <td>12</td>\n",
       "      <td>69</td>\n",
       "      <td>155</td>\n",
       "      <td>240</td>\n",
       "      <td>133</td>\n",
       "      <td>64</td>\n",
       "      <td>93</td>\n",
       "      <td>95</td>\n",
       "      <td>54</td>\n",
       "      <td>92</td>\n",
       "      <td>0</td>\n",
       "      <td>124</td>\n",
       "      <td>5</td>\n",
       "    </tr>\n",
       "    <tr>\n",
       "      <th>379</th>\n",
       "      <td>8</td>\n",
       "      <td>0</td>\n",
       "      <td>120</td>\n",
       "      <td>28</td>\n",
       "      <td>118</td>\n",
       "      <td>126</td>\n",
       "      <td>303</td>\n",
       "      <td>164</td>\n",
       "      <td>80</td>\n",
       "      <td>120</td>\n",
       "      <td>17</td>\n",
       "      <td>37</td>\n",
       "      <td>68</td>\n",
       "      <td>0</td>\n",
       "      <td>123</td>\n",
       "      <td>10</td>\n",
       "    </tr>\n",
       "    <tr>\n",
       "      <th>401</th>\n",
       "      <td>9</td>\n",
       "      <td>0</td>\n",
       "      <td>120</td>\n",
       "      <td>25</td>\n",
       "      <td>95</td>\n",
       "      <td>118</td>\n",
       "      <td>347</td>\n",
       "      <td>156</td>\n",
       "      <td>66</td>\n",
       "      <td>84</td>\n",
       "      <td>41</td>\n",
       "      <td>42</td>\n",
       "      <td>64</td>\n",
       "      <td>0</td>\n",
       "      <td>82</td>\n",
       "      <td>14</td>\n",
       "    </tr>\n",
       "    <tr>\n",
       "      <th>403</th>\n",
       "      <td>7</td>\n",
       "      <td>1</td>\n",
       "      <td>127</td>\n",
       "      <td>22</td>\n",
       "      <td>185</td>\n",
       "      <td>204</td>\n",
       "      <td>284</td>\n",
       "      <td>123</td>\n",
       "      <td>72</td>\n",
       "      <td>-172</td>\n",
       "      <td>24</td>\n",
       "      <td>176</td>\n",
       "      <td>166</td>\n",
       "      <td>13</td>\n",
       "      <td>122</td>\n",
       "      <td>5</td>\n",
       "    </tr>\n",
       "    <tr>\n",
       "      <th>424</th>\n",
       "      <td>7</td>\n",
       "      <td>0</td>\n",
       "      <td>119</td>\n",
       "      <td>21</td>\n",
       "      <td>140</td>\n",
       "      <td>157</td>\n",
       "      <td>438</td>\n",
       "      <td>226</td>\n",
       "      <td>81</td>\n",
       "      <td>-40</td>\n",
       "      <td>86</td>\n",
       "      <td>29</td>\n",
       "      <td>69</td>\n",
       "      <td>103</td>\n",
       "      <td>70</td>\n",
       "      <td>9</td>\n",
       "    </tr>\n",
       "    <tr>\n",
       "      <th>429</th>\n",
       "      <td>8</td>\n",
       "      <td>1</td>\n",
       "      <td>130</td>\n",
       "      <td>24</td>\n",
       "      <td>77</td>\n",
       "      <td>125</td>\n",
       "      <td>358</td>\n",
       "      <td>159</td>\n",
       "      <td>70</td>\n",
       "      <td>87</td>\n",
       "      <td>55</td>\n",
       "      <td>16</td>\n",
       "      <td>76</td>\n",
       "      <td>0</td>\n",
       "      <td>80</td>\n",
       "      <td>16</td>\n",
       "    </tr>\n",
       "    <tr>\n",
       "      <th>430</th>\n",
       "      <td>11</td>\n",
       "      <td>0</td>\n",
       "      <td>138</td>\n",
       "      <td>29</td>\n",
       "      <td>123</td>\n",
       "      <td>145</td>\n",
       "      <td>361</td>\n",
       "      <td>221</td>\n",
       "      <td>80</td>\n",
       "      <td>112</td>\n",
       "      <td>-17</td>\n",
       "      <td>14</td>\n",
       "      <td>51</td>\n",
       "      <td>-44</td>\n",
       "      <td>93</td>\n",
       "      <td>10</td>\n",
       "    </tr>\n",
       "  </tbody>\n",
       "</table>\n",
       "</div>"
      ],
      "text/plain": [
       "     age  sex  height  weight  qrs_int  pr_int  qt_int  t_int  p_int  qrs  \\\n",
       "60     1    0     110      10       80     121     287    156     67  126   \n",
       "113    9    0     132      33       87     159     335    167     65   78   \n",
       "198   13    1     133      30       96     176     356    171    137  102   \n",
       "210   11    1     124      25       90     161     349    209     98   80   \n",
       "297    7    1     130      30      131     161     377    216    100  155   \n",
       "320    3    0     105      12       69     155     240    133     64   93   \n",
       "379    8    0     120      28      118     126     303    164     80  120   \n",
       "401    9    0     120      25       95     118     347    156     66   84   \n",
       "403    7    1     127      22      185     204     284    123     72 -172   \n",
       "424    7    0     119      21      140     157     438    226     81  -40   \n",
       "429    8    1     130      24       77     125     358    159     70   87   \n",
       "430   11    0     138      29      123     145     361    221     80  112   \n",
       "\n",
       "     twave  pwave  qrst  jwave   hr  arrhythmia  \n",
       "60      25     60   104      0  104           5  \n",
       "113     48     -6    62      0   78           1  \n",
       "198    -63     68   -10    -39   96          16  \n",
       "210     87     56    87      0   91          10  \n",
       "297     36     55    60     33   87          10  \n",
       "320     95     54    92      0  124           5  \n",
       "379     17     37    68      0  123          10  \n",
       "401     41     42    64      0   82          14  \n",
       "403     24    176   166     13  122           5  \n",
       "424     86     29    69    103   70           9  \n",
       "429     55     16    76      0   80          16  \n",
       "430    -17     14    51    -44   93          10  "
      ]
     },
     "execution_count": 47,
     "metadata": {},
     "output_type": "execute_result"
    }
   ],
   "source": [
    "dft2[dft2.height < 140]"
   ]
  },
  {
   "cell_type": "code",
   "execution_count": 48,
   "metadata": {},
   "outputs": [
    {
     "data": {
      "text/html": [
       "<div>\n",
       "<style scoped>\n",
       "    .dataframe tbody tr th:only-of-type {\n",
       "        vertical-align: middle;\n",
       "    }\n",
       "\n",
       "    .dataframe tbody tr th {\n",
       "        vertical-align: top;\n",
       "    }\n",
       "\n",
       "    .dataframe thead th {\n",
       "        text-align: right;\n",
       "    }\n",
       "</style>\n",
       "<table border=\"1\" class=\"dataframe\">\n",
       "  <thead>\n",
       "    <tr style=\"text-align: right;\">\n",
       "      <th></th>\n",
       "      <th>age</th>\n",
       "      <th>sex</th>\n",
       "      <th>height</th>\n",
       "      <th>weight</th>\n",
       "      <th>qrs_int</th>\n",
       "      <th>pr_int</th>\n",
       "      <th>qt_int</th>\n",
       "      <th>t_int</th>\n",
       "      <th>p_int</th>\n",
       "      <th>qrs</th>\n",
       "      <th>twave</th>\n",
       "      <th>pwave</th>\n",
       "      <th>qrst</th>\n",
       "      <th>jwave</th>\n",
       "      <th>hr</th>\n",
       "      <th>arrhythmia</th>\n",
       "    </tr>\n",
       "  </thead>\n",
       "  <tbody>\n",
       "    <tr>\n",
       "      <th>316</th>\n",
       "      <td>0</td>\n",
       "      <td>0</td>\n",
       "      <td>608</td>\n",
       "      <td>10</td>\n",
       "      <td>83</td>\n",
       "      <td>126</td>\n",
       "      <td>232</td>\n",
       "      <td>128</td>\n",
       "      <td>60</td>\n",
       "      <td>125</td>\n",
       "      <td>21</td>\n",
       "      <td>-50</td>\n",
       "      <td>102</td>\n",
       "      <td>0</td>\n",
       "      <td>163</td>\n",
       "      <td>5</td>\n",
       "    </tr>\n",
       "  </tbody>\n",
       "</table>\n",
       "</div>"
      ],
      "text/plain": [
       "     age  sex  height  weight  qrs_int  pr_int  qt_int  t_int  p_int  qrs  \\\n",
       "316    0    0     608      10       83     126     232    128     60  125   \n",
       "\n",
       "     twave  pwave  qrst  jwave   hr  arrhythmia  \n",
       "316     21    -50   102      0  163           5  "
      ]
     },
     "execution_count": 48,
     "metadata": {},
     "output_type": "execute_result"
    }
   ],
   "source": [
    "dft2[dft2.age == 0]"
   ]
  },
  {
   "cell_type": "code",
   "execution_count": 49,
   "metadata": {},
   "outputs": [],
   "source": [
    "dft2.at[(316),('height')] = 60.8\n",
    "dft2.at[(141),('height')] = 78.0\n",
    "# Changing height of infants in mm into cm"
   ]
  },
  {
   "cell_type": "code",
   "execution_count": 50,
   "metadata": {},
   "outputs": [
    {
     "data": {
      "text/html": [
       "<div>\n",
       "<style scoped>\n",
       "    .dataframe tbody tr th:only-of-type {\n",
       "        vertical-align: middle;\n",
       "    }\n",
       "\n",
       "    .dataframe tbody tr th {\n",
       "        vertical-align: top;\n",
       "    }\n",
       "\n",
       "    .dataframe thead th {\n",
       "        text-align: right;\n",
       "    }\n",
       "</style>\n",
       "<table border=\"1\" class=\"dataframe\">\n",
       "  <thead>\n",
       "    <tr style=\"text-align: right;\">\n",
       "      <th></th>\n",
       "      <th>age</th>\n",
       "      <th>sex</th>\n",
       "      <th>height</th>\n",
       "      <th>weight</th>\n",
       "      <th>qrs_int</th>\n",
       "      <th>pr_int</th>\n",
       "      <th>qt_int</th>\n",
       "      <th>t_int</th>\n",
       "      <th>p_int</th>\n",
       "      <th>qrs</th>\n",
       "      <th>twave</th>\n",
       "      <th>pwave</th>\n",
       "      <th>qrst</th>\n",
       "      <th>jwave</th>\n",
       "      <th>hr</th>\n",
       "      <th>arrhythmia</th>\n",
       "    </tr>\n",
       "  </thead>\n",
       "  <tbody>\n",
       "    <tr>\n",
       "      <th>316</th>\n",
       "      <td>0</td>\n",
       "      <td>0</td>\n",
       "      <td>60</td>\n",
       "      <td>10</td>\n",
       "      <td>83</td>\n",
       "      <td>126</td>\n",
       "      <td>232</td>\n",
       "      <td>128</td>\n",
       "      <td>60</td>\n",
       "      <td>125</td>\n",
       "      <td>21</td>\n",
       "      <td>-50</td>\n",
       "      <td>102</td>\n",
       "      <td>0</td>\n",
       "      <td>163</td>\n",
       "      <td>5</td>\n",
       "    </tr>\n",
       "  </tbody>\n",
       "</table>\n",
       "</div>"
      ],
      "text/plain": [
       "     age  sex  height  weight  qrs_int  pr_int  qt_int  t_int  p_int  qrs  \\\n",
       "316    0    0      60      10       83     126     232    128     60  125   \n",
       "\n",
       "     twave  pwave  qrst  jwave   hr  arrhythmia  \n",
       "316     21    -50   102      0  163           5  "
      ]
     },
     "execution_count": 50,
     "metadata": {},
     "output_type": "execute_result"
    }
   ],
   "source": [
    "dft2[dft2.age == 0]"
   ]
  },
  {
   "cell_type": "code",
   "execution_count": 51,
   "metadata": {},
   "outputs": [
    {
     "data": {
      "text/html": [
       "<div>\n",
       "<style scoped>\n",
       "    .dataframe tbody tr th:only-of-type {\n",
       "        vertical-align: middle;\n",
       "    }\n",
       "\n",
       "    .dataframe tbody tr th {\n",
       "        vertical-align: top;\n",
       "    }\n",
       "\n",
       "    .dataframe thead th {\n",
       "        text-align: right;\n",
       "    }\n",
       "</style>\n",
       "<table border=\"1\" class=\"dataframe\">\n",
       "  <thead>\n",
       "    <tr style=\"text-align: right;\">\n",
       "      <th></th>\n",
       "      <th>age</th>\n",
       "      <th>sex</th>\n",
       "      <th>height</th>\n",
       "      <th>weight</th>\n",
       "      <th>qrs_int</th>\n",
       "      <th>pr_int</th>\n",
       "      <th>qt_int</th>\n",
       "      <th>t_int</th>\n",
       "      <th>p_int</th>\n",
       "      <th>qrs</th>\n",
       "      <th>twave</th>\n",
       "      <th>pwave</th>\n",
       "      <th>qrst</th>\n",
       "      <th>jwave</th>\n",
       "      <th>hr</th>\n",
       "      <th>arrhythmia</th>\n",
       "    </tr>\n",
       "  </thead>\n",
       "  <tbody>\n",
       "    <tr>\n",
       "      <th>5</th>\n",
       "      <td>13</td>\n",
       "      <td>0</td>\n",
       "      <td>169</td>\n",
       "      <td>51</td>\n",
       "      <td>100</td>\n",
       "      <td>167</td>\n",
       "      <td>321</td>\n",
       "      <td>174</td>\n",
       "      <td>91</td>\n",
       "      <td>107</td>\n",
       "      <td>66</td>\n",
       "      <td>52</td>\n",
       "      <td>88</td>\n",
       "      <td>0</td>\n",
       "      <td>84</td>\n",
       "      <td>14</td>\n",
       "    </tr>\n",
       "    <tr>\n",
       "      <th>60</th>\n",
       "      <td>1</td>\n",
       "      <td>0</td>\n",
       "      <td>110</td>\n",
       "      <td>10</td>\n",
       "      <td>80</td>\n",
       "      <td>121</td>\n",
       "      <td>287</td>\n",
       "      <td>156</td>\n",
       "      <td>67</td>\n",
       "      <td>126</td>\n",
       "      <td>25</td>\n",
       "      <td>60</td>\n",
       "      <td>104</td>\n",
       "      <td>0</td>\n",
       "      <td>104</td>\n",
       "      <td>5</td>\n",
       "    </tr>\n",
       "    <tr>\n",
       "      <th>86</th>\n",
       "      <td>19</td>\n",
       "      <td>0</td>\n",
       "      <td>165</td>\n",
       "      <td>50</td>\n",
       "      <td>96</td>\n",
       "      <td>151</td>\n",
       "      <td>373</td>\n",
       "      <td>147</td>\n",
       "      <td>102</td>\n",
       "      <td>68</td>\n",
       "      <td>175</td>\n",
       "      <td>72</td>\n",
       "      <td>82</td>\n",
       "      <td>-112</td>\n",
       "      <td>67</td>\n",
       "      <td>2</td>\n",
       "    </tr>\n",
       "    <tr>\n",
       "      <th>102</th>\n",
       "      <td>19</td>\n",
       "      <td>1</td>\n",
       "      <td>157</td>\n",
       "      <td>40</td>\n",
       "      <td>98</td>\n",
       "      <td>176</td>\n",
       "      <td>343</td>\n",
       "      <td>132</td>\n",
       "      <td>144</td>\n",
       "      <td>169</td>\n",
       "      <td>73</td>\n",
       "      <td>58</td>\n",
       "      <td>124</td>\n",
       "      <td>0</td>\n",
       "      <td>101</td>\n",
       "      <td>1</td>\n",
       "    </tr>\n",
       "    <tr>\n",
       "      <th>108</th>\n",
       "      <td>17</td>\n",
       "      <td>0</td>\n",
       "      <td>170</td>\n",
       "      <td>61</td>\n",
       "      <td>97</td>\n",
       "      <td>0</td>\n",
       "      <td>353</td>\n",
       "      <td>141</td>\n",
       "      <td>0</td>\n",
       "      <td>90</td>\n",
       "      <td>-92</td>\n",
       "      <td>0</td>\n",
       "      <td>92</td>\n",
       "      <td>-95</td>\n",
       "      <td>86</td>\n",
       "      <td>2</td>\n",
       "    </tr>\n",
       "    <tr>\n",
       "      <th>113</th>\n",
       "      <td>9</td>\n",
       "      <td>0</td>\n",
       "      <td>132</td>\n",
       "      <td>33</td>\n",
       "      <td>87</td>\n",
       "      <td>159</td>\n",
       "      <td>335</td>\n",
       "      <td>167</td>\n",
       "      <td>65</td>\n",
       "      <td>78</td>\n",
       "      <td>48</td>\n",
       "      <td>-6</td>\n",
       "      <td>62</td>\n",
       "      <td>0</td>\n",
       "      <td>78</td>\n",
       "      <td>1</td>\n",
       "    </tr>\n",
       "    <tr>\n",
       "      <th>141</th>\n",
       "      <td>1</td>\n",
       "      <td>1</td>\n",
       "      <td>78</td>\n",
       "      <td>6</td>\n",
       "      <td>85</td>\n",
       "      <td>165</td>\n",
       "      <td>237</td>\n",
       "      <td>150</td>\n",
       "      <td>106</td>\n",
       "      <td>88</td>\n",
       "      <td>30</td>\n",
       "      <td>30</td>\n",
       "      <td>52</td>\n",
       "      <td>0</td>\n",
       "      <td>138</td>\n",
       "      <td>5</td>\n",
       "    </tr>\n",
       "    <tr>\n",
       "      <th>146</th>\n",
       "      <td>18</td>\n",
       "      <td>0</td>\n",
       "      <td>175</td>\n",
       "      <td>60</td>\n",
       "      <td>102</td>\n",
       "      <td>135</td>\n",
       "      <td>379</td>\n",
       "      <td>167</td>\n",
       "      <td>73</td>\n",
       "      <td>91</td>\n",
       "      <td>38</td>\n",
       "      <td>61</td>\n",
       "      <td>69</td>\n",
       "      <td>0</td>\n",
       "      <td>62</td>\n",
       "      <td>10</td>\n",
       "    </tr>\n",
       "    <tr>\n",
       "      <th>149</th>\n",
       "      <td>17</td>\n",
       "      <td>1</td>\n",
       "      <td>160</td>\n",
       "      <td>54</td>\n",
       "      <td>85</td>\n",
       "      <td>137</td>\n",
       "      <td>323</td>\n",
       "      <td>143</td>\n",
       "      <td>87</td>\n",
       "      <td>72</td>\n",
       "      <td>29</td>\n",
       "      <td>78</td>\n",
       "      <td>50</td>\n",
       "      <td>0</td>\n",
       "      <td>93</td>\n",
       "      <td>10</td>\n",
       "    </tr>\n",
       "    <tr>\n",
       "      <th>167</th>\n",
       "      <td>19</td>\n",
       "      <td>1</td>\n",
       "      <td>156</td>\n",
       "      <td>47</td>\n",
       "      <td>80</td>\n",
       "      <td>137</td>\n",
       "      <td>342</td>\n",
       "      <td>243</td>\n",
       "      <td>92</td>\n",
       "      <td>-7</td>\n",
       "      <td>48</td>\n",
       "      <td>69</td>\n",
       "      <td>27</td>\n",
       "      <td>0</td>\n",
       "      <td>92</td>\n",
       "      <td>1</td>\n",
       "    </tr>\n",
       "    <tr>\n",
       "      <th>181</th>\n",
       "      <td>18</td>\n",
       "      <td>0</td>\n",
       "      <td>175</td>\n",
       "      <td>66</td>\n",
       "      <td>91</td>\n",
       "      <td>139</td>\n",
       "      <td>364</td>\n",
       "      <td>191</td>\n",
       "      <td>87</td>\n",
       "      <td>20</td>\n",
       "      <td>67</td>\n",
       "      <td>63</td>\n",
       "      <td>49</td>\n",
       "      <td>0</td>\n",
       "      <td>72</td>\n",
       "      <td>16</td>\n",
       "    </tr>\n",
       "    <tr>\n",
       "      <th>198</th>\n",
       "      <td>13</td>\n",
       "      <td>1</td>\n",
       "      <td>133</td>\n",
       "      <td>30</td>\n",
       "      <td>96</td>\n",
       "      <td>176</td>\n",
       "      <td>356</td>\n",
       "      <td>171</td>\n",
       "      <td>137</td>\n",
       "      <td>102</td>\n",
       "      <td>-63</td>\n",
       "      <td>68</td>\n",
       "      <td>-10</td>\n",
       "      <td>-39</td>\n",
       "      <td>96</td>\n",
       "      <td>16</td>\n",
       "    </tr>\n",
       "    <tr>\n",
       "      <th>210</th>\n",
       "      <td>11</td>\n",
       "      <td>1</td>\n",
       "      <td>124</td>\n",
       "      <td>25</td>\n",
       "      <td>90</td>\n",
       "      <td>161</td>\n",
       "      <td>349</td>\n",
       "      <td>209</td>\n",
       "      <td>98</td>\n",
       "      <td>80</td>\n",
       "      <td>87</td>\n",
       "      <td>56</td>\n",
       "      <td>87</td>\n",
       "      <td>0</td>\n",
       "      <td>91</td>\n",
       "      <td>10</td>\n",
       "    </tr>\n",
       "    <tr>\n",
       "      <th>211</th>\n",
       "      <td>18</td>\n",
       "      <td>0</td>\n",
       "      <td>180</td>\n",
       "      <td>63</td>\n",
       "      <td>93</td>\n",
       "      <td>160</td>\n",
       "      <td>321</td>\n",
       "      <td>172</td>\n",
       "      <td>101</td>\n",
       "      <td>111</td>\n",
       "      <td>72</td>\n",
       "      <td>75</td>\n",
       "      <td>80</td>\n",
       "      <td>0</td>\n",
       "      <td>92</td>\n",
       "      <td>1</td>\n",
       "    </tr>\n",
       "    <tr>\n",
       "      <th>216</th>\n",
       "      <td>17</td>\n",
       "      <td>1</td>\n",
       "      <td>156</td>\n",
       "      <td>40</td>\n",
       "      <td>77</td>\n",
       "      <td>106</td>\n",
       "      <td>465</td>\n",
       "      <td>147</td>\n",
       "      <td>57</td>\n",
       "      <td>53</td>\n",
       "      <td>174</td>\n",
       "      <td>67</td>\n",
       "      <td>84</td>\n",
       "      <td>0</td>\n",
       "      <td>89</td>\n",
       "      <td>2</td>\n",
       "    </tr>\n",
       "    <tr>\n",
       "      <th>250</th>\n",
       "      <td>15</td>\n",
       "      <td>1</td>\n",
       "      <td>170</td>\n",
       "      <td>53</td>\n",
       "      <td>105</td>\n",
       "      <td>149</td>\n",
       "      <td>362</td>\n",
       "      <td>143</td>\n",
       "      <td>82</td>\n",
       "      <td>-38</td>\n",
       "      <td>49</td>\n",
       "      <td>70</td>\n",
       "      <td>0</td>\n",
       "      <td>0</td>\n",
       "      <td>80</td>\n",
       "      <td>10</td>\n",
       "    </tr>\n",
       "    <tr>\n",
       "      <th>297</th>\n",
       "      <td>7</td>\n",
       "      <td>1</td>\n",
       "      <td>130</td>\n",
       "      <td>30</td>\n",
       "      <td>131</td>\n",
       "      <td>161</td>\n",
       "      <td>377</td>\n",
       "      <td>216</td>\n",
       "      <td>100</td>\n",
       "      <td>155</td>\n",
       "      <td>36</td>\n",
       "      <td>55</td>\n",
       "      <td>60</td>\n",
       "      <td>33</td>\n",
       "      <td>87</td>\n",
       "      <td>10</td>\n",
       "    </tr>\n",
       "    <tr>\n",
       "      <th>298</th>\n",
       "      <td>12</td>\n",
       "      <td>1</td>\n",
       "      <td>165</td>\n",
       "      <td>47</td>\n",
       "      <td>91</td>\n",
       "      <td>0</td>\n",
       "      <td>359</td>\n",
       "      <td>152</td>\n",
       "      <td>0</td>\n",
       "      <td>8</td>\n",
       "      <td>14</td>\n",
       "      <td>0</td>\n",
       "      <td>10</td>\n",
       "      <td>0</td>\n",
       "      <td>68</td>\n",
       "      <td>10</td>\n",
       "    </tr>\n",
       "    <tr>\n",
       "      <th>305</th>\n",
       "      <td>14</td>\n",
       "      <td>0</td>\n",
       "      <td>175</td>\n",
       "      <td>59</td>\n",
       "      <td>96</td>\n",
       "      <td>141</td>\n",
       "      <td>340</td>\n",
       "      <td>225</td>\n",
       "      <td>87</td>\n",
       "      <td>80</td>\n",
       "      <td>36</td>\n",
       "      <td>56</td>\n",
       "      <td>62</td>\n",
       "      <td>0</td>\n",
       "      <td>83</td>\n",
       "      <td>1</td>\n",
       "    </tr>\n",
       "    <tr>\n",
       "      <th>316</th>\n",
       "      <td>0</td>\n",
       "      <td>0</td>\n",
       "      <td>60</td>\n",
       "      <td>10</td>\n",
       "      <td>83</td>\n",
       "      <td>126</td>\n",
       "      <td>232</td>\n",
       "      <td>128</td>\n",
       "      <td>60</td>\n",
       "      <td>125</td>\n",
       "      <td>21</td>\n",
       "      <td>-50</td>\n",
       "      <td>102</td>\n",
       "      <td>0</td>\n",
       "      <td>163</td>\n",
       "      <td>5</td>\n",
       "    </tr>\n",
       "    <tr>\n",
       "      <th>320</th>\n",
       "      <td>3</td>\n",
       "      <td>0</td>\n",
       "      <td>105</td>\n",
       "      <td>12</td>\n",
       "      <td>69</td>\n",
       "      <td>155</td>\n",
       "      <td>240</td>\n",
       "      <td>133</td>\n",
       "      <td>64</td>\n",
       "      <td>93</td>\n",
       "      <td>95</td>\n",
       "      <td>54</td>\n",
       "      <td>92</td>\n",
       "      <td>0</td>\n",
       "      <td>124</td>\n",
       "      <td>5</td>\n",
       "    </tr>\n",
       "    <tr>\n",
       "      <th>334</th>\n",
       "      <td>19</td>\n",
       "      <td>1</td>\n",
       "      <td>165</td>\n",
       "      <td>65</td>\n",
       "      <td>99</td>\n",
       "      <td>132</td>\n",
       "      <td>383</td>\n",
       "      <td>184</td>\n",
       "      <td>80</td>\n",
       "      <td>14</td>\n",
       "      <td>79</td>\n",
       "      <td>68</td>\n",
       "      <td>65</td>\n",
       "      <td>91</td>\n",
       "      <td>72</td>\n",
       "      <td>10</td>\n",
       "    </tr>\n",
       "    <tr>\n",
       "      <th>374</th>\n",
       "      <td>15</td>\n",
       "      <td>1</td>\n",
       "      <td>163</td>\n",
       "      <td>38</td>\n",
       "      <td>84</td>\n",
       "      <td>135</td>\n",
       "      <td>340</td>\n",
       "      <td>247</td>\n",
       "      <td>81</td>\n",
       "      <td>32</td>\n",
       "      <td>54</td>\n",
       "      <td>52</td>\n",
       "      <td>46</td>\n",
       "      <td>0</td>\n",
       "      <td>96</td>\n",
       "      <td>5</td>\n",
       "    </tr>\n",
       "    <tr>\n",
       "      <th>379</th>\n",
       "      <td>8</td>\n",
       "      <td>0</td>\n",
       "      <td>120</td>\n",
       "      <td>28</td>\n",
       "      <td>118</td>\n",
       "      <td>126</td>\n",
       "      <td>303</td>\n",
       "      <td>164</td>\n",
       "      <td>80</td>\n",
       "      <td>120</td>\n",
       "      <td>17</td>\n",
       "      <td>37</td>\n",
       "      <td>68</td>\n",
       "      <td>0</td>\n",
       "      <td>123</td>\n",
       "      <td>10</td>\n",
       "    </tr>\n",
       "    <tr>\n",
       "      <th>393</th>\n",
       "      <td>16</td>\n",
       "      <td>1</td>\n",
       "      <td>160</td>\n",
       "      <td>60</td>\n",
       "      <td>76</td>\n",
       "      <td>524</td>\n",
       "      <td>329</td>\n",
       "      <td>141</td>\n",
       "      <td>205</td>\n",
       "      <td>81</td>\n",
       "      <td>41</td>\n",
       "      <td>0</td>\n",
       "      <td>73</td>\n",
       "      <td>0</td>\n",
       "      <td>69</td>\n",
       "      <td>1</td>\n",
       "    </tr>\n",
       "    <tr>\n",
       "      <th>401</th>\n",
       "      <td>9</td>\n",
       "      <td>0</td>\n",
       "      <td>120</td>\n",
       "      <td>25</td>\n",
       "      <td>95</td>\n",
       "      <td>118</td>\n",
       "      <td>347</td>\n",
       "      <td>156</td>\n",
       "      <td>66</td>\n",
       "      <td>84</td>\n",
       "      <td>41</td>\n",
       "      <td>42</td>\n",
       "      <td>64</td>\n",
       "      <td>0</td>\n",
       "      <td>82</td>\n",
       "      <td>14</td>\n",
       "    </tr>\n",
       "    <tr>\n",
       "      <th>403</th>\n",
       "      <td>7</td>\n",
       "      <td>1</td>\n",
       "      <td>127</td>\n",
       "      <td>22</td>\n",
       "      <td>185</td>\n",
       "      <td>204</td>\n",
       "      <td>284</td>\n",
       "      <td>123</td>\n",
       "      <td>72</td>\n",
       "      <td>-172</td>\n",
       "      <td>24</td>\n",
       "      <td>176</td>\n",
       "      <td>166</td>\n",
       "      <td>13</td>\n",
       "      <td>122</td>\n",
       "      <td>5</td>\n",
       "    </tr>\n",
       "    <tr>\n",
       "      <th>424</th>\n",
       "      <td>7</td>\n",
       "      <td>0</td>\n",
       "      <td>119</td>\n",
       "      <td>21</td>\n",
       "      <td>140</td>\n",
       "      <td>157</td>\n",
       "      <td>438</td>\n",
       "      <td>226</td>\n",
       "      <td>81</td>\n",
       "      <td>-40</td>\n",
       "      <td>86</td>\n",
       "      <td>29</td>\n",
       "      <td>69</td>\n",
       "      <td>103</td>\n",
       "      <td>70</td>\n",
       "      <td>9</td>\n",
       "    </tr>\n",
       "    <tr>\n",
       "      <th>429</th>\n",
       "      <td>8</td>\n",
       "      <td>1</td>\n",
       "      <td>130</td>\n",
       "      <td>24</td>\n",
       "      <td>77</td>\n",
       "      <td>125</td>\n",
       "      <td>358</td>\n",
       "      <td>159</td>\n",
       "      <td>70</td>\n",
       "      <td>87</td>\n",
       "      <td>55</td>\n",
       "      <td>16</td>\n",
       "      <td>76</td>\n",
       "      <td>0</td>\n",
       "      <td>80</td>\n",
       "      <td>16</td>\n",
       "    </tr>\n",
       "    <tr>\n",
       "      <th>430</th>\n",
       "      <td>11</td>\n",
       "      <td>0</td>\n",
       "      <td>138</td>\n",
       "      <td>29</td>\n",
       "      <td>123</td>\n",
       "      <td>145</td>\n",
       "      <td>361</td>\n",
       "      <td>221</td>\n",
       "      <td>80</td>\n",
       "      <td>112</td>\n",
       "      <td>-17</td>\n",
       "      <td>14</td>\n",
       "      <td>51</td>\n",
       "      <td>-44</td>\n",
       "      <td>93</td>\n",
       "      <td>10</td>\n",
       "    </tr>\n",
       "    <tr>\n",
       "      <th>432</th>\n",
       "      <td>11</td>\n",
       "      <td>0</td>\n",
       "      <td>140</td>\n",
       "      <td>42</td>\n",
       "      <td>88</td>\n",
       "      <td>123</td>\n",
       "      <td>362</td>\n",
       "      <td>228</td>\n",
       "      <td>81</td>\n",
       "      <td>-18</td>\n",
       "      <td>52</td>\n",
       "      <td>67</td>\n",
       "      <td>33</td>\n",
       "      <td>0</td>\n",
       "      <td>74</td>\n",
       "      <td>10</td>\n",
       "    </tr>\n",
       "  </tbody>\n",
       "</table>\n",
       "</div>"
      ],
      "text/plain": [
       "     age  sex  height  weight  qrs_int  pr_int  qt_int  t_int  p_int  qrs  \\\n",
       "5     13    0     169      51      100     167     321    174     91  107   \n",
       "60     1    0     110      10       80     121     287    156     67  126   \n",
       "86    19    0     165      50       96     151     373    147    102   68   \n",
       "102   19    1     157      40       98     176     343    132    144  169   \n",
       "108   17    0     170      61       97       0     353    141      0   90   \n",
       "113    9    0     132      33       87     159     335    167     65   78   \n",
       "141    1    1      78       6       85     165     237    150    106   88   \n",
       "146   18    0     175      60      102     135     379    167     73   91   \n",
       "149   17    1     160      54       85     137     323    143     87   72   \n",
       "167   19    1     156      47       80     137     342    243     92   -7   \n",
       "181   18    0     175      66       91     139     364    191     87   20   \n",
       "198   13    1     133      30       96     176     356    171    137  102   \n",
       "210   11    1     124      25       90     161     349    209     98   80   \n",
       "211   18    0     180      63       93     160     321    172    101  111   \n",
       "216   17    1     156      40       77     106     465    147     57   53   \n",
       "250   15    1     170      53      105     149     362    143     82  -38   \n",
       "297    7    1     130      30      131     161     377    216    100  155   \n",
       "298   12    1     165      47       91       0     359    152      0    8   \n",
       "305   14    0     175      59       96     141     340    225     87   80   \n",
       "316    0    0      60      10       83     126     232    128     60  125   \n",
       "320    3    0     105      12       69     155     240    133     64   93   \n",
       "334   19    1     165      65       99     132     383    184     80   14   \n",
       "374   15    1     163      38       84     135     340    247     81   32   \n",
       "379    8    0     120      28      118     126     303    164     80  120   \n",
       "393   16    1     160      60       76     524     329    141    205   81   \n",
       "401    9    0     120      25       95     118     347    156     66   84   \n",
       "403    7    1     127      22      185     204     284    123     72 -172   \n",
       "424    7    0     119      21      140     157     438    226     81  -40   \n",
       "429    8    1     130      24       77     125     358    159     70   87   \n",
       "430   11    0     138      29      123     145     361    221     80  112   \n",
       "432   11    0     140      42       88     123     362    228     81  -18   \n",
       "\n",
       "     twave  pwave  qrst  jwave   hr  arrhythmia  \n",
       "5       66     52    88      0   84          14  \n",
       "60      25     60   104      0  104           5  \n",
       "86     175     72    82   -112   67           2  \n",
       "102     73     58   124      0  101           1  \n",
       "108    -92      0    92    -95   86           2  \n",
       "113     48     -6    62      0   78           1  \n",
       "141     30     30    52      0  138           5  \n",
       "146     38     61    69      0   62          10  \n",
       "149     29     78    50      0   93          10  \n",
       "167     48     69    27      0   92           1  \n",
       "181     67     63    49      0   72          16  \n",
       "198    -63     68   -10    -39   96          16  \n",
       "210     87     56    87      0   91          10  \n",
       "211     72     75    80      0   92           1  \n",
       "216    174     67    84      0   89           2  \n",
       "250     49     70     0      0   80          10  \n",
       "297     36     55    60     33   87          10  \n",
       "298     14      0    10      0   68          10  \n",
       "305     36     56    62      0   83           1  \n",
       "316     21    -50   102      0  163           5  \n",
       "320     95     54    92      0  124           5  \n",
       "334     79     68    65     91   72          10  \n",
       "374     54     52    46      0   96           5  \n",
       "379     17     37    68      0  123          10  \n",
       "393     41      0    73      0   69           1  \n",
       "401     41     42    64      0   82          14  \n",
       "403     24    176   166     13  122           5  \n",
       "424     86     29    69    103   70           9  \n",
       "429     55     16    76      0   80          16  \n",
       "430    -17     14    51    -44   93          10  \n",
       "432     52     67    33      0   74          10  "
      ]
     },
     "execution_count": 51,
     "metadata": {},
     "output_type": "execute_result"
    }
   ],
   "source": [
    "dft2[dft2.age < 20]"
   ]
  },
  {
   "cell_type": "code",
   "execution_count": 52,
   "metadata": {},
   "outputs": [
    {
     "ename": "AttributeError",
     "evalue": "'DataFrame' object has no attribute 'value_counts'",
     "output_type": "error",
     "traceback": [
      "\u001b[0;31m---------------------------------------------------------------------------\u001b[0m",
      "\u001b[0;31mAttributeError\u001b[0m                            Traceback (most recent call last)",
      "\u001b[0;32m<ipython-input-52-acf76eda095e>\u001b[0m in \u001b[0;36m<module>\u001b[0;34m\u001b[0m\n\u001b[0;32m----> 1\u001b[0;31m \u001b[0mdft2\u001b[0m\u001b[0;34m[\u001b[0m\u001b[0mdft2\u001b[0m\u001b[0;34m.\u001b[0m\u001b[0mage\u001b[0m \u001b[0;34m<\u001b[0m \u001b[0;36m20\u001b[0m\u001b[0;34m]\u001b[0m\u001b[0;34m.\u001b[0m\u001b[0mvalue_counts\u001b[0m\u001b[0;34m(\u001b[0m\u001b[0;34m)\u001b[0m\u001b[0;34m\u001b[0m\u001b[0;34m\u001b[0m\u001b[0m\n\u001b[0m",
      "\u001b[0;32m~/anaconda3/lib/python3.6/site-packages/pandas/core/generic.py\u001b[0m in \u001b[0;36m__getattr__\u001b[0;34m(self, name)\u001b[0m\n\u001b[1;32m   5065\u001b[0m             \u001b[0;32mif\u001b[0m \u001b[0mself\u001b[0m\u001b[0;34m.\u001b[0m\u001b[0m_info_axis\u001b[0m\u001b[0;34m.\u001b[0m\u001b[0m_can_hold_identifiers_and_holds_name\u001b[0m\u001b[0;34m(\u001b[0m\u001b[0mname\u001b[0m\u001b[0;34m)\u001b[0m\u001b[0;34m:\u001b[0m\u001b[0;34m\u001b[0m\u001b[0;34m\u001b[0m\u001b[0m\n\u001b[1;32m   5066\u001b[0m                 \u001b[0;32mreturn\u001b[0m \u001b[0mself\u001b[0m\u001b[0;34m[\u001b[0m\u001b[0mname\u001b[0m\u001b[0;34m]\u001b[0m\u001b[0;34m\u001b[0m\u001b[0;34m\u001b[0m\u001b[0m\n\u001b[0;32m-> 5067\u001b[0;31m             \u001b[0;32mreturn\u001b[0m \u001b[0mobject\u001b[0m\u001b[0;34m.\u001b[0m\u001b[0m__getattribute__\u001b[0m\u001b[0;34m(\u001b[0m\u001b[0mself\u001b[0m\u001b[0;34m,\u001b[0m \u001b[0mname\u001b[0m\u001b[0;34m)\u001b[0m\u001b[0;34m\u001b[0m\u001b[0;34m\u001b[0m\u001b[0m\n\u001b[0m\u001b[1;32m   5068\u001b[0m \u001b[0;34m\u001b[0m\u001b[0m\n\u001b[1;32m   5069\u001b[0m     \u001b[0;32mdef\u001b[0m \u001b[0m__setattr__\u001b[0m\u001b[0;34m(\u001b[0m\u001b[0mself\u001b[0m\u001b[0;34m,\u001b[0m \u001b[0mname\u001b[0m\u001b[0;34m,\u001b[0m \u001b[0mvalue\u001b[0m\u001b[0;34m)\u001b[0m\u001b[0;34m:\u001b[0m\u001b[0;34m\u001b[0m\u001b[0;34m\u001b[0m\u001b[0m\n",
      "\u001b[0;31mAttributeError\u001b[0m: 'DataFrame' object has no attribute 'value_counts'"
     ]
    }
   ],
   "source": [
    "dft2[dft2.age < 20].value_counts()"
   ]
  },
  {
   "cell_type": "code",
   "execution_count": null,
   "metadata": {},
   "outputs": [],
   "source": [
    "# dft2 = dft2.drop(dft2[dft2.height > 200].index)\n",
    "# biasing model if you're dropping your data"
   ]
  },
  {
   "cell_type": "code",
   "execution_count": 53,
   "metadata": {},
   "outputs": [],
   "source": [
    "# dft2 = dft2.drop(dft2[dft2.height < 140].index)\n",
    "# dropping potential pts with low age"
   ]
  },
  {
   "cell_type": "code",
   "execution_count": 54,
   "metadata": {},
   "outputs": [
    {
     "data": {
      "text/html": [
       "<div>\n",
       "<style scoped>\n",
       "    .dataframe tbody tr th:only-of-type {\n",
       "        vertical-align: middle;\n",
       "    }\n",
       "\n",
       "    .dataframe tbody tr th {\n",
       "        vertical-align: top;\n",
       "    }\n",
       "\n",
       "    .dataframe thead th {\n",
       "        text-align: right;\n",
       "    }\n",
       "</style>\n",
       "<table border=\"1\" class=\"dataframe\">\n",
       "  <thead>\n",
       "    <tr style=\"text-align: right;\">\n",
       "      <th></th>\n",
       "      <th>age</th>\n",
       "      <th>sex</th>\n",
       "      <th>height</th>\n",
       "      <th>weight</th>\n",
       "      <th>qrs_int</th>\n",
       "      <th>pr_int</th>\n",
       "      <th>qt_int</th>\n",
       "      <th>t_int</th>\n",
       "      <th>p_int</th>\n",
       "      <th>qrs</th>\n",
       "      <th>twave</th>\n",
       "      <th>pwave</th>\n",
       "      <th>qrst</th>\n",
       "      <th>jwave</th>\n",
       "      <th>hr</th>\n",
       "      <th>arrhythmia</th>\n",
       "    </tr>\n",
       "  </thead>\n",
       "  <tbody>\n",
       "    <tr>\n",
       "      <th>213</th>\n",
       "      <td>53</td>\n",
       "      <td>0</td>\n",
       "      <td>169</td>\n",
       "      <td>176</td>\n",
       "      <td>111</td>\n",
       "      <td>166</td>\n",
       "      <td>339</td>\n",
       "      <td>200</td>\n",
       "      <td>100</td>\n",
       "      <td>86</td>\n",
       "      <td>-52</td>\n",
       "      <td>77</td>\n",
       "      <td>69</td>\n",
       "      <td>-57</td>\n",
       "      <td>74</td>\n",
       "      <td>2</td>\n",
       "    </tr>\n",
       "  </tbody>\n",
       "</table>\n",
       "</div>"
      ],
      "text/plain": [
       "     age  sex  height  weight  qrs_int  pr_int  qt_int  t_int  p_int  qrs  \\\n",
       "213   53    0     169     176      111     166     339    200    100   86   \n",
       "\n",
       "     twave  pwave  qrst  jwave  hr  arrhythmia  \n",
       "213    -52     77    69    -57  74           2  "
      ]
     },
     "execution_count": 54,
     "metadata": {},
     "output_type": "execute_result"
    }
   ],
   "source": [
    "dft2[dft2.weight > 150]"
   ]
  },
  {
   "cell_type": "code",
   "execution_count": 55,
   "metadata": {},
   "outputs": [],
   "source": [
    "# dft2 = dft2.drop(dft2[dft2.weight > 150].index)"
   ]
  },
  {
   "cell_type": "code",
   "execution_count": 56,
   "metadata": {},
   "outputs": [
    {
     "data": {
      "text/html": [
       "<div>\n",
       "<style scoped>\n",
       "    .dataframe tbody tr th:only-of-type {\n",
       "        vertical-align: middle;\n",
       "    }\n",
       "\n",
       "    .dataframe tbody tr th {\n",
       "        vertical-align: top;\n",
       "    }\n",
       "\n",
       "    .dataframe thead th {\n",
       "        text-align: right;\n",
       "    }\n",
       "</style>\n",
       "<table border=\"1\" class=\"dataframe\">\n",
       "  <thead>\n",
       "    <tr style=\"text-align: right;\">\n",
       "      <th></th>\n",
       "      <th>age</th>\n",
       "      <th>sex</th>\n",
       "      <th>height</th>\n",
       "      <th>weight</th>\n",
       "      <th>qrs_int</th>\n",
       "      <th>pr_int</th>\n",
       "      <th>qt_int</th>\n",
       "      <th>t_int</th>\n",
       "      <th>p_int</th>\n",
       "      <th>qrs</th>\n",
       "      <th>twave</th>\n",
       "      <th>pwave</th>\n",
       "      <th>qrst</th>\n",
       "      <th>jwave</th>\n",
       "      <th>hr</th>\n",
       "      <th>arrhythmia</th>\n",
       "    </tr>\n",
       "  </thead>\n",
       "  <tbody>\n",
       "    <tr>\n",
       "      <th>1</th>\n",
       "      <td>56</td>\n",
       "      <td>1</td>\n",
       "      <td>165</td>\n",
       "      <td>64</td>\n",
       "      <td>81</td>\n",
       "      <td>174</td>\n",
       "      <td>401</td>\n",
       "      <td>149</td>\n",
       "      <td>39</td>\n",
       "      <td>25</td>\n",
       "      <td>37</td>\n",
       "      <td>-17</td>\n",
       "      <td>31</td>\n",
       "      <td>0</td>\n",
       "      <td>53</td>\n",
       "      <td>6</td>\n",
       "    </tr>\n",
       "    <tr>\n",
       "      <th>56</th>\n",
       "      <td>38</td>\n",
       "      <td>1</td>\n",
       "      <td>160</td>\n",
       "      <td>63</td>\n",
       "      <td>79</td>\n",
       "      <td>0</td>\n",
       "      <td>376</td>\n",
       "      <td>165</td>\n",
       "      <td>0</td>\n",
       "      <td>34</td>\n",
       "      <td>14</td>\n",
       "      <td>55</td>\n",
       "      <td>26</td>\n",
       "      <td>-93</td>\n",
       "      <td>70</td>\n",
       "      <td>1</td>\n",
       "    </tr>\n",
       "    <tr>\n",
       "      <th>106</th>\n",
       "      <td>46</td>\n",
       "      <td>0</td>\n",
       "      <td>165</td>\n",
       "      <td>55</td>\n",
       "      <td>82</td>\n",
       "      <td>0</td>\n",
       "      <td>415</td>\n",
       "      <td>108</td>\n",
       "      <td>0</td>\n",
       "      <td>-1</td>\n",
       "      <td>70</td>\n",
       "      <td>0</td>\n",
       "      <td>12</td>\n",
       "      <td>0</td>\n",
       "      <td>63</td>\n",
       "      <td>6</td>\n",
       "    </tr>\n",
       "    <tr>\n",
       "      <th>108</th>\n",
       "      <td>17</td>\n",
       "      <td>0</td>\n",
       "      <td>170</td>\n",
       "      <td>61</td>\n",
       "      <td>97</td>\n",
       "      <td>0</td>\n",
       "      <td>353</td>\n",
       "      <td>141</td>\n",
       "      <td>0</td>\n",
       "      <td>90</td>\n",
       "      <td>-92</td>\n",
       "      <td>0</td>\n",
       "      <td>92</td>\n",
       "      <td>-95</td>\n",
       "      <td>86</td>\n",
       "      <td>2</td>\n",
       "    </tr>\n",
       "    <tr>\n",
       "      <th>174</th>\n",
       "      <td>55</td>\n",
       "      <td>1</td>\n",
       "      <td>156</td>\n",
       "      <td>78</td>\n",
       "      <td>88</td>\n",
       "      <td>0</td>\n",
       "      <td>380</td>\n",
       "      <td>138</td>\n",
       "      <td>0</td>\n",
       "      <td>79</td>\n",
       "      <td>73</td>\n",
       "      <td>0</td>\n",
       "      <td>76</td>\n",
       "      <td>-108</td>\n",
       "      <td>71</td>\n",
       "      <td>15</td>\n",
       "    </tr>\n",
       "    <tr>\n",
       "      <th>217</th>\n",
       "      <td>66</td>\n",
       "      <td>1</td>\n",
       "      <td>160</td>\n",
       "      <td>60</td>\n",
       "      <td>73</td>\n",
       "      <td>0</td>\n",
       "      <td>364</td>\n",
       "      <td>144</td>\n",
       "      <td>0</td>\n",
       "      <td>27</td>\n",
       "      <td>-27</td>\n",
       "      <td>0</td>\n",
       "      <td>1</td>\n",
       "      <td>-153</td>\n",
       "      <td>81</td>\n",
       "      <td>15</td>\n",
       "    </tr>\n",
       "    <tr>\n",
       "      <th>219</th>\n",
       "      <td>77</td>\n",
       "      <td>0</td>\n",
       "      <td>165</td>\n",
       "      <td>77</td>\n",
       "      <td>98</td>\n",
       "      <td>0</td>\n",
       "      <td>359</td>\n",
       "      <td>149</td>\n",
       "      <td>0</td>\n",
       "      <td>79</td>\n",
       "      <td>-123</td>\n",
       "      <td>0</td>\n",
       "      <td>85</td>\n",
       "      <td>0</td>\n",
       "      <td>59</td>\n",
       "      <td>16</td>\n",
       "    </tr>\n",
       "    <tr>\n",
       "      <th>243</th>\n",
       "      <td>49</td>\n",
       "      <td>1</td>\n",
       "      <td>166</td>\n",
       "      <td>87</td>\n",
       "      <td>78</td>\n",
       "      <td>0</td>\n",
       "      <td>322</td>\n",
       "      <td>122</td>\n",
       "      <td>0</td>\n",
       "      <td>70</td>\n",
       "      <td>-103</td>\n",
       "      <td>0</td>\n",
       "      <td>66</td>\n",
       "      <td>0</td>\n",
       "      <td>115</td>\n",
       "      <td>15</td>\n",
       "    </tr>\n",
       "    <tr>\n",
       "      <th>298</th>\n",
       "      <td>12</td>\n",
       "      <td>1</td>\n",
       "      <td>165</td>\n",
       "      <td>47</td>\n",
       "      <td>91</td>\n",
       "      <td>0</td>\n",
       "      <td>359</td>\n",
       "      <td>152</td>\n",
       "      <td>0</td>\n",
       "      <td>8</td>\n",
       "      <td>14</td>\n",
       "      <td>0</td>\n",
       "      <td>10</td>\n",
       "      <td>0</td>\n",
       "      <td>68</td>\n",
       "      <td>10</td>\n",
       "    </tr>\n",
       "    <tr>\n",
       "      <th>300</th>\n",
       "      <td>59</td>\n",
       "      <td>0</td>\n",
       "      <td>165</td>\n",
       "      <td>65</td>\n",
       "      <td>121</td>\n",
       "      <td>0</td>\n",
       "      <td>329</td>\n",
       "      <td>160</td>\n",
       "      <td>0</td>\n",
       "      <td>66</td>\n",
       "      <td>-51</td>\n",
       "      <td>0</td>\n",
       "      <td>-4</td>\n",
       "      <td>-87</td>\n",
       "      <td>75</td>\n",
       "      <td>15</td>\n",
       "    </tr>\n",
       "    <tr>\n",
       "      <th>302</th>\n",
       "      <td>74</td>\n",
       "      <td>0</td>\n",
       "      <td>170</td>\n",
       "      <td>67</td>\n",
       "      <td>84</td>\n",
       "      <td>175</td>\n",
       "      <td>444</td>\n",
       "      <td>182</td>\n",
       "      <td>42</td>\n",
       "      <td>-27</td>\n",
       "      <td>20</td>\n",
       "      <td>60</td>\n",
       "      <td>-7</td>\n",
       "      <td>0</td>\n",
       "      <td>44</td>\n",
       "      <td>6</td>\n",
       "    </tr>\n",
       "    <tr>\n",
       "      <th>308</th>\n",
       "      <td>62</td>\n",
       "      <td>1</td>\n",
       "      <td>170</td>\n",
       "      <td>110</td>\n",
       "      <td>97</td>\n",
       "      <td>0</td>\n",
       "      <td>294</td>\n",
       "      <td>184</td>\n",
       "      <td>0</td>\n",
       "      <td>39</td>\n",
       "      <td>-119</td>\n",
       "      <td>0</td>\n",
       "      <td>22</td>\n",
       "      <td>-122</td>\n",
       "      <td>100</td>\n",
       "      <td>2</td>\n",
       "    </tr>\n",
       "    <tr>\n",
       "      <th>310</th>\n",
       "      <td>41</td>\n",
       "      <td>0</td>\n",
       "      <td>180</td>\n",
       "      <td>88</td>\n",
       "      <td>90</td>\n",
       "      <td>0</td>\n",
       "      <td>341</td>\n",
       "      <td>201</td>\n",
       "      <td>0</td>\n",
       "      <td>32</td>\n",
       "      <td>33</td>\n",
       "      <td>0</td>\n",
       "      <td>32</td>\n",
       "      <td>0</td>\n",
       "      <td>68</td>\n",
       "      <td>1</td>\n",
       "    </tr>\n",
       "    <tr>\n",
       "      <th>351</th>\n",
       "      <td>53</td>\n",
       "      <td>1</td>\n",
       "      <td>156</td>\n",
       "      <td>65</td>\n",
       "      <td>73</td>\n",
       "      <td>160</td>\n",
       "      <td>359</td>\n",
       "      <td>248</td>\n",
       "      <td>37</td>\n",
       "      <td>33</td>\n",
       "      <td>-132</td>\n",
       "      <td>-60</td>\n",
       "      <td>24</td>\n",
       "      <td>0</td>\n",
       "      <td>65</td>\n",
       "      <td>2</td>\n",
       "    </tr>\n",
       "    <tr>\n",
       "      <th>420</th>\n",
       "      <td>58</td>\n",
       "      <td>1</td>\n",
       "      <td>160</td>\n",
       "      <td>90</td>\n",
       "      <td>82</td>\n",
       "      <td>0</td>\n",
       "      <td>284</td>\n",
       "      <td>196</td>\n",
       "      <td>0</td>\n",
       "      <td>56</td>\n",
       "      <td>-132</td>\n",
       "      <td>0</td>\n",
       "      <td>81</td>\n",
       "      <td>0</td>\n",
       "      <td>104</td>\n",
       "      <td>15</td>\n",
       "    </tr>\n",
       "  </tbody>\n",
       "</table>\n",
       "</div>"
      ],
      "text/plain": [
       "     age  sex  height  weight  qrs_int  pr_int  qt_int  t_int  p_int  qrs  \\\n",
       "1     56    1     165      64       81     174     401    149     39   25   \n",
       "56    38    1     160      63       79       0     376    165      0   34   \n",
       "106   46    0     165      55       82       0     415    108      0   -1   \n",
       "108   17    0     170      61       97       0     353    141      0   90   \n",
       "174   55    1     156      78       88       0     380    138      0   79   \n",
       "217   66    1     160      60       73       0     364    144      0   27   \n",
       "219   77    0     165      77       98       0     359    149      0   79   \n",
       "243   49    1     166      87       78       0     322    122      0   70   \n",
       "298   12    1     165      47       91       0     359    152      0    8   \n",
       "300   59    0     165      65      121       0     329    160      0   66   \n",
       "302   74    0     170      67       84     175     444    182     42  -27   \n",
       "308   62    1     170     110       97       0     294    184      0   39   \n",
       "310   41    0     180      88       90       0     341    201      0   32   \n",
       "351   53    1     156      65       73     160     359    248     37   33   \n",
       "420   58    1     160      90       82       0     284    196      0   56   \n",
       "\n",
       "     twave  pwave  qrst  jwave   hr  arrhythmia  \n",
       "1       37    -17    31      0   53           6  \n",
       "56      14     55    26    -93   70           1  \n",
       "106     70      0    12      0   63           6  \n",
       "108    -92      0    92    -95   86           2  \n",
       "174     73      0    76   -108   71          15  \n",
       "217    -27      0     1   -153   81          15  \n",
       "219   -123      0    85      0   59          16  \n",
       "243   -103      0    66      0  115          15  \n",
       "298     14      0    10      0   68          10  \n",
       "300    -51      0    -4    -87   75          15  \n",
       "302     20     60    -7      0   44           6  \n",
       "308   -119      0    22   -122  100           2  \n",
       "310     33      0    32      0   68           1  \n",
       "351   -132    -60    24      0   65           2  \n",
       "420   -132      0    81      0  104          15  "
      ]
     },
     "execution_count": 56,
     "metadata": {},
     "output_type": "execute_result"
    }
   ],
   "source": [
    "dft2[dft2.p_int < 50]"
   ]
  },
  {
   "cell_type": "markdown",
   "metadata": {},
   "source": [
    "Although the p_int, pr_int are zero, they correspond to a pwave of 0 (which makes sense). If a pwave is not seen on the EKG, there would be no p or pr interval."
   ]
  },
  {
   "cell_type": "code",
   "execution_count": 57,
   "metadata": {},
   "outputs": [
    {
     "data": {
      "text/html": [
       "<div>\n",
       "<style scoped>\n",
       "    .dataframe tbody tr th:only-of-type {\n",
       "        vertical-align: middle;\n",
       "    }\n",
       "\n",
       "    .dataframe tbody tr th {\n",
       "        vertical-align: top;\n",
       "    }\n",
       "\n",
       "    .dataframe thead th {\n",
       "        text-align: right;\n",
       "    }\n",
       "</style>\n",
       "<table border=\"1\" class=\"dataframe\">\n",
       "  <thead>\n",
       "    <tr style=\"text-align: right;\">\n",
       "      <th></th>\n",
       "      <th>age</th>\n",
       "      <th>sex</th>\n",
       "      <th>height</th>\n",
       "      <th>weight</th>\n",
       "      <th>qrs_int</th>\n",
       "      <th>pr_int</th>\n",
       "      <th>qt_int</th>\n",
       "      <th>t_int</th>\n",
       "      <th>p_int</th>\n",
       "      <th>qrs</th>\n",
       "      <th>twave</th>\n",
       "      <th>pwave</th>\n",
       "      <th>qrst</th>\n",
       "      <th>jwave</th>\n",
       "      <th>hr</th>\n",
       "      <th>arrhythmia</th>\n",
       "    </tr>\n",
       "  </thead>\n",
       "  <tbody>\n",
       "    <tr>\n",
       "      <th>4</th>\n",
       "      <td>75</td>\n",
       "      <td>0</td>\n",
       "      <td>190</td>\n",
       "      <td>80</td>\n",
       "      <td>88</td>\n",
       "      <td>181</td>\n",
       "      <td>360</td>\n",
       "      <td>177</td>\n",
       "      <td>103</td>\n",
       "      <td>-16</td>\n",
       "      <td>13</td>\n",
       "      <td>61</td>\n",
       "      <td>3</td>\n",
       "      <td>0</td>\n",
       "      <td>0</td>\n",
       "      <td>7</td>\n",
       "    </tr>\n",
       "  </tbody>\n",
       "</table>\n",
       "</div>"
      ],
      "text/plain": [
       "   age  sex  height  weight  qrs_int  pr_int  qt_int  t_int  p_int  qrs  \\\n",
       "4   75    0     190      80       88     181     360    177    103  -16   \n",
       "\n",
       "   twave  pwave  qrst  jwave  hr  arrhythmia  \n",
       "4     13     61     3      0   0           7  "
      ]
     },
     "execution_count": 57,
     "metadata": {},
     "output_type": "execute_result"
    }
   ],
   "source": [
    "dft2[dft2.hr < 40]"
   ]
  },
  {
   "cell_type": "code",
   "execution_count": 58,
   "metadata": {},
   "outputs": [],
   "source": [
    "dft2 = dft2.drop(dft2[dft2.hr < 40].index)"
   ]
  },
  {
   "cell_type": "code",
   "execution_count": 59,
   "metadata": {},
   "outputs": [],
   "source": [
    "#dft = dft.drop(dft[dft.pr_int > 400].index)"
   ]
  },
  {
   "cell_type": "code",
   "execution_count": 60,
   "metadata": {},
   "outputs": [],
   "source": [
    "#dff = df.iloc[:, 0:14]\n",
    "#dff.columns = columns"
   ]
  },
  {
   "cell_type": "code",
   "execution_count": 61,
   "metadata": {},
   "outputs": [],
   "source": [
    "#print(dff[dff.hr == '?'])"
   ]
  },
  {
   "cell_type": "code",
   "execution_count": 62,
   "metadata": {},
   "outputs": [
    {
     "name": "stdout",
     "output_type": "stream",
     "text": [
      "Empty DataFrame\n",
      "Columns: [age, sex, height, weight, qrs_int, pr_int, qt_int, t_int, p_int, qrs, twave, pwave, qrst, jwave, hr, arrhythmia]\n",
      "Index: []\n"
     ]
    },
    {
     "name": "stderr",
     "output_type": "stream",
     "text": [
      "/Users/swang/anaconda3/lib/python3.6/site-packages/pandas/core/ops.py:1649: FutureWarning: elementwise comparison failed; returning scalar instead, but in the future will perform elementwise comparison\n",
      "  result = method(y)\n"
     ]
    }
   ],
   "source": [
    "print(dft2[dft2.jwave == '?'])"
   ]
  },
  {
   "cell_type": "code",
   "execution_count": 63,
   "metadata": {},
   "outputs": [
    {
     "data": {
      "text/html": [
       "<div>\n",
       "<style scoped>\n",
       "    .dataframe tbody tr th:only-of-type {\n",
       "        vertical-align: middle;\n",
       "    }\n",
       "\n",
       "    .dataframe tbody tr th {\n",
       "        vertical-align: top;\n",
       "    }\n",
       "\n",
       "    .dataframe thead th {\n",
       "        text-align: right;\n",
       "    }\n",
       "</style>\n",
       "<table border=\"1\" class=\"dataframe\">\n",
       "  <thead>\n",
       "    <tr style=\"text-align: right;\">\n",
       "      <th></th>\n",
       "      <th>0</th>\n",
       "      <th>1</th>\n",
       "      <th>2</th>\n",
       "      <th>3</th>\n",
       "      <th>4</th>\n",
       "      <th>5</th>\n",
       "      <th>6</th>\n",
       "      <th>7</th>\n",
       "      <th>8</th>\n",
       "      <th>9</th>\n",
       "    </tr>\n",
       "  </thead>\n",
       "  <tbody>\n",
       "    <tr>\n",
       "      <th>count</th>\n",
       "      <td>452.000000</td>\n",
       "      <td>452.000000</td>\n",
       "      <td>452.000000</td>\n",
       "      <td>452.000000</td>\n",
       "      <td>452.000000</td>\n",
       "      <td>452.000000</td>\n",
       "      <td>452.000000</td>\n",
       "      <td>452.000000</td>\n",
       "      <td>452.000000</td>\n",
       "      <td>452.000000</td>\n",
       "    </tr>\n",
       "    <tr>\n",
       "      <th>mean</th>\n",
       "      <td>46.471239</td>\n",
       "      <td>0.550885</td>\n",
       "      <td>166.188053</td>\n",
       "      <td>68.170354</td>\n",
       "      <td>88.920354</td>\n",
       "      <td>155.152655</td>\n",
       "      <td>367.207965</td>\n",
       "      <td>169.949115</td>\n",
       "      <td>90.004425</td>\n",
       "      <td>33.676991</td>\n",
       "    </tr>\n",
       "    <tr>\n",
       "      <th>std</th>\n",
       "      <td>16.466631</td>\n",
       "      <td>0.497955</td>\n",
       "      <td>37.170340</td>\n",
       "      <td>16.590803</td>\n",
       "      <td>15.364394</td>\n",
       "      <td>44.842283</td>\n",
       "      <td>33.385421</td>\n",
       "      <td>35.633072</td>\n",
       "      <td>25.826643</td>\n",
       "      <td>45.431434</td>\n",
       "    </tr>\n",
       "    <tr>\n",
       "      <th>min</th>\n",
       "      <td>0.000000</td>\n",
       "      <td>0.000000</td>\n",
       "      <td>105.000000</td>\n",
       "      <td>6.000000</td>\n",
       "      <td>55.000000</td>\n",
       "      <td>0.000000</td>\n",
       "      <td>232.000000</td>\n",
       "      <td>108.000000</td>\n",
       "      <td>0.000000</td>\n",
       "      <td>-172.000000</td>\n",
       "    </tr>\n",
       "    <tr>\n",
       "      <th>25%</th>\n",
       "      <td>36.000000</td>\n",
       "      <td>0.000000</td>\n",
       "      <td>160.000000</td>\n",
       "      <td>59.000000</td>\n",
       "      <td>80.000000</td>\n",
       "      <td>142.000000</td>\n",
       "      <td>350.000000</td>\n",
       "      <td>148.000000</td>\n",
       "      <td>79.000000</td>\n",
       "      <td>3.750000</td>\n",
       "    </tr>\n",
       "    <tr>\n",
       "      <th>50%</th>\n",
       "      <td>47.000000</td>\n",
       "      <td>1.000000</td>\n",
       "      <td>164.000000</td>\n",
       "      <td>68.000000</td>\n",
       "      <td>86.000000</td>\n",
       "      <td>157.000000</td>\n",
       "      <td>367.000000</td>\n",
       "      <td>162.000000</td>\n",
       "      <td>91.000000</td>\n",
       "      <td>40.000000</td>\n",
       "    </tr>\n",
       "    <tr>\n",
       "      <th>75%</th>\n",
       "      <td>58.000000</td>\n",
       "      <td>1.000000</td>\n",
       "      <td>170.000000</td>\n",
       "      <td>79.000000</td>\n",
       "      <td>94.000000</td>\n",
       "      <td>175.000000</td>\n",
       "      <td>384.000000</td>\n",
       "      <td>179.000000</td>\n",
       "      <td>102.000000</td>\n",
       "      <td>66.000000</td>\n",
       "    </tr>\n",
       "    <tr>\n",
       "      <th>max</th>\n",
       "      <td>83.000000</td>\n",
       "      <td>1.000000</td>\n",
       "      <td>780.000000</td>\n",
       "      <td>176.000000</td>\n",
       "      <td>188.000000</td>\n",
       "      <td>524.000000</td>\n",
       "      <td>509.000000</td>\n",
       "      <td>381.000000</td>\n",
       "      <td>205.000000</td>\n",
       "      <td>169.000000</td>\n",
       "    </tr>\n",
       "  </tbody>\n",
       "</table>\n",
       "</div>"
      ],
      "text/plain": [
       "                0           1           2           3           4           5  \\\n",
       "count  452.000000  452.000000  452.000000  452.000000  452.000000  452.000000   \n",
       "mean    46.471239    0.550885  166.188053   68.170354   88.920354  155.152655   \n",
       "std     16.466631    0.497955   37.170340   16.590803   15.364394   44.842283   \n",
       "min      0.000000    0.000000  105.000000    6.000000   55.000000    0.000000   \n",
       "25%     36.000000    0.000000  160.000000   59.000000   80.000000  142.000000   \n",
       "50%     47.000000    1.000000  164.000000   68.000000   86.000000  157.000000   \n",
       "75%     58.000000    1.000000  170.000000   79.000000   94.000000  175.000000   \n",
       "max     83.000000    1.000000  780.000000  176.000000  188.000000  524.000000   \n",
       "\n",
       "                6           7           8           9  \n",
       "count  452.000000  452.000000  452.000000  452.000000  \n",
       "mean   367.207965  169.949115   90.004425   33.676991  \n",
       "std     33.385421   35.633072   25.826643   45.431434  \n",
       "min    232.000000  108.000000    0.000000 -172.000000  \n",
       "25%    350.000000  148.000000   79.000000    3.750000  \n",
       "50%    367.000000  162.000000   91.000000   40.000000  \n",
       "75%    384.000000  179.000000  102.000000   66.000000  \n",
       "max    509.000000  381.000000  205.000000  169.000000  "
      ]
     },
     "execution_count": 63,
     "metadata": {},
     "output_type": "execute_result"
    }
   ],
   "source": [
    "dft.describe()"
   ]
  },
  {
   "cell_type": "code",
   "execution_count": 64,
   "metadata": {},
   "outputs": [
    {
     "data": {
      "image/png": "[encoded data removed]",
      "text/plain": [
       "<Figure size 720x360 with 1 Axes>"
      ]
     },
     "metadata": {
      "needs_background": "light"
     },
     "output_type": "display_data"
    }
   ],
   "source": [
    "plt.figure(figsize=(10,5))\n",
    "plt.hist(dft2.arrhythmia, bins=32, color='purple')\n",
    "plt.title(\"Distribution of Arrythmia Types\")\n",
    "plt.xlabel('Arrhythmia Type')\n",
    "plt.ylabel('Counts')\n",
    "plt.show()"
   ]
  },
  {
   "cell_type": "code",
   "execution_count": 65,
   "metadata": {},
   "outputs": [],
   "source": [
    "dft2.jwave = np.where(dft2.jwave == 0, 0, 1)"
   ]
  },
  {
   "cell_type": "markdown",
   "metadata": {},
   "source": [
    "Unfortunately our data is skewed to which no arrhythmia (1) has many more samples compared to the various other types of arrhythmias (2-16). Let's change it so that (0) represents no arrhythmia and (1) represents a collection of all arrhythmias.\n",
    "\n",
    "Listed are:\n",
    "1. Normal\n",
    "2. Coronary Artery Disease\n",
    "3. Old Anterior MI\n",
    "4. Old Inferior MI\n",
    "5. Sinus tachycardia\n",
    "6. Sinus bradycardia\n",
    "7. Premature Ventricular Contractions\n",
    "8. Premature Supraventricular Contractions\n",
    "9. Left Bundle Branch Block\n",
    "10. Right Bundle Branch Block\n",
    "11. 1st degree Atrioventricular (AV) Block\n",
    "12. 2nd degree AV Block\n",
    "13. 3rd degree AV Block\n",
    "14. Left ventricular hypertrophy\n",
    "15. Atrial fibrillation or flutter\n",
    "16. All others"
   ]
  },
  {
   "cell_type": "code",
   "execution_count": 66,
   "metadata": {},
   "outputs": [
    {
     "data": {
      "text/html": [
       "<div>\n",
       "<style scoped>\n",
       "    .dataframe tbody tr th:only-of-type {\n",
       "        vertical-align: middle;\n",
       "    }\n",
       "\n",
       "    .dataframe tbody tr th {\n",
       "        vertical-align: top;\n",
       "    }\n",
       "\n",
       "    .dataframe thead th {\n",
       "        text-align: right;\n",
       "    }\n",
       "</style>\n",
       "<table border=\"1\" class=\"dataframe\">\n",
       "  <thead>\n",
       "    <tr style=\"text-align: right;\">\n",
       "      <th></th>\n",
       "      <th>age</th>\n",
       "      <th>sex</th>\n",
       "      <th>height</th>\n",
       "      <th>weight</th>\n",
       "      <th>qrs_int</th>\n",
       "      <th>pr_int</th>\n",
       "      <th>qt_int</th>\n",
       "      <th>t_int</th>\n",
       "      <th>p_int</th>\n",
       "      <th>qrs</th>\n",
       "      <th>twave</th>\n",
       "      <th>pwave</th>\n",
       "      <th>qrst</th>\n",
       "      <th>jwave</th>\n",
       "      <th>hr</th>\n",
       "      <th>arrhythmia</th>\n",
       "    </tr>\n",
       "  </thead>\n",
       "  <tbody>\n",
       "    <tr>\n",
       "      <th>count</th>\n",
       "      <td>451.000000</td>\n",
       "      <td>451.000000</td>\n",
       "      <td>451.000000</td>\n",
       "      <td>451.000000</td>\n",
       "      <td>451.000000</td>\n",
       "      <td>451.000000</td>\n",
       "      <td>451.000000</td>\n",
       "      <td>451.000000</td>\n",
       "      <td>451.000000</td>\n",
       "      <td>451.000000</td>\n",
       "      <td>451.000000</td>\n",
       "      <td>451.000000</td>\n",
       "      <td>451.000000</td>\n",
       "      <td>451.000000</td>\n",
       "      <td>451.000000</td>\n",
       "      <td>451.000000</td>\n",
       "    </tr>\n",
       "    <tr>\n",
       "      <th>mean</th>\n",
       "      <td>46.407982</td>\n",
       "      <td>0.552106</td>\n",
       "      <td>163.363636</td>\n",
       "      <td>68.144124</td>\n",
       "      <td>88.922395</td>\n",
       "      <td>155.095344</td>\n",
       "      <td>367.223947</td>\n",
       "      <td>169.933481</td>\n",
       "      <td>89.975610</td>\n",
       "      <td>33.787140</td>\n",
       "      <td>35.560976</td>\n",
       "      <td>46.501109</td>\n",
       "      <td>36.709534</td>\n",
       "      <td>0.168514</td>\n",
       "      <td>74.463415</td>\n",
       "      <td>3.873614</td>\n",
       "    </tr>\n",
       "    <tr>\n",
       "      <th>std</th>\n",
       "      <td>16.429846</td>\n",
       "      <td>0.497830</td>\n",
       "      <td>12.114488</td>\n",
       "      <td>16.599841</td>\n",
       "      <td>15.381395</td>\n",
       "      <td>44.875504</td>\n",
       "      <td>33.420765</td>\n",
       "      <td>35.671090</td>\n",
       "      <td>25.848049</td>\n",
       "      <td>45.421423</td>\n",
       "      <td>57.595121</td>\n",
       "      <td>30.525936</td>\n",
       "      <td>36.027241</td>\n",
       "      <td>0.374738</td>\n",
       "      <td>13.870684</td>\n",
       "      <td>4.409534</td>\n",
       "    </tr>\n",
       "    <tr>\n",
       "      <th>min</th>\n",
       "      <td>0.000000</td>\n",
       "      <td>0.000000</td>\n",
       "      <td>60.000000</td>\n",
       "      <td>6.000000</td>\n",
       "      <td>55.000000</td>\n",
       "      <td>0.000000</td>\n",
       "      <td>232.000000</td>\n",
       "      <td>108.000000</td>\n",
       "      <td>0.000000</td>\n",
       "      <td>-172.000000</td>\n",
       "      <td>-177.000000</td>\n",
       "      <td>-170.000000</td>\n",
       "      <td>-135.000000</td>\n",
       "      <td>0.000000</td>\n",
       "      <td>44.000000</td>\n",
       "      <td>1.000000</td>\n",
       "    </tr>\n",
       "    <tr>\n",
       "      <th>25%</th>\n",
       "      <td>36.000000</td>\n",
       "      <td>0.000000</td>\n",
       "      <td>160.000000</td>\n",
       "      <td>59.000000</td>\n",
       "      <td>80.000000</td>\n",
       "      <td>142.000000</td>\n",
       "      <td>350.000000</td>\n",
       "      <td>148.000000</td>\n",
       "      <td>79.000000</td>\n",
       "      <td>4.000000</td>\n",
       "      <td>13.000000</td>\n",
       "      <td>36.000000</td>\n",
       "      <td>12.000000</td>\n",
       "      <td>0.000000</td>\n",
       "      <td>65.000000</td>\n",
       "      <td>1.000000</td>\n",
       "    </tr>\n",
       "    <tr>\n",
       "      <th>50%</th>\n",
       "      <td>47.000000</td>\n",
       "      <td>1.000000</td>\n",
       "      <td>164.000000</td>\n",
       "      <td>68.000000</td>\n",
       "      <td>86.000000</td>\n",
       "      <td>157.000000</td>\n",
       "      <td>367.000000</td>\n",
       "      <td>162.000000</td>\n",
       "      <td>91.000000</td>\n",
       "      <td>40.000000</td>\n",
       "      <td>41.000000</td>\n",
       "      <td>54.000000</td>\n",
       "      <td>40.000000</td>\n",
       "      <td>0.000000</td>\n",
       "      <td>72.000000</td>\n",
       "      <td>1.000000</td>\n",
       "    </tr>\n",
       "    <tr>\n",
       "      <th>75%</th>\n",
       "      <td>58.000000</td>\n",
       "      <td>1.000000</td>\n",
       "      <td>170.000000</td>\n",
       "      <td>78.500000</td>\n",
       "      <td>94.000000</td>\n",
       "      <td>174.500000</td>\n",
       "      <td>384.000000</td>\n",
       "      <td>179.000000</td>\n",
       "      <td>102.000000</td>\n",
       "      <td>66.000000</td>\n",
       "      <td>63.000000</td>\n",
       "      <td>64.000000</td>\n",
       "      <td>62.000000</td>\n",
       "      <td>0.000000</td>\n",
       "      <td>81.000000</td>\n",
       "      <td>6.000000</td>\n",
       "    </tr>\n",
       "    <tr>\n",
       "      <th>max</th>\n",
       "      <td>83.000000</td>\n",
       "      <td>1.000000</td>\n",
       "      <td>190.000000</td>\n",
       "      <td>176.000000</td>\n",
       "      <td>188.000000</td>\n",
       "      <td>524.000000</td>\n",
       "      <td>509.000000</td>\n",
       "      <td>381.000000</td>\n",
       "      <td>205.000000</td>\n",
       "      <td>169.000000</td>\n",
       "      <td>179.000000</td>\n",
       "      <td>176.000000</td>\n",
       "      <td>166.000000</td>\n",
       "      <td>1.000000</td>\n",
       "      <td>163.000000</td>\n",
       "      <td>16.000000</td>\n",
       "    </tr>\n",
       "  </tbody>\n",
       "</table>\n",
       "</div>"
      ],
      "text/plain": [
       "              age         sex      height      weight     qrs_int      pr_int  \\\n",
       "count  451.000000  451.000000  451.000000  451.000000  451.000000  451.000000   \n",
       "mean    46.407982    0.552106  163.363636   68.144124   88.922395  155.095344   \n",
       "std     16.429846    0.497830   12.114488   16.599841   15.381395   44.875504   \n",
       "min      0.000000    0.000000   60.000000    6.000000   55.000000    0.000000   \n",
       "25%     36.000000    0.000000  160.000000   59.000000   80.000000  142.000000   \n",
       "50%     47.000000    1.000000  164.000000   68.000000   86.000000  157.000000   \n",
       "75%     58.000000    1.000000  170.000000   78.500000   94.000000  174.500000   \n",
       "max     83.000000    1.000000  190.000000  176.000000  188.000000  524.000000   \n",
       "\n",
       "           qt_int       t_int       p_int         qrs       twave       pwave  \\\n",
       "count  451.000000  451.000000  451.000000  451.000000  451.000000  451.000000   \n",
       "mean   367.223947  169.933481   89.975610   33.787140   35.560976   46.501109   \n",
       "std     33.420765   35.671090   25.848049   45.421423   57.595121   30.525936   \n",
       "min    232.000000  108.000000    0.000000 -172.000000 -177.000000 -170.000000   \n",
       "25%    350.000000  148.000000   79.000000    4.000000   13.000000   36.000000   \n",
       "50%    367.000000  162.000000   91.000000   40.000000   41.000000   54.000000   \n",
       "75%    384.000000  179.000000  102.000000   66.000000   63.000000   64.000000   \n",
       "max    509.000000  381.000000  205.000000  169.000000  179.000000  176.000000   \n",
       "\n",
       "             qrst       jwave          hr  arrhythmia  \n",
       "count  451.000000  451.000000  451.000000  451.000000  \n",
       "mean    36.709534    0.168514   74.463415    3.873614  \n",
       "std     36.027241    0.374738   13.870684    4.409534  \n",
       "min   -135.000000    0.000000   44.000000    1.000000  \n",
       "25%     12.000000    0.000000   65.000000    1.000000  \n",
       "50%     40.000000    0.000000   72.000000    1.000000  \n",
       "75%     62.000000    0.000000   81.000000    6.000000  \n",
       "max    166.000000    1.000000  163.000000   16.000000  "
      ]
     },
     "execution_count": 66,
     "metadata": {},
     "output_type": "execute_result"
    }
   ],
   "source": [
    "dft2.describe()"
   ]
  },
  {
   "cell_type": "code",
   "execution_count": 67,
   "metadata": {},
   "outputs": [],
   "source": [
    "# LaTeX equation\n",
    "dft2['qtc'] = dft2['qt_int']/((60/dft2['hr'])**(1/2))\n",
    "# add equations to show"
   ]
  },
  {
   "cell_type": "code",
   "execution_count": 68,
   "metadata": {},
   "outputs": [],
   "source": [
    "dft2['bmi'] = dft2['weight']/((dft2['height']/100)**2)"
   ]
  },
  {
   "cell_type": "code",
   "execution_count": 69,
   "metadata": {},
   "outputs": [],
   "source": [
    "dft2.arrhythmia = np.where(dft2.arrhythmia > 1, 1, 0)"
   ]
  },
  {
   "cell_type": "code",
   "execution_count": 183,
   "metadata": {},
   "outputs": [
    {
     "data": {
      "image/png": "[encoded data removed]",
      "text/plain": [
       "<Figure size 1080x1080 with 20 Axes>"
      ]
     },
     "metadata": {
      "needs_background": "light"
     },
     "output_type": "display_data"
    }
   ],
   "source": [
    "dft2.hist(bins=10, figsize=(15, 15))\n",
    "plt.title('Dataset Distributions')\n",
    "plt.show()"
   ]
  },
  {
   "cell_type": "code",
   "execution_count": 181,
   "metadata": {},
   "outputs": [
    {
     "data": {
      "image/png": "[encoded data removed]",
      "text/plain": [
       "<Figure size 720x360 with 1 Axes>"
      ]
     },
     "metadata": {
      "needs_background": "light"
     },
     "output_type": "display_data"
    }
   ],
   "source": [
    "plt.figure(figsize=(10,5))\n",
    "dft2.arrhythmia.hist(color='navy')\n",
    "plt.title('Corrected Distribution of Arrythmia')\n",
    "plt.ylabel('Counts')\n",
    "plt.xlabel('Type')\n",
    "plt.show()"
   ]
  },
  {
   "cell_type": "markdown",
   "metadata": {},
   "source": [
    "## 2) Splitting Data into Features and Labels"
   ]
  },
  {
   "cell_type": "code",
   "execution_count": 72,
   "metadata": {},
   "outputs": [],
   "source": [
    "#Must use .values to turn the featuers and labels into numpy arrays for scikit learn\n",
    "X = dft2.drop(labels=['arrhythmia'], axis=1).values\n",
    "y = dft2.arrhythmia.values"
   ]
  },
  {
   "cell_type": "code",
   "execution_count": 73,
   "metadata": {},
   "outputs": [
    {
     "name": "stdout",
     "output_type": "stream",
     "text": [
      "0    1\n",
      "1    1\n",
      "2    1\n",
      "3    0\n",
      "5    1\n",
      "Name: arrhythmia, dtype: int64\n"
     ]
    }
   ],
   "source": [
    "print(dft2.arrhythmia.head())"
   ]
  },
  {
   "cell_type": "markdown",
   "metadata": {},
   "source": [
    "## 3) Splitting Data into Training and Test Datasets"
   ]
  },
  {
   "cell_type": "code",
   "execution_count": 74,
   "metadata": {},
   "outputs": [],
   "source": [
    "from sklearn.model_selection import train_test_split\n",
    "X_train, X_test, y_train, y_test = train_test_split(X, y, test_size=0.20, random_state=5)"
   ]
  },
  {
   "cell_type": "code",
   "execution_count": 75,
   "metadata": {},
   "outputs": [
    {
     "data": {
      "text/plain": [
       "array([[ 38.        ,   1.        , 170.        , ...,  93.        ,\n",
       "        419.56161645,  32.87197232],\n",
       "       [ 57.        ,   1.        , 166.        , ...,  66.        ,\n",
       "        418.47473042,  26.12861083],\n",
       "       [ 52.        ,   0.        , 174.        , ...,  74.        ,\n",
       "        394.24717289,  27.08415907],\n",
       "       ...,\n",
       "       [ 49.        ,   1.        , 166.        , ...,  71.        ,\n",
       "        379.64612909,  22.4996371 ],\n",
       "       [ 62.        ,   0.        , 176.        , ...,  64.        ,\n",
       "        452.36445484,  23.56663223],\n",
       "       [ 47.        ,   0.        , 175.        , ...,  93.        ,\n",
       "        418.31662649,  30.69387755]])"
      ]
     },
     "execution_count": 75,
     "metadata": {},
     "output_type": "execute_result"
    }
   ],
   "source": [
    "X_train"
   ]
  },
  {
   "cell_type": "code",
   "execution_count": 76,
   "metadata": {},
   "outputs": [
    {
     "data": {
      "text/plain": [
       "array([[  8.        ,   0.        , 120.        , ..., 123.        ,\n",
       "        433.82997822,  19.44444444],\n",
       "       [ 40.        ,   1.        , 160.        , ...,  82.        ,\n",
       "        409.16581806,  29.296875  ],\n",
       "       [ 67.        ,   0.        , 171.        , ...,  81.        ,\n",
       "        407.82514636,  22.91303307],\n",
       "       ...,\n",
       "       [ 42.        ,   1.        , 165.        , ...,  66.        ,\n",
       "        394.35212691,  19.83471074],\n",
       "       [ 48.        ,   1.        , 156.        , ...,  74.        ,\n",
       "        427.56383539,  25.47666009],\n",
       "       [ 59.        ,   0.        , 174.        , ...,  63.        ,\n",
       "        386.31004388,  24.44180209]])"
      ]
     },
     "execution_count": 76,
     "metadata": {},
     "output_type": "execute_result"
    }
   ],
   "source": [
    "X_test"
   ]
  },
  {
   "cell_type": "code",
   "execution_count": 77,
   "metadata": {},
   "outputs": [
    {
     "data": {
      "text/plain": [
       "array([0, 0, 0, 0, 1, 0, 1, 1, 1, 1, 0, 1, 1, 0, 1, 1, 1, 1, 0, 1, 0, 0,\n",
       "       0, 0, 0, 1, 1, 1, 1, 0, 0, 1, 1, 0, 0, 1, 0, 1, 1, 1, 1, 1, 0, 0,\n",
       "       0, 1, 0, 0, 1, 1, 0, 0, 1, 1, 0, 1, 0, 0, 0, 0, 1, 1, 1, 0, 1, 1,\n",
       "       0, 0, 1, 1, 0, 1, 0, 1, 1, 1, 0, 0, 0, 0, 1, 1, 1, 0, 0, 1, 1, 0,\n",
       "       0, 0, 1, 1, 0, 1, 1, 0, 1, 1, 0, 1, 1, 0, 1, 1, 0, 0, 0, 0, 1, 1,\n",
       "       0, 0, 0, 0, 0, 0, 0, 0, 0, 1, 0, 0, 0, 1, 0, 0, 0, 0, 1, 1, 0, 1,\n",
       "       0, 1, 0, 1, 1, 0, 0, 0, 1, 1, 1, 1, 1, 1, 0, 1, 1, 1, 0, 1, 0, 0,\n",
       "       0, 1, 1, 0, 1, 1, 0, 1, 0, 1, 1, 1, 0, 0, 1, 0, 0, 0, 1, 0, 0, 0,\n",
       "       0, 0, 1, 0, 1, 1, 1, 0, 0, 1, 1, 1, 1, 1, 0, 0, 0, 1, 1, 0, 1, 1,\n",
       "       1, 1, 1, 1, 0, 0, 0, 0, 0, 0, 0, 1, 1, 1, 1, 0, 0, 1, 0, 0, 1, 0,\n",
       "       0, 1, 0, 0, 0, 0, 1, 0, 1, 0, 0, 0, 1, 0, 1, 0, 1, 1, 0, 0, 1, 0,\n",
       "       0, 0, 0, 1, 0, 0, 0, 1, 0, 1, 0, 0, 0, 1, 1, 1, 1, 0, 1, 1, 0, 1,\n",
       "       0, 1, 1, 0, 0, 0, 0, 1, 0, 0, 0, 1, 0, 0, 0, 0, 0, 1, 1, 0, 1, 1,\n",
       "       1, 0, 0, 0, 0, 0, 1, 0, 0, 0, 1, 1, 1, 0, 0, 0, 0, 0, 1, 0, 0, 1,\n",
       "       1, 0, 1, 1, 0, 1, 0, 1, 0, 1, 0, 0, 0, 1, 0, 0, 1, 1, 0, 1, 0, 1,\n",
       "       0, 0, 0, 0, 0, 1, 0, 1, 1, 0, 1, 1, 0, 1, 1, 0, 0, 1, 0, 0, 1, 0,\n",
       "       0, 1, 0, 1, 0, 0, 1, 1])"
      ]
     },
     "execution_count": 77,
     "metadata": {},
     "output_type": "execute_result"
    }
   ],
   "source": [
    "y_train"
   ]
  },
  {
   "cell_type": "markdown",
   "metadata": {},
   "source": [
    "## 4) Feature Scaling"
   ]
  },
  {
   "cell_type": "code",
   "execution_count": 78,
   "metadata": {},
   "outputs": [],
   "source": [
    "from sklearn.preprocessing import StandardScaler\n",
    "scaler = StandardScaler()\n",
    "scaler.fit(X_train)\n",
    "\n",
    "X_train = scaler.transform(X_train)\n",
    "X_test = scaler.transform(X_test)"
   ]
  },
  {
   "cell_type": "code",
   "execution_count": 79,
   "metadata": {},
   "outputs": [
    {
     "data": {
      "text/plain": [
       "arrhythmia    1.000000\n",
       "qrs_int       0.329691\n",
       "jwave         0.229340\n",
       "t_int         0.214709\n",
       "hr            0.099444\n",
       "qtc           0.051748\n",
       "age           0.008938\n",
       "qt_int        0.000782\n",
       "twave        -0.013351\n",
       "qrst         -0.021419\n",
       "bmi          -0.033580\n",
       "weight       -0.034547\n",
       "pr_int       -0.051601\n",
       "pwave        -0.056966\n",
       "height       -0.066546\n",
       "qrs          -0.072124\n",
       "p_int        -0.095333\n",
       "sex          -0.221400\n",
       "Name: arrhythmia, dtype: float64"
      ]
     },
     "execution_count": 79,
     "metadata": {},
     "output_type": "execute_result"
    }
   ],
   "source": [
    "corr_matrix = dft2.corr()\n",
    "corr_matrix['arrhythmia'].sort_values(ascending=False)"
   ]
  },
  {
   "cell_type": "code",
   "execution_count": 80,
   "metadata": {},
   "outputs": [
    {
     "data": {
      "image/png": "[encoded data removed]",
      "text/plain": [
       "<Figure size 864x576 with 2 Axes>"
      ]
     },
     "metadata": {
      "needs_background": "light"
     },
     "output_type": "display_data"
    }
   ],
   "source": [
    "import seaborn as sns\n",
    "plt.figure(figsize=(12,8))\n",
    "plt.title('Correlation Matrix')\n",
    "sns.heatmap(corr_matrix)\n",
    "plt.show()\n",
    "# Box plots to look how features split among arrhythmia and not\n",
    "# feature importance, which provides most info across all variables\n",
    "    # can reduce feature set for those that aren't important\n",
    "    # drop some correlated features to see if it affects accuracy"
   ]
  },
  {
   "cell_type": "code",
   "execution_count": 81,
   "metadata": {},
   "outputs": [
    {
     "name": "stdout",
     "output_type": "stream",
     "text": [
      "                 age       sex    height    weight   qrs_int    pr_int  \\\n",
      "age         1.000000 -0.055041  0.294884  0.380295 -0.003814  0.039075   \n",
      "sex        -0.055041  1.000000 -0.383041 -0.246827 -0.337709 -0.045433   \n",
      "height      0.294884 -0.383041  1.000000  0.600682  0.052363  0.076023   \n",
      "weight      0.380295 -0.246827  0.600682  1.000000  0.100246  0.119024   \n",
      "qrs_int    -0.003814 -0.337709  0.052363  0.100246  1.000000  0.021916   \n",
      "pr_int      0.039075 -0.045433  0.076023  0.119024  0.021916  1.000000   \n",
      "qt_int      0.197191  0.071622  0.180441  0.119072  0.218665  0.079681   \n",
      "t_int       0.024977 -0.184509  0.071273  0.149765  0.397480  0.074395   \n",
      "p_int       0.098173 -0.079945  0.123723  0.119972  0.049763  0.670657   \n",
      "qrs        -0.262884  0.066926 -0.161493 -0.171948 -0.146383 -0.011030   \n",
      "twave       0.007395 -0.140489  0.039340 -0.046469  0.031666  0.113460   \n",
      "pwave      -0.051248  0.033227  0.077637 -0.052413  0.023293  0.117736   \n",
      "qrst       -0.283087  0.029157 -0.156430 -0.211251 -0.075833  0.022132   \n",
      "jwave       0.031399 -0.070996 -0.030661  0.110045  0.388194 -0.056194   \n",
      "hr         -0.192091  0.062307 -0.350348 -0.174767 -0.006028 -0.044844   \n",
      "arrhythmia  0.008938 -0.221400 -0.066546 -0.034547  0.329691 -0.051601   \n",
      "qtc         0.045188  0.178179 -0.063243  0.005280  0.237889  0.044871   \n",
      "bmi         0.356388  0.000203  0.186676  0.877675  0.055474  0.087011   \n",
      "\n",
      "              qt_int     t_int     p_int       qrs     twave     pwave  \\\n",
      "age         0.197191  0.024977  0.098173 -0.262884  0.007395 -0.051248   \n",
      "sex         0.071622 -0.184509 -0.079945  0.066926 -0.140489  0.033227   \n",
      "height      0.180441  0.071273  0.123723 -0.161493  0.039340  0.077637   \n",
      "weight      0.119072  0.149765  0.119972 -0.171948 -0.046469 -0.052413   \n",
      "qrs_int     0.218665  0.397480  0.049763 -0.146383  0.031666  0.023293   \n",
      "pr_int      0.079681  0.074395  0.670657 -0.011030  0.113460  0.117736   \n",
      "qt_int      1.000000  0.166822  0.063306 -0.032356  0.154265 -0.069053   \n",
      "t_int       0.166822  1.000000  0.060100 -0.098938  0.039371 -0.091516   \n",
      "p_int       0.063306  0.060100  1.000000 -0.061637  0.141019  0.157476   \n",
      "qrs        -0.032356 -0.098938 -0.061637  1.000000 -0.054089  0.026524   \n",
      "twave       0.154265  0.039371  0.141019 -0.054089  1.000000  0.050340   \n",
      "pwave      -0.069053 -0.091516  0.157476  0.026524  0.050340  1.000000   \n",
      "qrst       -0.086005 -0.107119 -0.071962  0.708950  0.191437  0.130255   \n",
      "jwave       0.000351  0.287609 -0.053947 -0.108339 -0.015715 -0.059655   \n",
      "hr         -0.654846  0.016343  0.043679  0.010862 -0.075812  0.063417   \n",
      "arrhythmia  0.000782  0.214709 -0.095333 -0.072124 -0.013351 -0.056966   \n",
      "qtc         0.495187  0.246313  0.155141 -0.039449  0.116382  0.016823   \n",
      "bmi         0.102540  0.135361  0.065883 -0.133740 -0.091153 -0.108872   \n",
      "\n",
      "                qrst     jwave        hr  arrhythmia       qtc       bmi  \n",
      "age        -0.283087  0.031399 -0.192091    0.008938  0.045188  0.356388  \n",
      "sex         0.029157 -0.070996  0.062307   -0.221400  0.178179  0.000203  \n",
      "height     -0.156430 -0.030661 -0.350348   -0.066546 -0.063243  0.186676  \n",
      "weight     -0.211251  0.110045 -0.174767   -0.034547  0.005280  0.877675  \n",
      "qrs_int    -0.075833  0.388194 -0.006028    0.329691  0.237889  0.055474  \n",
      "pr_int      0.022132 -0.056194 -0.044844   -0.051601  0.044871  0.087011  \n",
      "qt_int     -0.086005  0.000351 -0.654846    0.000782  0.495187  0.102540  \n",
      "t_int      -0.107119  0.287609  0.016343    0.214709  0.246313  0.135361  \n",
      "p_int      -0.071962 -0.053947  0.043679   -0.095333  0.155141  0.065883  \n",
      "qrs         0.708950 -0.108339  0.010862   -0.072124 -0.039449 -0.133740  \n",
      "twave       0.191437 -0.015715 -0.075812   -0.013351  0.116382 -0.091153  \n",
      "pwave       0.130255 -0.059655  0.063417   -0.056966  0.016823 -0.108872  \n",
      "qrst        1.000000 -0.123273  0.071332   -0.021419 -0.043102 -0.195934  \n",
      "jwave      -0.123273  1.000000  0.094389    0.229340  0.116119  0.141732  \n",
      "hr          0.071332  0.094389  1.000000    0.099444  0.303012 -0.071611  \n",
      "arrhythmia -0.021419  0.229340  0.099444    1.000000  0.051748 -0.033580  \n",
      "qtc        -0.043102  0.116119  0.303012    0.051748  1.000000  0.066683  \n",
      "bmi        -0.195934  0.141732 -0.071611   -0.033580  0.066683  1.000000  \n"
     ]
    }
   ],
   "source": [
    "print(corr_matrix)"
   ]
  },
  {
   "cell_type": "markdown",
   "metadata": {},
   "source": [
    "#### Correlations\n",
    "There appears to be moderate positive correlations with:\n",
    "1. height and age\n",
    "2. weight and age\n",
    "3. arrhythmia and QRS interval\n",
    "4. T interval and QRS interval\n",
    "5. T interva and J waves\n",
    "\n",
    "Stronger positive correlations with:\n",
    "1. weight and height\n",
    "2. P interval and PR interval\n",
    "3. QRS with QRST\n",
    "\n",
    "And negative correlations with:\n",
    "1. Height and sex\n",
    "2. Weight and sex\n",
    "3. QRS interval and sex\n",
    "4. QRS/QRST with age\n",
    "5. Heart rate with QT interval\n",
    "6. Height and heart rate"
   ]
  },
  {
   "cell_type": "code",
   "execution_count": 82,
   "metadata": {},
   "outputs": [
    {
     "data": {
      "image/png": "[encoded data removed]",
      "text/plain": [
       "<Figure size 864x576 with 324 Axes>"
      ]
     },
     "metadata": {
      "needs_background": "light"
     },
     "output_type": "display_data"
    }
   ],
   "source": [
    "from pandas.plotting import scatter_matrix\n",
    "attributes = dft2.columns\n",
    "scatter_matrix(dft2[attributes], figsize=(12, 8))\n",
    "plt.show()"
   ]
  },
  {
   "cell_type": "code",
   "execution_count": 83,
   "metadata": {},
   "outputs": [
    {
     "data": {
      "text/plain": [
       "Text(0.5, 1.0, 'QRS vs QRST interval')"
      ]
     },
     "execution_count": 83,
     "metadata": {},
     "output_type": "execute_result"
    },
    {
     "data": {
      "image/png": "[encoded data removed]",
      "text/plain": [
       "<Figure size 432x288 with 1 Axes>"
      ]
     },
     "metadata": {
      "needs_background": "light"
     },
     "output_type": "display_data"
    }
   ],
   "source": [
    "dft2.plot(kind='scatter', x='qrst', y='qrs')\n",
    "plt.title('QRS vs QRST interval')"
   ]
  },
  {
   "cell_type": "code",
   "execution_count": 84,
   "metadata": {},
   "outputs": [
    {
     "data": {
      "text/plain": [
       "Text(0.5, 1.0, 'P vs PR interval')"
      ]
     },
     "execution_count": 84,
     "metadata": {},
     "output_type": "execute_result"
    },
    {
     "data": {
      "image/png": "[encoded data removed]",
      "text/plain": [
       "<Figure size 432x288 with 1 Axes>"
      ]
     },
     "metadata": {
      "needs_background": "light"
     },
     "output_type": "display_data"
    }
   ],
   "source": [
    "dft2.plot(kind='scatter', x='pr_int', y='p_int')\n",
    "plt.title('P vs PR interval')"
   ]
  },
  {
   "cell_type": "code",
   "execution_count": 85,
   "metadata": {},
   "outputs": [
    {
     "data": {
      "text/plain": [
       "<matplotlib.axes._subplots.AxesSubplot at 0x1a2427d358>"
      ]
     },
     "execution_count": 85,
     "metadata": {},
     "output_type": "execute_result"
    },
    {
     "data": {
      "image/png": "[encoded data removed]",
      "text/plain": [
       "<Figure size 432x288 with 1 Axes>"
      ]
     },
     "metadata": {
      "needs_background": "light"
     },
     "output_type": "display_data"
    }
   ],
   "source": [
    "sns.boxplot(y='twave', data=dft2, x='arrhythmia')"
   ]
  },
  {
   "cell_type": "code",
   "execution_count": 86,
   "metadata": {},
   "outputs": [
    {
     "data": {
      "image/png": "[encoded data removed]",
      "text/plain": [
       "<Figure size 720x360 with 1 Axes>"
      ]
     },
     "metadata": {
      "needs_background": "light"
     },
     "output_type": "display_data"
    }
   ],
   "source": [
    "plt.figure(figsize=(10,5))\n",
    "sns.boxplot(y='twave', x='arrhythmia', data=dft2)\n",
    "plt.title('Arrhythmia Distribution by twave')\n",
    "plt.show()"
   ]
  },
  {
   "cell_type": "code",
   "execution_count": 87,
   "metadata": {},
   "outputs": [
    {
     "data": {
      "image/png": "[encoded data removed]",
      "text/plain": [
       "<Figure size 720x360 with 1 Axes>"
      ]
     },
     "metadata": {
      "needs_background": "light"
     },
     "output_type": "display_data"
    }
   ],
   "source": [
    "plt.figure(figsize=(10,5))\n",
    "sns.boxplot(y='qrs_int', x='arrhythmia', data=dft2)\n",
    "plt.title('Arrhythmia Distribution by QRS Interval')\n",
    "plt.show()"
   ]
  },
  {
   "cell_type": "code",
   "execution_count": 175,
   "metadata": {},
   "outputs": [
    {
     "data": {
      "text/plain": [
       "Text(0.5, 1.0, 'Weight of individuals with or without Arrhythmia')"
      ]
     },
     "execution_count": 175,
     "metadata": {},
     "output_type": "execute_result"
    },
    {
     "data": {
      "image/png": "[encoded data removed]",
      "text/plain": [
       "<Figure size 720x360 with 1 Axes>"
      ]
     },
     "metadata": {
      "needs_background": "light"
     },
     "output_type": "display_data"
    }
   ],
   "source": [
    "plt.figure(figsize=(10,5))\n",
    "sns.boxplot(y='weight', x='sex', data=dft2, hue='arrhythmia')\n",
    "plt.title('Weight of individuals with or without Arrhythmia')"
   ]
  },
  {
   "cell_type": "code",
   "execution_count": 89,
   "metadata": {},
   "outputs": [
    {
     "data": {
      "text/plain": [
       "<matplotlib.axes._subplots.AxesSubplot at 0x1a2430ddd8>"
      ]
     },
     "execution_count": 89,
     "metadata": {},
     "output_type": "execute_result"
    },
    {
     "data": {
      "image/png": "[encoded data removed]",
      "text/plain": [
       "<Figure size 432x288 with 1 Axes>"
      ]
     },
     "metadata": {
      "needs_background": "light"
     },
     "output_type": "display_data"
    }
   ],
   "source": [
    "sns.boxplot(y='qrs_int', x='arrhythmia', data=dft2)"
   ]
  },
  {
   "cell_type": "markdown",
   "metadata": {},
   "source": [
    "## 6) Modeling"
   ]
  },
  {
   "cell_type": "markdown",
   "metadata": {},
   "source": [
    "First lets create a way to record accuracy scores of the various models"
   ]
  },
  {
   "cell_type": "code",
   "execution_count": 90,
   "metadata": {},
   "outputs": [],
   "source": [
    "from sklearn.model_selection import cross_val_score\n",
    "models = ['Naive Bayes', 'KNN', 'Decision Tree', 'Random Forest', 'SVM']\n",
    "scores = []"
   ]
  },
  {
   "cell_type": "code",
   "execution_count": 91,
   "metadata": {},
   "outputs": [
    {
     "name": "stdout",
     "output_type": "stream",
     "text": [
      "[]\n"
     ]
    }
   ],
   "source": [
    "print(scores)"
   ]
  },
  {
   "cell_type": "markdown",
   "metadata": {},
   "source": [
    "## Naive Bayes Classification"
   ]
  },
  {
   "cell_type": "code",
   "execution_count": 92,
   "metadata": {},
   "outputs": [
    {
     "data": {
      "text/plain": [
       "GaussianNB(priors=None, var_smoothing=1e-09)"
      ]
     },
     "execution_count": 92,
     "metadata": {},
     "output_type": "execute_result"
    }
   ],
   "source": [
    "# Naive Bayes?\n",
    "from sklearn.naive_bayes import GaussianNB\n",
    "gnb = GaussianNB()\n",
    "gnb.fit(X_train, y_train)"
   ]
  },
  {
   "cell_type": "code",
   "execution_count": 93,
   "metadata": {},
   "outputs": [],
   "source": [
    "y_predgnb = gnb.predict(X_test)"
   ]
  },
  {
   "cell_type": "code",
   "execution_count": 94,
   "metadata": {},
   "outputs": [
    {
     "name": "stdout",
     "output_type": "stream",
     "text": [
      "0.7252747252747253\n"
     ]
    }
   ],
   "source": [
    "from sklearn.metrics import accuracy_score\n",
    "gnbacc = accuracy_score(y_test, y_predgnb)\n",
    "print(gnbacc)\n",
    "scores.append(gnbacc)"
   ]
  },
  {
   "cell_type": "code",
   "execution_count": 95,
   "metadata": {},
   "outputs": [
    {
     "name": "stdout",
     "output_type": "stream",
     "text": [
      "[0.65934066 0.62222222 0.71111111 0.74444444 0.78888889]\n"
     ]
    }
   ],
   "source": [
    "gnbcv = cross_val_score(gnb, X, y, cv=5)\n",
    "print(gnbcv)"
   ]
  },
  {
   "cell_type": "markdown",
   "metadata": {},
   "source": [
    "With an accuracy of 72.5%, it appears that Naive Bayes is doing a rather good job of modeling arrhythmia, but variance of when using cross validation seems to be rather high."
   ]
  },
  {
   "cell_type": "code",
   "execution_count": 96,
   "metadata": {},
   "outputs": [],
   "source": [
    "CV = pd.DataFrame(data=[1, 2, 3, 4, 5])\n",
    "gnbcvdf = pd.DataFrame(data=gnbcv)"
   ]
  },
  {
   "cell_type": "code",
   "execution_count": 97,
   "metadata": {},
   "outputs": [],
   "source": [
    "gnbcvbar = pd.concat([CV, gnbcvdf], axis=1)"
   ]
  },
  {
   "cell_type": "code",
   "execution_count": 98,
   "metadata": {},
   "outputs": [],
   "source": [
    "gnbcvbar.columns = ['CV segment', 'CV score']"
   ]
  },
  {
   "cell_type": "code",
   "execution_count": 187,
   "metadata": {},
   "outputs": [
    {
     "data": {
      "image/png": "[encoded data removed]",
      "text/plain": [
       "<Figure size 720x360 with 1 Axes>"
      ]
     },
     "metadata": {
      "needs_background": "light"
     },
     "output_type": "display_data"
    }
   ],
   "source": [
    "plt.figure(figsize=(10,5))\n",
    "sns.barplot(x='CV segment', y='CV score', data=gnbcvbar, palette='pastel')\n",
    "\n",
    "plt.title('Accuracy Scores for each CV segment on Naive Bayes')\n",
    "plt.show()"
   ]
  },
  {
   "cell_type": "markdown",
   "metadata": {},
   "source": [
    "We will investigate this further when we do cross validation for all models and compare variances between each model as opposed to just accuracy. Variances in CV scores could mean that there is some overfitting."
   ]
  },
  {
   "cell_type": "markdown",
   "metadata": {},
   "source": [
    "## KNN Classifier"
   ]
  },
  {
   "cell_type": "code",
   "execution_count": 100,
   "metadata": {},
   "outputs": [
    {
     "data": {
      "text/plain": [
       "KNeighborsClassifier(algorithm='auto', leaf_size=30, metric='minkowski',\n",
       "           metric_params=None, n_jobs=None, n_neighbors=2, p=2,\n",
       "           weights='uniform')"
      ]
     },
     "execution_count": 100,
     "metadata": {},
     "output_type": "execute_result"
    }
   ],
   "source": [
    "from sklearn.neighbors import KNeighborsClassifier\n",
    "classifier = KNeighborsClassifier(n_neighbors=2)\n",
    "classifier.fit(X_train, y_train)"
   ]
  },
  {
   "cell_type": "code",
   "execution_count": 101,
   "metadata": {},
   "outputs": [],
   "source": [
    "y_pred = classifier.predict(X_test)"
   ]
  },
  {
   "cell_type": "code",
   "execution_count": 102,
   "metadata": {},
   "outputs": [
    {
     "name": "stdout",
     "output_type": "stream",
     "text": [
      "0.6373626373626373\n"
     ]
    }
   ],
   "source": [
    "from sklearn.metrics import accuracy_score\n",
    "knnacc = accuracy_score(y_test, y_pred)\n",
    "print(knnacc)\n",
    "scores.append(knnacc)"
   ]
  },
  {
   "cell_type": "code",
   "execution_count": 103,
   "metadata": {},
   "outputs": [
    {
     "name": "stdout",
     "output_type": "stream",
     "text": [
      "[0.64835165 0.67777778 0.64444444 0.66666667 0.7       ]\n"
     ]
    }
   ],
   "source": [
    "knncv = cross_val_score(classifier, X, y, cv=5)\n",
    "print(knncv)"
   ]
  },
  {
   "cell_type": "code",
   "execution_count": 104,
   "metadata": {},
   "outputs": [
    {
     "data": {
      "text/plain": [
       "numpy.ndarray"
      ]
     },
     "execution_count": 104,
     "metadata": {},
     "output_type": "execute_result"
    }
   ],
   "source": [
    "type(y_pred)"
   ]
  },
  {
   "cell_type": "code",
   "execution_count": 105,
   "metadata": {},
   "outputs": [
    {
     "data": {
      "text/plain": [
       "numpy.ndarray"
      ]
     },
     "execution_count": 105,
     "metadata": {},
     "output_type": "execute_result"
    }
   ],
   "source": [
    "type(y_test)"
   ]
  },
  {
   "cell_type": "code",
   "execution_count": 106,
   "metadata": {},
   "outputs": [
    {
     "name": "stdout",
     "output_type": "stream",
     "text": [
      "[[45  6]\n",
      " [27 13]]\n"
     ]
    }
   ],
   "source": [
    "from sklearn.metrics import classification_report, confusion_matrix\n",
    "print(confusion_matrix(y_test, y_pred))"
   ]
  },
  {
   "cell_type": "code",
   "execution_count": 107,
   "metadata": {},
   "outputs": [
    {
     "name": "stdout",
     "output_type": "stream",
     "text": [
      "              precision    recall  f1-score   support\n",
      "\n",
      "           0       0.62      0.88      0.73        51\n",
      "           1       0.68      0.33      0.44        40\n",
      "\n",
      "   micro avg       0.64      0.64      0.64        91\n",
      "   macro avg       0.65      0.60      0.59        91\n",
      "weighted avg       0.65      0.64      0.60        91\n",
      "\n"
     ]
    }
   ],
   "source": [
    "print(classification_report(y_test, y_pred))"
   ]
  },
  {
   "cell_type": "code",
   "execution_count": 108,
   "metadata": {},
   "outputs": [
    {
     "name": "stdout",
     "output_type": "stream",
     "text": [
      "[1 0 0 0 0 1 0 0 0 0 0 0 0 0 0 1 0 0 1 0 0 1 0 0 0 1 0 1 0 1 0 0 0 0 0 0 0\n",
      " 0 0 0 0 1 1 0 0 1 0 1 1 1 1 0 1 0 0 0 0 1 0 0 1 1 0 0 0 0 0 0 0 0 0 0 0 0\n",
      " 0 0 0 0 0 0 0 0 0 0 0 0 0 0 0 0 0]\n"
     ]
    }
   ],
   "source": [
    "print(y_pred)"
   ]
  },
  {
   "cell_type": "code",
   "execution_count": 109,
   "metadata": {},
   "outputs": [
    {
     "name": "stdout",
     "output_type": "stream",
     "text": [
      "[1 0 1 0 0 0 0 1 0 0 1 0 0 0 0 1 0 0 1 0 1 1 1 0 1 0 0 1 0 0 1 0 0 0 0 0 1\n",
      " 1 0 1 0 1 1 1 0 0 0 1 1 0 1 0 1 0 0 0 0 1 0 1 0 1 0 0 1 1 1 1 0 0 0 1 1 0\n",
      " 0 1 1 0 0 0 1 1 0 1 0 1 1 1 1 0 0]\n"
     ]
    }
   ],
   "source": [
    "print(y_test)"
   ]
  },
  {
   "cell_type": "code",
   "execution_count": 110,
   "metadata": {},
   "outputs": [],
   "source": [
    "error=[]\n",
    "\n",
    "for i in range(1, 30):\n",
    "    knn = KNeighborsClassifier(n_neighbors=i)\n",
    "    knn.fit(X_train, y_train)\n",
    "    pred_i = knn.predict(X_test)\n",
    "    error.append(np.mean(pred_i != y_test))"
   ]
  },
  {
   "cell_type": "code",
   "execution_count": 111,
   "metadata": {},
   "outputs": [
    {
     "name": "stdout",
     "output_type": "stream",
     "text": [
      "[0.32967032967032966, 0.3626373626373626, 0.3516483516483517, 0.34065934065934067, 0.31868131868131866, 0.34065934065934067, 0.34065934065934067, 0.34065934065934067, 0.32967032967032966, 0.32967032967032966, 0.3516483516483517, 0.32967032967032966, 0.34065934065934067, 0.32967032967032966, 0.32967032967032966, 0.32967032967032966, 0.32967032967032966, 0.32967032967032966, 0.31868131868131866, 0.31868131868131866, 0.2967032967032967, 0.2967032967032967, 0.3076923076923077, 0.31868131868131866, 0.31868131868131866, 0.3516483516483517, 0.31868131868131866, 0.34065934065934067, 0.31868131868131866]\n"
     ]
    }
   ],
   "source": [
    "print(error)"
   ]
  },
  {
   "cell_type": "code",
   "execution_count": 112,
   "metadata": {},
   "outputs": [
    {
     "name": "stdout",
     "output_type": "stream",
     "text": [
      "0.6373626373626373\n"
     ]
    }
   ],
   "source": [
    "from sklearn.neighbors import KNeighborsClassifier\n",
    "classifierknn = KNeighborsClassifier(n_neighbors=2)\n",
    "classifierknn.fit(X_train, y_train)\n",
    "y_predsk = classifierknn.predict(X_test)\n",
    "print(accuracy_score(y_predsk, y_test))"
   ]
  },
  {
   "cell_type": "code",
   "execution_count": 113,
   "metadata": {},
   "outputs": [
    {
     "name": "stdout",
     "output_type": "stream",
     "text": [
      "[0.64835165 0.67777778 0.64444444 0.66666667 0.7       ]\n"
     ]
    }
   ],
   "source": [
    "knncv2 = cross_val_score(classifierknn, X, y, cv=5)\n",
    "print(knncv2)"
   ]
  },
  {
   "cell_type": "markdown",
   "metadata": {},
   "source": [
    "## Decision Tree Classifier"
   ]
  },
  {
   "cell_type": "code",
   "execution_count": 114,
   "metadata": {},
   "outputs": [
    {
     "data": {
      "text/plain": [
       "DecisionTreeClassifier(class_weight=None, criterion='gini', max_depth=3,\n",
       "            max_features=None, max_leaf_nodes=None,\n",
       "            min_impurity_decrease=0.0, min_impurity_split=None,\n",
       "            min_samples_leaf=5, min_samples_split=2,\n",
       "            min_weight_fraction_leaf=0.0, presort=False, random_state=100,\n",
       "            splitter='best')"
      ]
     },
     "execution_count": 114,
     "metadata": {},
     "output_type": "execute_result"
    }
   ],
   "source": [
    "from sklearn.tree import DecisionTreeClassifier\n",
    "classifier2 = DecisionTreeClassifier(\n",
    "    criterion='gini',\n",
    "    random_state=100,\n",
    "    max_depth=3,\n",
    "    min_samples_leaf=5\n",
    "    )\n",
    "classifier2.fit(X_train, y_train)"
   ]
  },
  {
   "cell_type": "code",
   "execution_count": 115,
   "metadata": {},
   "outputs": [
    {
     "name": "stdout",
     "output_type": "stream",
     "text": [
      "0.6263736263736264\n"
     ]
    }
   ],
   "source": [
    "y_pred2 = classifier2.predict(X_test)\n",
    "dtacc = accuracy_score(y_pred2, y_test)\n",
    "print(dtacc)\n",
    "scores.append(dtacc)"
   ]
  },
  {
   "cell_type": "code",
   "execution_count": 116,
   "metadata": {},
   "outputs": [
    {
     "name": "stdout",
     "output_type": "stream",
     "text": [
      "[0.67123288 0.75       0.68055556 0.65277778 0.73239437]\n"
     ]
    }
   ],
   "source": [
    "dtcv = cross_val_score(classifier2, X_train, y_train, cv=5)\n",
    "print(dtcv)"
   ]
  },
  {
   "cell_type": "code",
   "execution_count": 117,
   "metadata": {},
   "outputs": [
    {
     "name": "stdout",
     "output_type": "stream",
     "text": [
      "0.6263736263736264\n"
     ]
    }
   ],
   "source": [
    "print(accuracy_score(y_pred2, y_test))"
   ]
  },
  {
   "cell_type": "markdown",
   "metadata": {},
   "source": [
    "### Random Forest Classifier"
   ]
  },
  {
   "cell_type": "code",
   "execution_count": 118,
   "metadata": {},
   "outputs": [
    {
     "data": {
      "text/plain": [
       "RandomForestClassifier(bootstrap=True, class_weight=None, criterion='gini',\n",
       "            max_depth=3, max_features='auto', max_leaf_nodes=None,\n",
       "            min_impurity_decrease=0.0, min_impurity_split=None,\n",
       "            min_samples_leaf=10, min_samples_split=4,\n",
       "            min_weight_fraction_leaf=0.0, n_estimators=5, n_jobs=None,\n",
       "            oob_score=False, random_state=100, verbose=0, warm_start=False)"
      ]
     },
     "execution_count": 118,
     "metadata": {},
     "output_type": "execute_result"
    }
   ],
   "source": [
    "from sklearn import ensemble\n",
    "classifier3 = ensemble.RandomForestClassifier(\n",
    "    n_estimators=5,\n",
    "    random_state=100,\n",
    "    max_depth=3,\n",
    "    min_samples_split=4,\n",
    "    min_samples_leaf=10\n",
    "    )\n",
    "classifier3.fit(X_train, y_train)"
   ]
  },
  {
   "cell_type": "code",
   "execution_count": 119,
   "metadata": {},
   "outputs": [],
   "source": [
    "y_pred3 = classifier3.predict(X_test)\n",
    "rfacc = accuracy_score(y_pred3, y_test)\n",
    "scores.append(rfacc)"
   ]
  },
  {
   "cell_type": "code",
   "execution_count": 120,
   "metadata": {},
   "outputs": [
    {
     "name": "stdout",
     "output_type": "stream",
     "text": [
      "0.6593406593406593\n"
     ]
    }
   ],
   "source": [
    "print(rfacc)"
   ]
  },
  {
   "cell_type": "code",
   "execution_count": 121,
   "metadata": {},
   "outputs": [
    {
     "name": "stdout",
     "output_type": "stream",
     "text": [
      "[0.64835165 0.7        0.64444444 0.71111111 0.65555556]\n"
     ]
    }
   ],
   "source": [
    "rfcv = cross_val_score(classifier3, X, y, cv=5)\n",
    "print(rfcv)"
   ]
  },
  {
   "cell_type": "code",
   "execution_count": 122,
   "metadata": {},
   "outputs": [
    {
     "name": "stdout",
     "output_type": "stream",
     "text": [
      "0.6593406593406593\n"
     ]
    }
   ],
   "source": [
    "print(accuracy_score(y_pred3, y_test))"
   ]
  },
  {
   "cell_type": "code",
   "execution_count": 123,
   "metadata": {},
   "outputs": [
    {
     "name": "stdout",
     "output_type": "stream",
     "text": [
      "0.6593406593406593\n"
     ]
    }
   ],
   "source": [
    "ytestpred = classifier3.predict(X_test)\n",
    "print(accuracy_score(ytestpred, y_test))\n",
    "#run grid search to see where max is"
   ]
  },
  {
   "cell_type": "code",
   "execution_count": 124,
   "metadata": {},
   "outputs": [
    {
     "name": "stdout",
     "output_type": "stream",
     "text": [
      "[0.68493151 0.75       0.70833333 0.66666667 0.76056338]\n"
     ]
    }
   ],
   "source": [
    "print(cross_val_score(classifier3, X_train, y_train, cv=5))"
   ]
  },
  {
   "cell_type": "markdown",
   "metadata": {},
   "source": [
    "### Determining Feature Importance of Random Forest"
   ]
  },
  {
   "cell_type": "code",
   "execution_count": 125,
   "metadata": {},
   "outputs": [],
   "source": [
    "xcolumns = dft2.columns.drop(labels='arrhythmia')"
   ]
  },
  {
   "cell_type": "code",
   "execution_count": 126,
   "metadata": {},
   "outputs": [],
   "source": [
    "feature_importances = pd.DataFrame(classifier3.feature_importances_, index=xcolumns, columns=['importance']).sort_values('importance', ascending=False)"
   ]
  },
  {
   "cell_type": "code",
   "execution_count": 127,
   "metadata": {},
   "outputs": [
    {
     "name": "stdout",
     "output_type": "stream",
     "text": [
      "         importance\n",
      "qrs_int    0.202762\n",
      "twave      0.151603\n",
      "hr         0.149920\n",
      "t_int      0.126296\n",
      "qt_int     0.104859\n",
      "jwave      0.077393\n",
      "qrst       0.050282\n",
      "qrs        0.045214\n",
      "qtc        0.041340\n",
      "p_int      0.023927\n",
      "pr_int     0.017968\n",
      "bmi        0.008299\n",
      "pwave      0.000138\n",
      "sex        0.000000\n",
      "weight     0.000000\n",
      "height     0.000000\n",
      "age        0.000000\n"
     ]
    }
   ],
   "source": [
    "print(feature_importances)"
   ]
  },
  {
   "cell_type": "code",
   "execution_count": 128,
   "metadata": {},
   "outputs": [
    {
     "data": {
      "text/plain": [
       "'qrs_int'"
      ]
     },
     "execution_count": 128,
     "metadata": {},
     "output_type": "execute_result"
    }
   ],
   "source": [
    "feature_importances.index[0]"
   ]
  },
  {
   "cell_type": "code",
   "execution_count": 129,
   "metadata": {},
   "outputs": [],
   "source": [
    "dft3 = dft2.drop(labels=['age', 'height', 'weight', 'sex', 'pwave', 'bmi'], axis=1)"
   ]
  },
  {
   "cell_type": "code",
   "execution_count": 130,
   "metadata": {},
   "outputs": [],
   "source": [
    "X3 = dft3.drop(labels='arrhythmia', axis=1).values\n",
    "y3 = dft3.arrhythmia.values\n",
    "X3_train, X3_test, y3_train, y3_test = train_test_split(X3, y3, test_size=0.20, random_state=5)"
   ]
  },
  {
   "cell_type": "code",
   "execution_count": 131,
   "metadata": {},
   "outputs": [],
   "source": [
    "scaler.fit(X3_train)\n",
    "X3_train = scaler.transform(X3_train)\n",
    "X3_test = scaler.transform(X3_test)"
   ]
  },
  {
   "cell_type": "code",
   "execution_count": 132,
   "metadata": {},
   "outputs": [
    {
     "data": {
      "text/plain": [
       "RandomForestClassifier(bootstrap=True, class_weight=None, criterion='gini',\n",
       "            max_depth=3, max_features='auto', max_leaf_nodes=None,\n",
       "            min_impurity_decrease=0.0, min_impurity_split=None,\n",
       "            min_samples_leaf=10, min_samples_split=4,\n",
       "            min_weight_fraction_leaf=0.0, n_estimators=5, n_jobs=None,\n",
       "            oob_score=False, random_state=100, verbose=0, warm_start=False)"
      ]
     },
     "execution_count": 132,
     "metadata": {},
     "output_type": "execute_result"
    }
   ],
   "source": [
    "classifier3new = ensemble.RandomForestClassifier(\n",
    "    n_estimators=5,\n",
    "    random_state=100,\n",
    "    max_depth=3,\n",
    "    min_samples_split=4,\n",
    "    min_samples_leaf=10\n",
    "    )\n",
    "classifier3new.fit(X3_train, y3_train)"
   ]
  },
  {
   "cell_type": "code",
   "execution_count": 133,
   "metadata": {},
   "outputs": [],
   "source": [
    "y_pred3new = classifier3new.predict(X3_test)"
   ]
  },
  {
   "cell_type": "code",
   "execution_count": 134,
   "metadata": {},
   "outputs": [
    {
     "name": "stdout",
     "output_type": "stream",
     "text": [
      "0.6593406593406593\n"
     ]
    }
   ],
   "source": [
    "print(accuracy_score(y_pred3new, y3_test))"
   ]
  },
  {
   "cell_type": "code",
   "execution_count": 135,
   "metadata": {},
   "outputs": [
    {
     "name": "stdout",
     "output_type": "stream",
     "text": [
      "[0.68493151 0.75       0.70833333 0.66666667 0.76056338]\n"
     ]
    }
   ],
   "source": [
    "print(cross_val_score(classifier3new, X_train, y_train, cv=5))"
   ]
  },
  {
   "cell_type": "markdown",
   "metadata": {},
   "source": [
    "Amazing, we still have fantastic accuracy after reducing the amount of features."
   ]
  },
  {
   "cell_type": "markdown",
   "metadata": {},
   "source": [
    "### Linear SVM"
   ]
  },
  {
   "cell_type": "code",
   "execution_count": 136,
   "metadata": {},
   "outputs": [
    {
     "data": {
      "text/plain": [
       "SVC(C=1.0, cache_size=200, class_weight=None, coef0=0.0,\n",
       "  decision_function_shape='ovr', degree=3, gamma='auto_deprecated',\n",
       "  kernel='linear', max_iter=-1, probability=False, random_state=None,\n",
       "  shrinking=True, tol=0.001, verbose=False)"
      ]
     },
     "execution_count": 136,
     "metadata": {},
     "output_type": "execute_result"
    }
   ],
   "source": [
    "from sklearn.svm import SVC\n",
    "classifiersvm = SVC(kernel='linear')\n",
    "classifiersvm.fit(X_train, y_train)"
   ]
  },
  {
   "cell_type": "code",
   "execution_count": 137,
   "metadata": {},
   "outputs": [
    {
     "name": "stdout",
     "output_type": "stream",
     "text": [
      "0.6593406593406593\n"
     ]
    }
   ],
   "source": [
    "y_pred4 = classifiersvm.predict(X_test)\n",
    "svmacc = accuracy_score(y_pred4, y_test)\n",
    "print(svmacc)\n",
    "scores.append(svmacc)"
   ]
  },
  {
   "cell_type": "code",
   "execution_count": 138,
   "metadata": {},
   "outputs": [
    {
     "name": "stdout",
     "output_type": "stream",
     "text": [
      "[0.67032967 0.66666667 0.65555556 0.76666667 0.82222222]\n"
     ]
    }
   ],
   "source": [
    "lsvmcv = cross_val_score(classifiersvm, X, y, cv=5)\n",
    "print(lsvmcv)"
   ]
  },
  {
   "cell_type": "markdown",
   "metadata": {},
   "source": [
    "## Model evaluation and analysis"
   ]
  },
  {
   "cell_type": "code",
   "execution_count": 139,
   "metadata": {},
   "outputs": [
    {
     "name": "stdout",
     "output_type": "stream",
     "text": [
      "The result of all accuracy scores are:\n",
      "[0.7252747252747253, 0.6373626373626373, 0.6263736263736264, 0.6593406593406593, 0.6593406593406593]\n"
     ]
    }
   ],
   "source": [
    "print('The result of all accuracy scores are:\\n' + str(scores))"
   ]
  },
  {
   "cell_type": "code",
   "execution_count": 172,
   "metadata": {},
   "outputs": [
    {
     "data": {
      "image/png": "[encoded data removed]",
      "text/plain": [
       "<Figure size 720x360 with 1 Axes>"
      ]
     },
     "metadata": {
      "needs_background": "light"
     },
     "output_type": "display_data"
    }
   ],
   "source": [
    "plt.figure(figsize=(10,5))\n",
    "sns.barplot(x=models, y=scores, palette='GnBu_d')\n",
    "plt.title('Accuracy of Various Models')\n",
    "plt.xlabel('Model')\n",
    "plt.ylabel('Accuracy')\n",
    "plt.show()"
   ]
  },
  {
   "cell_type": "markdown",
   "metadata": {},
   "source": [
    "It appears that Naive Bayes is the most accurate model, but I'd like to see what the variance of each model are."
   ]
  },
  {
   "cell_type": "code",
   "execution_count": 141,
   "metadata": {},
   "outputs": [],
   "source": [
    "cvscores = {'Naive Bayes':gnbcv,\n",
    "           'KNN':knncv,\n",
    "           'Decition Tree':dtcv,\n",
    "           'Random Forest':rfcv,\n",
    "           'SVM':lsvmcv\n",
    "           }"
   ]
  },
  {
   "cell_type": "code",
   "execution_count": 142,
   "metadata": {},
   "outputs": [],
   "source": [
    "cvscoredf = pd.DataFrame.from_dict(cvscores)"
   ]
  },
  {
   "cell_type": "code",
   "execution_count": 143,
   "metadata": {},
   "outputs": [
    {
     "data": {
      "text/html": [
       "<div>\n",
       "<style scoped>\n",
       "    .dataframe tbody tr th:only-of-type {\n",
       "        vertical-align: middle;\n",
       "    }\n",
       "\n",
       "    .dataframe tbody tr th {\n",
       "        vertical-align: top;\n",
       "    }\n",
       "\n",
       "    .dataframe thead th {\n",
       "        text-align: right;\n",
       "    }\n",
       "</style>\n",
       "<table border=\"1\" class=\"dataframe\">\n",
       "  <thead>\n",
       "    <tr style=\"text-align: right;\">\n",
       "      <th></th>\n",
       "      <th>Naive Bayes</th>\n",
       "      <th>KNN</th>\n",
       "      <th>Decition Tree</th>\n",
       "      <th>Random Forest</th>\n",
       "      <th>SVM</th>\n",
       "    </tr>\n",
       "  </thead>\n",
       "  <tbody>\n",
       "    <tr>\n",
       "      <th>0</th>\n",
       "      <td>0.659341</td>\n",
       "      <td>0.648352</td>\n",
       "      <td>0.671233</td>\n",
       "      <td>0.648352</td>\n",
       "      <td>0.670330</td>\n",
       "    </tr>\n",
       "    <tr>\n",
       "      <th>1</th>\n",
       "      <td>0.622222</td>\n",
       "      <td>0.677778</td>\n",
       "      <td>0.750000</td>\n",
       "      <td>0.700000</td>\n",
       "      <td>0.666667</td>\n",
       "    </tr>\n",
       "    <tr>\n",
       "      <th>2</th>\n",
       "      <td>0.711111</td>\n",
       "      <td>0.644444</td>\n",
       "      <td>0.680556</td>\n",
       "      <td>0.644444</td>\n",
       "      <td>0.655556</td>\n",
       "    </tr>\n",
       "    <tr>\n",
       "      <th>3</th>\n",
       "      <td>0.744444</td>\n",
       "      <td>0.666667</td>\n",
       "      <td>0.652778</td>\n",
       "      <td>0.711111</td>\n",
       "      <td>0.766667</td>\n",
       "    </tr>\n",
       "    <tr>\n",
       "      <th>4</th>\n",
       "      <td>0.788889</td>\n",
       "      <td>0.700000</td>\n",
       "      <td>0.732394</td>\n",
       "      <td>0.655556</td>\n",
       "      <td>0.822222</td>\n",
       "    </tr>\n",
       "  </tbody>\n",
       "</table>\n",
       "</div>"
      ],
      "text/plain": [
       "   Naive Bayes       KNN  Decition Tree  Random Forest       SVM\n",
       "0     0.659341  0.648352       0.671233       0.648352  0.670330\n",
       "1     0.622222  0.677778       0.750000       0.700000  0.666667\n",
       "2     0.711111  0.644444       0.680556       0.644444  0.655556\n",
       "3     0.744444  0.666667       0.652778       0.711111  0.766667\n",
       "4     0.788889  0.700000       0.732394       0.655556  0.822222"
      ]
     },
     "execution_count": 143,
     "metadata": {},
     "output_type": "execute_result"
    }
   ],
   "source": [
    "cvscoredf"
   ]
  },
  {
   "cell_type": "code",
   "execution_count": 173,
   "metadata": {},
   "outputs": [
    {
     "data": {
      "image/png": "[encoded data removed]",
      "text/plain": [
       "<Figure size 720x360 with 1 Axes>"
      ]
     },
     "metadata": {
      "needs_background": "light"
     },
     "output_type": "display_data"
    }
   ],
   "source": [
    "plt.figure(figsize=(10,5))\n",
    "sns.boxplot(data=cvscoredf, palette='GnBu_d')\n",
    "plt.title('Box Plot of Cross Validation Scores')\n",
    "plt.ylabel('Accuracy')\n",
    "plt.show()"
   ]
  },
  {
   "cell_type": "markdown",
   "metadata": {},
   "source": [
    "## Hyperparameter Tuning for Random Forest"
   ]
  },
  {
   "cell_type": "code",
   "execution_count": 145,
   "metadata": {},
   "outputs": [
    {
     "name": "stderr",
     "output_type": "stream",
     "text": [
      "/Users/swang/anaconda3/lib/python3.6/site-packages/sklearn/model_selection/_search.py:841: DeprecationWarning: The default of the `iid` parameter will change from True to False in version 0.22 and will be removed in 0.24. This will change numeric results when test-set sizes are unequal.\n",
      "  DeprecationWarning)\n"
     ]
    },
    {
     "data": {
      "text/plain": [
       "GridSearchCV(cv=5, error_score='raise-deprecating',\n",
       "       estimator=RandomForestClassifier(bootstrap=True, class_weight=None, criterion='gini',\n",
       "            max_depth=None, max_features='auto', max_leaf_nodes=None,\n",
       "            min_impurity_decrease=0.0, min_impurity_split=None,\n",
       "            min_samples_leaf=1, min_samples_split=2,\n",
       "            min_weight_fraction_leaf=0.0, n_estimators='warn', n_jobs=None,\n",
       "            oob_score=False, random_state=None, verbose=0,\n",
       "            warm_start=False),\n",
       "       fit_params=None, iid='warn', n_jobs=None,\n",
       "       param_grid=[{'n_estimators': [5, 6, 7, 8, 9], 'max_features': [4, 6, 8, 10], 'random_state': [100, 200, 300], 'max_depth': [7, 9, 11], 'min_samples_split': [2, 3, 4], 'min_samples_leaf': [6, 8, 10]}],\n",
       "       pre_dispatch='2*n_jobs', refit=True, return_train_score='warn',\n",
       "       scoring='accuracy', verbose=0)"
      ]
     },
     "execution_count": 145,
     "metadata": {},
     "output_type": "execute_result"
    }
   ],
   "source": [
    "from sklearn.model_selection import GridSearchCV\n",
    "\n",
    "param_grid = [\n",
    "    {'n_estimators': [5, 6, 7, 8, 9], 'max_features': [4, 6, 8, 10], 'random_state': [100, 200, 300],\n",
    "    'max_depth':[7, 9, 11], 'min_samples_split': [2, 3, 4], 'min_samples_leaf':[6, 8, 10]}\n",
    "]\n",
    "\n",
    "rfclassifier = ensemble.RandomForestClassifier()\n",
    "\n",
    "grid_search = GridSearchCV(rfclassifier, param_grid, cv=5, scoring='accuracy')\n",
    "\n",
    "grid_search.fit(X3, y3)"
   ]
  },
  {
   "cell_type": "code",
   "execution_count": 146,
   "metadata": {},
   "outputs": [
    {
     "data": {
      "text/plain": [
       "{'max_depth': 9,\n",
       " 'max_features': 10,\n",
       " 'min_samples_leaf': 6,\n",
       " 'min_samples_split': 2,\n",
       " 'n_estimators': 5,\n",
       " 'random_state': 200}"
      ]
     },
     "execution_count": 146,
     "metadata": {},
     "output_type": "execute_result"
    }
   ],
   "source": [
    "grid_search.best_params_"
   ]
  },
  {
   "cell_type": "code",
   "execution_count": 147,
   "metadata": {},
   "outputs": [
    {
     "data": {
      "text/plain": [
       "RandomForestClassifier(bootstrap=True, class_weight=None, criterion='gini',\n",
       "            max_depth=9, max_features=10, max_leaf_nodes=None,\n",
       "            min_impurity_decrease=0.0, min_impurity_split=None,\n",
       "            min_samples_leaf=6, min_samples_split=2,\n",
       "            min_weight_fraction_leaf=0.0, n_estimators=5, n_jobs=None,\n",
       "            oob_score=False, random_state=200, verbose=0, warm_start=False)"
      ]
     },
     "execution_count": 147,
     "metadata": {},
     "output_type": "execute_result"
    }
   ],
   "source": [
    "grid_search.best_estimator_"
   ]
  },
  {
   "cell_type": "code",
   "execution_count": 148,
   "metadata": {},
   "outputs": [
    {
     "data": {
      "text/plain": [
       "RandomForestClassifier(bootstrap=True, class_weight=None, criterion='gini',\n",
       "            max_depth=9, max_features=10, max_leaf_nodes=None,\n",
       "            min_impurity_decrease=0.0, min_impurity_split=None,\n",
       "            min_samples_leaf=6, min_samples_split=2,\n",
       "            min_weight_fraction_leaf=0.0, n_estimators=5, n_jobs=None,\n",
       "            oob_score=False, random_state=200, verbose=0, warm_start=False)"
      ]
     },
     "execution_count": 148,
     "metadata": {},
     "output_type": "execute_result"
    }
   ],
   "source": [
    "classifierRFbest = ensemble.RandomForestClassifier(\n",
    "    n_estimators=5,\n",
    "    random_state=200,\n",
    "    max_depth=9,\n",
    "    max_features=10,\n",
    "    min_samples_split=2,\n",
    "    min_samples_leaf=6\n",
    "    )\n",
    "classifierRFbest.fit(X3_train, y3_train)"
   ]
  },
  {
   "cell_type": "code",
   "execution_count": 149,
   "metadata": {},
   "outputs": [],
   "source": [
    "y_predRFbest = classifierRFbest.predict(X3_test)"
   ]
  },
  {
   "cell_type": "code",
   "execution_count": 150,
   "metadata": {},
   "outputs": [
    {
     "name": "stdout",
     "output_type": "stream",
     "text": [
      "0.6153846153846154\n"
     ]
    }
   ],
   "source": [
    "scoreFE_RF = accuracy_score(y_predRFbest, y3_test)\n",
    "print(scoreFE_RF)"
   ]
  },
  {
   "cell_type": "code",
   "execution_count": 151,
   "metadata": {},
   "outputs": [
    {
     "name": "stdout",
     "output_type": "stream",
     "text": [
      "[[30 14]\n",
      " [21 26]]\n"
     ]
    }
   ],
   "source": [
    "#confusion matrix\n",
    "print(confusion_matrix(y_predRFbest, y3_test))"
   ]
  },
  {
   "cell_type": "code",
   "execution_count": 152,
   "metadata": {},
   "outputs": [
    {
     "name": "stdout",
     "output_type": "stream",
     "text": [
      "[0.81318681 0.77777778 0.73333333 0.76666667 0.75555556]\n"
     ]
    }
   ],
   "source": [
    "CVscoreFE_RF = cross_val_score(classifierRFbest, X3, y3, cv=5)\n",
    "print(CVscoreFE_RF)"
   ]
  },
  {
   "cell_type": "markdown",
   "metadata": {},
   "source": [
    "## Rerunning Dataset through other models with less features (Based on Feature Importance)"
   ]
  },
  {
   "cell_type": "code",
   "execution_count": 153,
   "metadata": {},
   "outputs": [
    {
     "name": "stdout",
     "output_type": "stream",
     "text": [
      "0.7142857142857143\n",
      "[0.67032967 0.67777778 0.71111111 0.77777778 0.76666667]\n"
     ]
    }
   ],
   "source": [
    "# 1. Naive Bayes feature engineering, with CV\n",
    "\n",
    "nbbest_classifier = GaussianNB()\n",
    "nbbest_classifier.fit(X3_train, y3_train)\n",
    "\n",
    "y_pred_nbbest = nbbest_classifier.predict(X3_test)\n",
    "\n",
    "scoreFE_NB = accuracy_score(y_pred_nbbest, y3_test)\n",
    "print(scoreFE_NB)\n",
    "\n",
    "CVscoreFE_NB = cross_val_score(nbbest_classifier, X3, y3, cv=5)\n",
    "print(CVscoreFE_NB)"
   ]
  },
  {
   "cell_type": "code",
   "execution_count": 196,
   "metadata": {},
   "outputs": [
    {
     "data": {
      "text/plain": [
       "GaussianNB(priors=None, var_smoothing=1e-09)"
      ]
     },
     "execution_count": 196,
     "metadata": {},
     "output_type": "execute_result"
    }
   ],
   "source": [
    "nbbest_classifier = GaussianNB()\n",
    "nbbest_classifier.fit(X3_train, y3_train)\n",
    "\n",
    "# read up and see what var_smoothing does"
   ]
  },
  {
   "cell_type": "code",
   "execution_count": 154,
   "metadata": {},
   "outputs": [
    {
     "name": "stdout",
     "output_type": "stream",
     "text": [
      "[[43 18]\n",
      " [ 8 22]]\n"
     ]
    }
   ],
   "source": [
    "print(confusion_matrix(y_pred_nbbest, y3_test))"
   ]
  },
  {
   "cell_type": "code",
   "execution_count": 155,
   "metadata": {},
   "outputs": [
    {
     "data": {
      "text/plain": [
       "KNeighborsClassifier(algorithm='auto', leaf_size=30, metric='minkowski',\n",
       "           metric_params=None, n_jobs=None, n_neighbors=5, p=2,\n",
       "           weights='uniform')"
      ]
     },
     "execution_count": 155,
     "metadata": {},
     "output_type": "execute_result"
    }
   ],
   "source": [
    "# 2. KNN feature engineered, with CV\n",
    "\n",
    "knnbest_classifier = KNeighborsClassifier(n_neighbors=5)\n",
    "knnbest_classifier.fit(X3_train, y3_train)"
   ]
  },
  {
   "cell_type": "code",
   "execution_count": 156,
   "metadata": {},
   "outputs": [
    {
     "data": {
      "text/plain": [
       "{'leaf_size': 10, 'n_neighbors': 5}"
      ]
     },
     "execution_count": 156,
     "metadata": {},
     "output_type": "execute_result"
    }
   ],
   "source": [
    "# 2a. KNN parameter search\n",
    "knn_param_grid = [\n",
    "    {'leaf_size': [10, 20, 30, 40, 50], 'n_neighbors': [2, 3, 4, 5, 6, 7]}\n",
    "]\n",
    "\n",
    "knn_grid_search = GridSearchCV(knnbest_classifier, knn_param_grid, cv=5, scoring='accuracy')\n",
    "\n",
    "knn_grid_search.fit(X3, y3)\n",
    "\n",
    "knn_grid_search.best_params_"
   ]
  },
  {
   "cell_type": "code",
   "execution_count": 157,
   "metadata": {},
   "outputs": [
    {
     "name": "stdout",
     "output_type": "stream",
     "text": [
      "0.6483516483516484\n",
      "[0.62637363 0.66666667 0.68888889 0.7        0.68888889]\n"
     ]
    }
   ],
   "source": [
    "# 2b. KNN prediction based on pest parameters\n",
    "knnbest_classifier = KNeighborsClassifier(n_neighbors=5, leaf_size=10)\n",
    "knnbest_classifier.fit(X3_train, y3_train)\n",
    "\n",
    "y_pred_knnbest = knnbest_classifier.predict(X3_test)\n",
    "\n",
    "scoreFE_KNN = accuracy_score(y_pred_knnbest, y3_test)\n",
    "print(scoreFE_KNN)\n",
    "\n",
    "CVscoreFE_KNN = cross_val_score(knnbest_classifier, X3, y3, cv=5)\n",
    "print(CVscoreFE_KNN)"
   ]
  },
  {
   "cell_type": "code",
   "execution_count": 158,
   "metadata": {},
   "outputs": [
    {
     "name": "stdout",
     "output_type": "stream",
     "text": [
      "[[43 24]\n",
      " [ 8 16]]\n"
     ]
    }
   ],
   "source": [
    "print(confusion_matrix(y_pred_knnbest, y3_test))"
   ]
  },
  {
   "cell_type": "code",
   "execution_count": 159,
   "metadata": {},
   "outputs": [
    {
     "data": {
      "text/plain": [
       "DecisionTreeClassifier(class_weight=None, criterion='gini', max_depth=3,\n",
       "            max_features=None, max_leaf_nodes=None,\n",
       "            min_impurity_decrease=0.0, min_impurity_split=None,\n",
       "            min_samples_leaf=5, min_samples_split=2,\n",
       "            min_weight_fraction_leaf=0.0, presort=False, random_state=100,\n",
       "            splitter='best')"
      ]
     },
     "execution_count": 159,
     "metadata": {},
     "output_type": "execute_result"
    }
   ],
   "source": [
    "# 3. Decision Tree, with feature engineering and CV\n",
    "dtbest_classifier = DecisionTreeClassifier()\n",
    "classifier2.fit(X3_train, y3_train)"
   ]
  },
  {
   "cell_type": "code",
   "execution_count": 160,
   "metadata": {},
   "outputs": [
    {
     "name": "stderr",
     "output_type": "stream",
     "text": [
      "/Users/swang/anaconda3/lib/python3.6/site-packages/sklearn/model_selection/_search.py:841: DeprecationWarning: The default of the `iid` parameter will change from True to False in version 0.22 and will be removed in 0.24. This will change numeric results when test-set sizes are unequal.\n",
      "  DeprecationWarning)\n"
     ]
    },
    {
     "data": {
      "text/plain": [
       "{'max_depth': 5, 'min_samples_leaf': 7, 'random_state': 400}"
      ]
     },
     "execution_count": 160,
     "metadata": {},
     "output_type": "execute_result"
    }
   ],
   "source": [
    "# 3a. Parameter Search\n",
    "dt_param_grid = [\n",
    "    {'random_state':[200, 300, 400, 500], 'max_depth':[1, 3, 5, 7, 9], 'min_samples_leaf':[1, 3, 5, 7, 9]}\n",
    "]\n",
    "\n",
    "dt_grid_search = GridSearchCV(dtbest_classifier, dt_param_grid, cv=5, scoring='accuracy')\n",
    "\n",
    "dt_grid_search.fit(X3, y3)\n",
    "\n",
    "dt_grid_search.best_params_"
   ]
  },
  {
   "cell_type": "code",
   "execution_count": 161,
   "metadata": {},
   "outputs": [
    {
     "name": "stdout",
     "output_type": "stream",
     "text": [
      "0.6153846153846154\n",
      "[0.78021978 0.74444444 0.63333333 0.7        0.67777778]\n"
     ]
    }
   ],
   "source": [
    "# 3b. DT with best params\n",
    "dtbest_classifier = DecisionTreeClassifier(\n",
    "    max_depth=5,\n",
    "    min_samples_leaf=7,\n",
    "    random_state=400\n",
    ")\n",
    "dtbest_classifier.fit(X3_train, y3_train)\n",
    "\n",
    "y_pred_dtbest = dtbest_classifier.predict(X3_test)\n",
    "\n",
    "scoreFE_DT = accuracy_score(y_pred_dtbest, y3_test)\n",
    "CVscoreFE_DT = cross_val_score(dtbest_classifier, X3, y3, cv=5)\n",
    "\n",
    "print(scoreFE_DT)\n",
    "print(CVscoreFE_DT)"
   ]
  },
  {
   "cell_type": "code",
   "execution_count": 162,
   "metadata": {},
   "outputs": [
    {
     "name": "stdout",
     "output_type": "stream",
     "text": [
      "[[33 17]\n",
      " [18 23]]\n"
     ]
    }
   ],
   "source": [
    "print(confusion_matrix(y_pred_dtbest, y3_test))"
   ]
  },
  {
   "cell_type": "code",
   "execution_count": 163,
   "metadata": {},
   "outputs": [
    {
     "name": "stdout",
     "output_type": "stream",
     "text": [
      "0.6153846153846154\n",
      "[0.81318681 0.77777778 0.73333333 0.76666667 0.75555556]\n",
      "[[30 14]\n",
      " [21 26]]\n"
     ]
    }
   ],
   "source": [
    "# 4. Random Forest (done earlier)\n",
    "print(scoreFE_RF)\n",
    "print(CVscoreFE_RF)\n",
    "\n",
    "print(confusion_matrix(y_predRFbest, y3_test))"
   ]
  },
  {
   "cell_type": "code",
   "execution_count": 164,
   "metadata": {},
   "outputs": [
    {
     "data": {
      "text/plain": [
       "SVC(C=1.0, cache_size=200, class_weight=None, coef0=0.0,\n",
       "  decision_function_shape='ovr', degree=3, gamma='auto_deprecated',\n",
       "  kernel='linear', max_iter=-1, probability=False, random_state=None,\n",
       "  shrinking=True, tol=0.001, verbose=False)"
      ]
     },
     "execution_count": 164,
     "metadata": {},
     "output_type": "execute_result"
    }
   ],
   "source": [
    "# 5. Linear SVM, with engineered features and CV\n",
    "svcbest_classifier = SVC(kernel='linear')\n",
    "svcbest_classifier.fit(X3_train, y3_train)"
   ]
  },
  {
   "cell_type": "code",
   "execution_count": 190,
   "metadata": {},
   "outputs": [
    {
     "data": {
      "text/plain": [
       "{'C': 0.5, 'degree': 2, 'tol': 0.01}"
      ]
     },
     "execution_count": 190,
     "metadata": {},
     "output_type": "execute_result"
    }
   ],
   "source": [
    "# 5a. Hyperparameter Search\n",
    "svc_param_grid = [\n",
    "    {'C':[0.5, 1, 2, 4], 'degree':[2, 3, 4], 'tol':[0.01, 0.001, 0.0005]}\n",
    "]\n",
    "\n",
    "svc_grid_search = GridSearchCV(svcbest_classifier, svc_param_grid, cv=5, scoring='accuracy')\n",
    "\n",
    "svc_grid_search.fit(X3, y3)\n",
    "\n",
    "svc_grid_search.best_params_"
   ]
  },
  {
   "cell_type": "code",
   "execution_count": 191,
   "metadata": {},
   "outputs": [
    {
     "data": {
      "text/plain": [
       "SVC(C=0.5, cache_size=200, class_weight=None, coef0=0.0,\n",
       "  decision_function_shape='ovr', degree=2, gamma='auto_deprecated',\n",
       "  kernel='linear', max_iter=-1, probability=False, random_state=None,\n",
       "  shrinking=True, tol=0.01, verbose=False)"
      ]
     },
     "execution_count": 191,
     "metadata": {},
     "output_type": "execute_result"
    }
   ],
   "source": [
    "# 5b. Running with Best hyperparameters\n",
    "svcbest_classifier = SVC(kernel='linear', C=0.5, degree=2, tol=0.01)\n",
    "svcbest_classifier.fit(X3_train, y3_train)"
   ]
  },
  {
   "cell_type": "code",
   "execution_count": 192,
   "metadata": {},
   "outputs": [
    {
     "name": "stdout",
     "output_type": "stream",
     "text": [
      "0.6703296703296703\n",
      "[0.7032967  0.7        0.68888889 0.74444444 0.83333333]\n"
     ]
    }
   ],
   "source": [
    "y_pred_svcbest = svcbest_classifier.predict(X3_test)\n",
    "\n",
    "scoreFE_SVC = accuracy_score(y_pred_svcbest, y3_test)\n",
    "CVscoreFE_SVC = cross_val_score(svcbest_classifier, X3, y3, cv=5)\n",
    "\n",
    "print(scoreFE_SVC)\n",
    "print(CVscoreFE_SVC)"
   ]
  },
  {
   "cell_type": "code",
   "execution_count": 193,
   "metadata": {},
   "outputs": [
    {
     "name": "stdout",
     "output_type": "stream",
     "text": [
      "[[40 19]\n",
      " [11 21]]\n"
     ]
    }
   ],
   "source": [
    "print(confusion_matrix(y_pred_svcbest, y3_test))"
   ]
  },
  {
   "cell_type": "markdown",
   "metadata": {},
   "source": [
    "## Evaluation of Feature Engineered Models"
   ]
  },
  {
   "cell_type": "code",
   "execution_count": 213,
   "metadata": {},
   "outputs": [],
   "source": [
    "cvscoresFE = {'Naive Bayes':CVscoreFE_NB,\n",
    "           'KNN':CVscoreFE_KNN,\n",
    "           'Decision Tree':CVscoreFE_DT,\n",
    "           'Random Forest':CVscoreFE_RF,\n",
    "           'SVM':CVscoreFE_SVC\n",
    "           }"
   ]
  },
  {
   "cell_type": "code",
   "execution_count": 215,
   "metadata": {},
   "outputs": [],
   "source": [
    "df_CVscoreFE = pd.DataFrame.from_dict(cvscoresFE)"
   ]
  },
  {
   "cell_type": "code",
   "execution_count": 194,
   "metadata": {},
   "outputs": [
    {
     "data": {
      "image/png": "[encoded data removed]",
      "text/plain": [
       "<Figure size 720x360 with 1 Axes>"
      ]
     },
     "metadata": {
      "needs_background": "light"
     },
     "output_type": "display_data"
    }
   ],
   "source": [
    "scoresFE = [scoreFE_NB, scoreFE_KNN, scoreFE_DT, scoreFE_RF, scoreFE_SVC]\n",
    "\n",
    "plt.figure(figsize=(10,5))\n",
    "sns.barplot(x=models, y=scoresFE, palette='GnBu_d')\n",
    "plt.title('Accuracy of Various Models')\n",
    "plt.xlabel('Model')\n",
    "plt.ylabel('Accuracy')\n",
    "plt.show()"
   ]
  },
  {
   "cell_type": "code",
   "execution_count": 216,
   "metadata": {},
   "outputs": [
    {
     "data": {
      "image/png": "[encoded data removed]",
      "text/plain": [
       "<Figure size 720x360 with 1 Axes>"
      ]
     },
     "metadata": {
      "needs_background": "light"
     },
     "output_type": "display_data"
    }
   ],
   "source": [
    "plt.figure(figsize=(10,5))\n",
    "sns.boxplot(data=df_CVscoreFE, palette='pastel')\n",
    "plt.title('Box Plot of Cross Validation Scores')\n",
    "plt.ylabel('Accuracy')\n",
    "plt.show()"
   ]
  },
  {
   "cell_type": "code",
   "execution_count": 204,
   "metadata": {},
   "outputs": [
    {
     "data": {
      "text/html": [
       "<div>\n",
       "<style scoped>\n",
       "    .dataframe tbody tr th:only-of-type {\n",
       "        vertical-align: middle;\n",
       "    }\n",
       "\n",
       "    .dataframe tbody tr th {\n",
       "        vertical-align: top;\n",
       "    }\n",
       "\n",
       "    .dataframe thead th {\n",
       "        text-align: right;\n",
       "    }\n",
       "</style>\n",
       "<table border=\"1\" class=\"dataframe\">\n",
       "  <thead>\n",
       "    <tr style=\"text-align: right;\">\n",
       "      <th></th>\n",
       "      <th>model</th>\n",
       "      <th>falseneg</th>\n",
       "    </tr>\n",
       "  </thead>\n",
       "  <tbody>\n",
       "    <tr>\n",
       "      <th>0</th>\n",
       "      <td>Naive Bayes</td>\n",
       "      <td>8</td>\n",
       "    </tr>\n",
       "    <tr>\n",
       "      <th>1</th>\n",
       "      <td>KNN</td>\n",
       "      <td>8</td>\n",
       "    </tr>\n",
       "    <tr>\n",
       "      <th>2</th>\n",
       "      <td>Decision Tree</td>\n",
       "      <td>18</td>\n",
       "    </tr>\n",
       "    <tr>\n",
       "      <th>3</th>\n",
       "      <td>Random Forest</td>\n",
       "      <td>21</td>\n",
       "    </tr>\n",
       "    <tr>\n",
       "      <th>4</th>\n",
       "      <td>SVM</td>\n",
       "      <td>11</td>\n",
       "    </tr>\n",
       "  </tbody>\n",
       "</table>\n",
       "</div>"
      ],
      "text/plain": [
       "           model  falseneg\n",
       "0    Naive Bayes         8\n",
       "1            KNN         8\n",
       "2  Decision Tree        18\n",
       "3  Random Forest        21\n",
       "4            SVM        11"
      ]
     },
     "execution_count": 204,
     "metadata": {},
     "output_type": "execute_result"
    }
   ],
   "source": [
    "falseneg = [8, 8, 18, 21, 11]\n",
    "falsenegdf = pd.DataFrame(data=falseneg)\n",
    "modelsdf = pd.DataFrame(data=models)\n",
    "falsenegall = pd.concat([modelsdf, falsenegdf], axis=1)\n",
    "falsenegall.columns = ['model', 'falseneg']\n",
    "falsenegall"
   ]
  },
  {
   "cell_type": "code",
   "execution_count": 212,
   "metadata": {},
   "outputs": [
    {
     "data": {
      "image/png": "[encoded data removed]",
      "text/plain": [
       "<Figure size 720x360 with 1 Axes>"
      ]
     },
     "metadata": {
      "needs_background": "light"
     },
     "output_type": "display_data"
    }
   ],
   "source": [
    "plt.figure(figsize=(10,5))\n",
    "sns.barplot(x=models, y=falseneg, palette='cubehelix')\n",
    "plt.title('Number of False Negatives for Each Model')\n",
    "plt.xlabel('Model')\n",
    "plt.ylabel('False Negatives')\n",
    "plt.show()"
   ]
  },
  {
   "cell_type": "markdown",
   "metadata": {},
   "source": [
    "## Conclusions\n",
    "It's hard to determine which is the best model to use. Naive Bayes seems to have the greatest accuracy at 78.0% with the least amount of false positives, however, on cross validation Naive Bayes tends to show greater variance. Other models with low false positives are KNN, and support vector machines. KNN appears to have high accuracy as well at 75.6% with less variance during cross validation. However, CV accuracy score is the lowest for KNN. SVM seems to be somewhere in between.\n",
    "\n",
    "Both Decision Tree and Random Forest do not appear to be acceptable due to the higher number of false positives, 11 and 17 respectively, even though Random Forest has a particularly high accuracy and low variance in cross validation.\n",
    "\n",
    "#### Areas of Improvement\n",
    "76% accuracy, however, would not be clinically useful in practice. A few barriers exist with this model.\n",
    "1. The dataset is too small. With only 452 patients, and a near even distribution of arrhythmia to non-arrhythmia, more data would be helpful in improving the accuracy of this model. It would likely help reduce the variance between the different models during cross validation (as folds would have more data to generalize) and be more helpful in deciding which is best model to use.\n",
    "2. The dataset contains a wide range of arrhythmias. Because of the size of our dataset, all arrhythmias were clustered together in a binary fashion. However, arrhythmia should be treated as a multi-classification problem. There simply were not enough of each type of arrythmia to accurately classify each. Different arrhythmias exist on separate parts of the heart's waveform and will have very different clinical treatments and outcome. This model cannot distinguish between A-Fib and a STEMI which occur on opposite ends of the heart (as well as the waveform).\n",
    "3. The model could have more features. Information from labwork, patient medical history, family medical history, pain type, blood pressure, radiology scans, etc. are all things a clinician would use to create a differential diagnosis. More data from these areas could help this model more accurately determine the type of arrythmia."
   ]
  },
  {
   "cell_type": "markdown",
   "metadata": {},
   "source": [
    "## References\n",
    "\n",
    "1. Choe J, Cha K, Choi J, et. al. The effects of prearrival direct notification call to interventional cardiologist on door-to-balloon time in patients who required secondary diversion with ST-elevation myocardial infarction for primary percutaneous coronary intervention. Hong Kong Journal of Emergency Medicine. 2018. https://journals.sagepub.com/doi/10.1177/1024907918794782\n",
    "\n",
    "2. Fergusson DJ, Spies C, Hong RA, Young C, Beauvallet SR. Door-to-balloon time in acute ST segment elevation myocardial infarction--further experience. Hawaii J Med Public Health. 2012;71(11):320–323. https://www.ncbi.nlm.nih.gov/pmc/articles/PMC3497916/\n",
    "\n",
    "3. Menees D, Peterson E, Wang Y, Curtis J, et. al. Door-to-Balloon Time and Mortality among Patients Undergoing Primary PCI. New England Journal of Medicine. 2013;369:901-909. https://www.nejm.org/doi/full/10.1056/NEJMoa1208200#article_citing_articles\n",
    "\n",
    "4. Yamada T, Takahashi A, Mizuguchi Y, Hashimoto S, et. al. Impact of shorter door-to-balloon time on prognosis of patients with STEMI - single-center analysis with a large proportion of the patients treated within 30 min. 2019;34:97-104. https://link.springer.com/article/10.1007%2Fs12928-018-0521-1\n",
    "\n"
   ]
  },
  {
   "cell_type": "code",
   "execution_count": null,
   "metadata": {},
   "outputs": [],
   "source": []
  }
 ],
 "metadata": {
  "kernelspec": {
   "display_name": "Python 3",
   "language": "python",
   "name": "python3"
  },
  "language_info": {
   "codemirror_mode": {
    "name": "ipython",
    "version": 3
   },
   "file_extension": ".py",
   "mimetype": "text/x-python",
   "name": "python",
   "nbconvert_exporter": "python",
   "pygments_lexer": "ipython3",
   "version": "3.6.8"
  }
 },
 "nbformat": 4,
 "nbformat_minor": 2
}
